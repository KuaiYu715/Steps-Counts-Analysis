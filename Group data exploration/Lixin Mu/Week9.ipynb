{
  "nbformat": 4,
  "nbformat_minor": 0,
  "metadata": {
    "colab": {
      "provenance": []
    },
    "kernelspec": {
      "name": "python3",
      "display_name": "Python 3"
    },
    "language_info": {
      "name": "python"
    }
  },
  "cells": [
    {
      "cell_type": "markdown",
      "source": [
        "Continuing cleaning the data"
      ],
      "metadata": {
        "id": "PHNtS7yOIswb"
      }
    },
    {
      "cell_type": "code",
      "execution_count": null,
      "metadata": {
        "id": "QUoEcpOyHm1m"
      },
      "outputs": [],
      "source": [
        "from IPython.display import HTML, display\n",
        "\n",
        "import statsmodels.api as sm\n",
        "from statsmodels.formula.api import ols\n",
        "from statsmodels.sandbox.regression.predstd import wls_prediction_std\n",
        "\n",
        "import matplotlib.pyplot as plt\n",
        "import seaborn as sns\n",
        "%matplotlib inline\n",
        "sns.set_style(\"darkgrid\")\n",
        "\n",
        "import pandas as pd\n",
        "import numpy as np"
      ]
    },
    {
      "cell_type": "code",
      "source": [
        "new_data=pd.read_csv(\"/content/drive/MyDrive/newdata_update.csv\")\n",
        "new_data"
      ],
      "metadata": {
        "id": "ca3nm2o5Hn8C"
      },
      "execution_count": null,
      "outputs": []
    },
    {
      "cell_type": "markdown",
      "source": [
        "Sort and Rename"
      ],
      "metadata": {
        "id": "_zqvf3ZnJBdI"
      }
    },
    {
      "cell_type": "code",
      "source": [
        "new_data=new_data.rename(columns={\"Date\":\"Week\",\"Count\":\"Count\"})\n",
        "new_data.sort_values(by=['Week'], inplace=True)\n",
        "mdata=new_data"
      ],
      "metadata": {
        "id": "jWPqHVdUH7bK"
      },
      "execution_count": null,
      "outputs": []
    },
    {
      "cell_type": "markdown",
      "source": [
        "Create the dataframe"
      ],
      "metadata": {
        "id": "eF2yIOxMJEXT"
      }
    },
    {
      "cell_type": "code",
      "source": [
        "array1 = pd.to_numeric(mdata[\"Count\"])\n",
        "list1 = array1.tolist()\n",
        "list2 = [int(x) for x in list1]\n",
        "list2.insert(0,np.NaN)\n",
        "list2.pop()\n",
        "week = list(range(1,36))\n",
        "dic1 = {\"Week\": week, \"Count2\":list2}\n",
        "array2 = DataFrame(dic1)\n",
        "array2\n",
        "alist = []\n",
        "for i in array2[\"Count2\"] :\n",
        "  alist.append(i)\n",
        "dicb = { \"Week\": week,\"Count2\":alist}\n",
        "array4 = DataFrame(dicb)\n",
        "array4\n",
        "blist = []\n",
        "for i in mdata[\"Count\"] :\n",
        "  blist.append(i)\n",
        "dica = { \"Count1\":blist}\n",
        "array3 = DataFrame(dica)\n",
        "array3"
      ],
      "metadata": {
        "id": "EQjx3fiDICXj"
      },
      "execution_count": null,
      "outputs": []
    },
    {
      "cell_type": "markdown",
      "source": [
        "Bulid the half-iterate model"
      ],
      "metadata": {
        "id": "5Eu4Gw7hJiYk"
      }
    },
    {
      "cell_type": "code",
      "source": [
        "step_model = ols(\"Count1 ~ Count2\n",
        "                          +\", data=adata).fit()"
      ],
      "metadata": {
        "id": "myxqb2f3Ii1u"
      },
      "execution_count": null,
      "outputs": []
    },
    {
      "cell_type": "code",
      "source": [
        "step_summary = step_model.summary()"
      ],
      "metadata": {
        "id": "5Nq67WsSImX_"
      },
      "execution_count": null,
      "outputs": []
    },
    {
      "cell_type": "code",
      "source": [
        "HTML(\n",
        "(step_summary\n",
        "    .as_html()\n",
        "    .replace('<th>  Adj. R-squared:    </th>', '<th style=\"background-color:#aec7e8;\"> Adj. R-squared: </th>')\n",
        "    .replace('<th>coef</th>', '<th style=\"background-color:#ffbb78;\">coef</th>')\n",
        "    .replace('<th>std err</th>', '<th style=\"background-color:#c7e9c0;\">std err</th>')\n",
        "    .replace('<th>P>|t|</th>', '<th style=\"background-color:#bcbddc;\">P>|t|</th>')\n",
        "    .replace('<th>[0.025</th>    <th>0.975]</th>', '<th style=\"background-color:#ff9896;\">[0.025</th>    <th style=\"background-color:#ff9896;\">0.975]</th>'))\n",
        ")"
      ],
      "metadata": {
        "id": "xFo-wwDgIrIb"
      },
      "execution_count": null,
      "outputs": []
    }
  ]
}