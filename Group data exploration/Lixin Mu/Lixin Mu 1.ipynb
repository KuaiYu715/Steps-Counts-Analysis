{
 "cells": [
  {
   "cell_type": "markdown",
   "id": "5d90f932",
   "metadata": {},
   "source": [
    "## Setup"
   ]
  },
  {
   "cell_type": "markdown",
   "id": "b9f1771a",
   "metadata": {},
   "source": [
    "import the corresponding packages in order to clean data."
   ]
  },
  {
   "cell_type": "code",
   "execution_count": 2,
   "id": "07cb07c4",
   "metadata": {},
   "outputs": [],
   "source": [
    "import pandas as pd\n",
    "import numpy as np\n",
    "import matplotlib.pyplot as plt"
   ]
  },
  {
   "cell_type": "markdown",
   "id": "9582b79e",
   "metadata": {},
   "source": [
    "read the data"
   ]
  },
  {
   "cell_type": "code",
   "execution_count": 3,
   "id": "031e15e3",
   "metadata": {},
   "outputs": [],
   "source": [
    "data2=pd.read_csv('/Users/Lixin/Desktop/Dataset2.csv')"
   ]
  },
  {
   "cell_type": "code",
   "execution_count": 4,
   "id": "8d50cf2c",
   "metadata": {},
   "outputs": [
    {
     "data": {
      "text/html": [
       "<div>\n",
       "<style scoped>\n",
       "    .dataframe tbody tr th:only-of-type {\n",
       "        vertical-align: middle;\n",
       "    }\n",
       "\n",
       "    .dataframe tbody tr th {\n",
       "        vertical-align: top;\n",
       "    }\n",
       "\n",
       "    .dataframe thead th {\n",
       "        text-align: right;\n",
       "    }\n",
       "</style>\n",
       "<table border=\"1\" class=\"dataframe\">\n",
       "  <thead>\n",
       "    <tr style=\"text-align: right;\">\n",
       "      <th></th>\n",
       "      <th>Source</th>\n",
       "      <th>Date</th>\n",
       "      <th>Hour</th>\n",
       "      <th>Count</th>\n",
       "    </tr>\n",
       "  </thead>\n",
       "  <tbody>\n",
       "    <tr>\n",
       "      <th>0</th>\n",
       "      <td>P2 Phone</td>\n",
       "      <td>2022-01-01</td>\n",
       "      <td>5</td>\n",
       "      <td>31</td>\n",
       "    </tr>\n",
       "    <tr>\n",
       "      <th>1</th>\n",
       "      <td>P2’s Apple Watch</td>\n",
       "      <td>2021-12-31</td>\n",
       "      <td>21</td>\n",
       "      <td>20</td>\n",
       "    </tr>\n",
       "    <tr>\n",
       "      <th>2</th>\n",
       "      <td>P2’s Apple Watch</td>\n",
       "      <td>2021-12-31</td>\n",
       "      <td>21</td>\n",
       "      <td>16</td>\n",
       "    </tr>\n",
       "    <tr>\n",
       "      <th>3</th>\n",
       "      <td>P2’s Apple Watch</td>\n",
       "      <td>2022-01-01</td>\n",
       "      <td>5</td>\n",
       "      <td>29</td>\n",
       "    </tr>\n",
       "    <tr>\n",
       "      <th>4</th>\n",
       "      <td>P2’s Apple Watch</td>\n",
       "      <td>2022-01-01</td>\n",
       "      <td>5</td>\n",
       "      <td>13</td>\n",
       "    </tr>\n",
       "    <tr>\n",
       "      <th>...</th>\n",
       "      <td>...</td>\n",
       "      <td>...</td>\n",
       "      <td>...</td>\n",
       "      <td>...</td>\n",
       "    </tr>\n",
       "    <tr>\n",
       "      <th>31633</th>\n",
       "      <td>P2 Phone</td>\n",
       "      <td>2022-09-01</td>\n",
       "      <td>19</td>\n",
       "      <td>498</td>\n",
       "    </tr>\n",
       "    <tr>\n",
       "      <th>31634</th>\n",
       "      <td>P2 Phone</td>\n",
       "      <td>2022-09-01</td>\n",
       "      <td>19</td>\n",
       "      <td>26</td>\n",
       "    </tr>\n",
       "    <tr>\n",
       "      <th>31635</th>\n",
       "      <td>P2’s Apple Watch</td>\n",
       "      <td>2022-09-01</td>\n",
       "      <td>19</td>\n",
       "      <td>110</td>\n",
       "    </tr>\n",
       "    <tr>\n",
       "      <th>31636</th>\n",
       "      <td>P2 Phone</td>\n",
       "      <td>2022-09-01</td>\n",
       "      <td>20</td>\n",
       "      <td>21</td>\n",
       "    </tr>\n",
       "    <tr>\n",
       "      <th>31637</th>\n",
       "      <td>P2’s Apple Watch</td>\n",
       "      <td>2022-09-01</td>\n",
       "      <td>20</td>\n",
       "      <td>76</td>\n",
       "    </tr>\n",
       "  </tbody>\n",
       "</table>\n",
       "<p>31638 rows × 4 columns</p>\n",
       "</div>"
      ],
      "text/plain": [
       "                 Source        Date  Hour  Count\n",
       "0              P2 Phone  2022-01-01     5     31\n",
       "1      P2’s Apple Watch  2021-12-31    21     20\n",
       "2      P2’s Apple Watch  2021-12-31    21     16\n",
       "3      P2’s Apple Watch  2022-01-01     5     29\n",
       "4      P2’s Apple Watch  2022-01-01     5     13\n",
       "...                 ...         ...   ...    ...\n",
       "31633          P2 Phone  2022-09-01    19    498\n",
       "31634          P2 Phone  2022-09-01    19     26\n",
       "31635  P2’s Apple Watch  2022-09-01    19    110\n",
       "31636          P2 Phone  2022-09-01    20     21\n",
       "31637  P2’s Apple Watch  2022-09-01    20     76\n",
       "\n",
       "[31638 rows x 4 columns]"
      ]
     },
     "execution_count": 4,
     "metadata": {},
     "output_type": "execute_result"
    }
   ],
   "source": [
    "data2"
   ]
  },
  {
   "cell_type": "markdown",
   "id": "6cb8ae9b",
   "metadata": {},
   "source": [
    "make a copy of the data"
   ]
  },
  {
   "cell_type": "code",
   "execution_count": 5,
   "id": "6085a74e",
   "metadata": {},
   "outputs": [],
   "source": [
    "copy_data=data2"
   ]
  },
  {
   "cell_type": "markdown",
   "id": "eb7a026c",
   "metadata": {},
   "source": [
    "Due to immutability of raw data principle, we should never alter the raw data and always make a copy."
   ]
  },
  {
   "cell_type": "markdown",
   "id": "85848ee2",
   "metadata": {},
   "source": [
    "## Data cleaning"
   ]
  },
  {
   "cell_type": "markdown",
   "id": "4b10b39a",
   "metadata": {},
   "source": [
    "Fill the missing values with 0\n"
   ]
  },
  {
   "cell_type": "code",
   "execution_count": 6,
   "id": "82bf2fd3",
   "metadata": {},
   "outputs": [],
   "source": [
    "copy_data['Count'].fillna(0,inplace=True)"
   ]
  },
  {
   "cell_type": "markdown",
   "id": "9da635d6",
   "metadata": {},
   "source": [
    "Sort the date in a ascending order."
   ]
  },
  {
   "cell_type": "code",
   "execution_count": 7,
   "id": "5eeee8c6",
   "metadata": {},
   "outputs": [],
   "source": [
    "copy_data.sort_values(by=['Date'], inplace=True)"
   ]
  },
  {
   "cell_type": "code",
   "execution_count": 8,
   "id": "b5232b50",
   "metadata": {},
   "outputs": [
    {
     "data": {
      "text/html": [
       "<div>\n",
       "<style scoped>\n",
       "    .dataframe tbody tr th:only-of-type {\n",
       "        vertical-align: middle;\n",
       "    }\n",
       "\n",
       "    .dataframe tbody tr th {\n",
       "        vertical-align: top;\n",
       "    }\n",
       "\n",
       "    .dataframe thead th {\n",
       "        text-align: right;\n",
       "    }\n",
       "</style>\n",
       "<table border=\"1\" class=\"dataframe\">\n",
       "  <thead>\n",
       "    <tr style=\"text-align: right;\">\n",
       "      <th></th>\n",
       "      <th>Source</th>\n",
       "      <th>Date</th>\n",
       "      <th>Hour</th>\n",
       "      <th>Count</th>\n",
       "    </tr>\n",
       "  </thead>\n",
       "  <tbody>\n",
       "    <tr>\n",
       "      <th>29422</th>\n",
       "      <td>P2’s iPhone</td>\n",
       "      <td>2021-10-08</td>\n",
       "      <td>12</td>\n",
       "      <td>41</td>\n",
       "    </tr>\n",
       "    <tr>\n",
       "      <th>1</th>\n",
       "      <td>P2’s Apple Watch</td>\n",
       "      <td>2021-12-31</td>\n",
       "      <td>21</td>\n",
       "      <td>20</td>\n",
       "    </tr>\n",
       "    <tr>\n",
       "      <th>2</th>\n",
       "      <td>P2’s Apple Watch</td>\n",
       "      <td>2021-12-31</td>\n",
       "      <td>21</td>\n",
       "      <td>16</td>\n",
       "    </tr>\n",
       "    <tr>\n",
       "      <th>0</th>\n",
       "      <td>P2 Phone</td>\n",
       "      <td>2022-01-01</td>\n",
       "      <td>5</td>\n",
       "      <td>31</td>\n",
       "    </tr>\n",
       "    <tr>\n",
       "      <th>69</th>\n",
       "      <td>P2 Phone</td>\n",
       "      <td>2022-01-01</td>\n",
       "      <td>17</td>\n",
       "      <td>119</td>\n",
       "    </tr>\n",
       "    <tr>\n",
       "      <th>...</th>\n",
       "      <td>...</td>\n",
       "      <td>...</td>\n",
       "      <td>...</td>\n",
       "      <td>...</td>\n",
       "    </tr>\n",
       "    <tr>\n",
       "      <th>31547</th>\n",
       "      <td>P2’s Apple Watch</td>\n",
       "      <td>2022-09-01</td>\n",
       "      <td>8</td>\n",
       "      <td>22</td>\n",
       "    </tr>\n",
       "    <tr>\n",
       "      <th>31546</th>\n",
       "      <td>P2’s Apple Watch</td>\n",
       "      <td>2022-09-01</td>\n",
       "      <td>8</td>\n",
       "      <td>2</td>\n",
       "    </tr>\n",
       "    <tr>\n",
       "      <th>31545</th>\n",
       "      <td>P2’s Apple Watch</td>\n",
       "      <td>2022-09-01</td>\n",
       "      <td>8</td>\n",
       "      <td>15</td>\n",
       "    </tr>\n",
       "    <tr>\n",
       "      <th>31558</th>\n",
       "      <td>P2’s Apple Watch</td>\n",
       "      <td>2022-09-01</td>\n",
       "      <td>11</td>\n",
       "      <td>29</td>\n",
       "    </tr>\n",
       "    <tr>\n",
       "      <th>31637</th>\n",
       "      <td>P2’s Apple Watch</td>\n",
       "      <td>2022-09-01</td>\n",
       "      <td>20</td>\n",
       "      <td>76</td>\n",
       "    </tr>\n",
       "  </tbody>\n",
       "</table>\n",
       "<p>31638 rows × 4 columns</p>\n",
       "</div>"
      ],
      "text/plain": [
       "                 Source        Date  Hour  Count\n",
       "29422       P2’s iPhone  2021-10-08    12     41\n",
       "1      P2’s Apple Watch  2021-12-31    21     20\n",
       "2      P2’s Apple Watch  2021-12-31    21     16\n",
       "0              P2 Phone  2022-01-01     5     31\n",
       "69             P2 Phone  2022-01-01    17    119\n",
       "...                 ...         ...   ...    ...\n",
       "31547  P2’s Apple Watch  2022-09-01     8     22\n",
       "31546  P2’s Apple Watch  2022-09-01     8      2\n",
       "31545  P2’s Apple Watch  2022-09-01     8     15\n",
       "31558  P2’s Apple Watch  2022-09-01    11     29\n",
       "31637  P2’s Apple Watch  2022-09-01    20     76\n",
       "\n",
       "[31638 rows x 4 columns]"
      ]
     },
     "execution_count": 8,
     "metadata": {},
     "output_type": "execute_result"
    }
   ],
   "source": [
    "copy_data"
   ]
  },
  {
   "cell_type": "markdown",
   "id": "30aa51d8",
   "metadata": {},
   "source": [
    "Remove outliers"
   ]
  },
  {
   "cell_type": "code",
   "execution_count": 9,
   "id": "9db8edea",
   "metadata": {},
   "outputs": [],
   "source": [
    "copy_data=copy_data.iloc[3:]"
   ]
  },
  {
   "cell_type": "code",
   "execution_count": 10,
   "id": "8e3628dd",
   "metadata": {},
   "outputs": [
    {
     "data": {
      "text/html": [
       "<div>\n",
       "<style scoped>\n",
       "    .dataframe tbody tr th:only-of-type {\n",
       "        vertical-align: middle;\n",
       "    }\n",
       "\n",
       "    .dataframe tbody tr th {\n",
       "        vertical-align: top;\n",
       "    }\n",
       "\n",
       "    .dataframe thead th {\n",
       "        text-align: right;\n",
       "    }\n",
       "</style>\n",
       "<table border=\"1\" class=\"dataframe\">\n",
       "  <thead>\n",
       "    <tr style=\"text-align: right;\">\n",
       "      <th></th>\n",
       "      <th>Source</th>\n",
       "      <th>Date</th>\n",
       "      <th>Hour</th>\n",
       "      <th>Count</th>\n",
       "    </tr>\n",
       "  </thead>\n",
       "  <tbody>\n",
       "    <tr>\n",
       "      <th>0</th>\n",
       "      <td>P2 Phone</td>\n",
       "      <td>2022-01-01</td>\n",
       "      <td>5</td>\n",
       "      <td>31</td>\n",
       "    </tr>\n",
       "    <tr>\n",
       "      <th>69</th>\n",
       "      <td>P2 Phone</td>\n",
       "      <td>2022-01-01</td>\n",
       "      <td>17</td>\n",
       "      <td>119</td>\n",
       "    </tr>\n",
       "    <tr>\n",
       "      <th>68</th>\n",
       "      <td>P2 Phone</td>\n",
       "      <td>2022-01-01</td>\n",
       "      <td>17</td>\n",
       "      <td>742</td>\n",
       "    </tr>\n",
       "    <tr>\n",
       "      <th>67</th>\n",
       "      <td>P2 Phone</td>\n",
       "      <td>2022-01-01</td>\n",
       "      <td>17</td>\n",
       "      <td>997</td>\n",
       "    </tr>\n",
       "    <tr>\n",
       "      <th>66</th>\n",
       "      <td>P2’s Apple Watch</td>\n",
       "      <td>2022-01-01</td>\n",
       "      <td>17</td>\n",
       "      <td>989</td>\n",
       "    </tr>\n",
       "    <tr>\n",
       "      <th>...</th>\n",
       "      <td>...</td>\n",
       "      <td>...</td>\n",
       "      <td>...</td>\n",
       "      <td>...</td>\n",
       "    </tr>\n",
       "    <tr>\n",
       "      <th>31547</th>\n",
       "      <td>P2’s Apple Watch</td>\n",
       "      <td>2022-09-01</td>\n",
       "      <td>8</td>\n",
       "      <td>22</td>\n",
       "    </tr>\n",
       "    <tr>\n",
       "      <th>31546</th>\n",
       "      <td>P2’s Apple Watch</td>\n",
       "      <td>2022-09-01</td>\n",
       "      <td>8</td>\n",
       "      <td>2</td>\n",
       "    </tr>\n",
       "    <tr>\n",
       "      <th>31545</th>\n",
       "      <td>P2’s Apple Watch</td>\n",
       "      <td>2022-09-01</td>\n",
       "      <td>8</td>\n",
       "      <td>15</td>\n",
       "    </tr>\n",
       "    <tr>\n",
       "      <th>31558</th>\n",
       "      <td>P2’s Apple Watch</td>\n",
       "      <td>2022-09-01</td>\n",
       "      <td>11</td>\n",
       "      <td>29</td>\n",
       "    </tr>\n",
       "    <tr>\n",
       "      <th>31637</th>\n",
       "      <td>P2’s Apple Watch</td>\n",
       "      <td>2022-09-01</td>\n",
       "      <td>20</td>\n",
       "      <td>76</td>\n",
       "    </tr>\n",
       "  </tbody>\n",
       "</table>\n",
       "<p>31635 rows × 4 columns</p>\n",
       "</div>"
      ],
      "text/plain": [
       "                 Source        Date  Hour  Count\n",
       "0              P2 Phone  2022-01-01     5     31\n",
       "69             P2 Phone  2022-01-01    17    119\n",
       "68             P2 Phone  2022-01-01    17    742\n",
       "67             P2 Phone  2022-01-01    17    997\n",
       "66     P2’s Apple Watch  2022-01-01    17    989\n",
       "...                 ...         ...   ...    ...\n",
       "31547  P2’s Apple Watch  2022-09-01     8     22\n",
       "31546  P2’s Apple Watch  2022-09-01     8      2\n",
       "31545  P2’s Apple Watch  2022-09-01     8     15\n",
       "31558  P2’s Apple Watch  2022-09-01    11     29\n",
       "31637  P2’s Apple Watch  2022-09-01    20     76\n",
       "\n",
       "[31635 rows x 4 columns]"
      ]
     },
     "execution_count": 10,
     "metadata": {},
     "output_type": "execute_result"
    }
   ],
   "source": [
    "copy_data"
   ]
  },
  {
   "cell_type": "markdown",
   "id": "c4e01b35",
   "metadata": {},
   "source": [
    "Combine data in the same day\n"
   ]
  },
  {
   "cell_type": "code",
   "execution_count": 11,
   "id": "7deea8c8",
   "metadata": {},
   "outputs": [
    {
     "name": "stderr",
     "output_type": "stream",
     "text": [
      "<ipython-input-11-e96b25481d7a>:1: FutureWarning: Indexing with multiple keys (implicitly converted to a tuple of keys) will be deprecated, use a list instead.\n",
      "  combined_data=copy_data.groupby('Date')['Date','Count'].sum()\n"
     ]
    }
   ],
   "source": [
    "combined_data=copy_data.groupby('Date')['Date','Count'].sum()"
   ]
  },
  {
   "cell_type": "code",
   "execution_count": 12,
   "id": "8c21e258",
   "metadata": {},
   "outputs": [
    {
     "data": {
      "text/html": [
       "<div>\n",
       "<style scoped>\n",
       "    .dataframe tbody tr th:only-of-type {\n",
       "        vertical-align: middle;\n",
       "    }\n",
       "\n",
       "    .dataframe tbody tr th {\n",
       "        vertical-align: top;\n",
       "    }\n",
       "\n",
       "    .dataframe thead th {\n",
       "        text-align: right;\n",
       "    }\n",
       "</style>\n",
       "<table border=\"1\" class=\"dataframe\">\n",
       "  <thead>\n",
       "    <tr style=\"text-align: right;\">\n",
       "      <th></th>\n",
       "      <th>Count</th>\n",
       "    </tr>\n",
       "    <tr>\n",
       "      <th>Date</th>\n",
       "      <th></th>\n",
       "    </tr>\n",
       "  </thead>\n",
       "  <tbody>\n",
       "    <tr>\n",
       "      <th>2022-01-01</th>\n",
       "      <td>22332</td>\n",
       "    </tr>\n",
       "    <tr>\n",
       "      <th>2022-01-02</th>\n",
       "      <td>23324</td>\n",
       "    </tr>\n",
       "    <tr>\n",
       "      <th>2022-01-03</th>\n",
       "      <td>8887</td>\n",
       "    </tr>\n",
       "    <tr>\n",
       "      <th>2022-01-04</th>\n",
       "      <td>22684</td>\n",
       "    </tr>\n",
       "    <tr>\n",
       "      <th>2022-01-05</th>\n",
       "      <td>19482</td>\n",
       "    </tr>\n",
       "    <tr>\n",
       "      <th>...</th>\n",
       "      <td>...</td>\n",
       "    </tr>\n",
       "    <tr>\n",
       "      <th>2022-08-28</th>\n",
       "      <td>17600</td>\n",
       "    </tr>\n",
       "    <tr>\n",
       "      <th>2022-08-29</th>\n",
       "      <td>13363</td>\n",
       "    </tr>\n",
       "    <tr>\n",
       "      <th>2022-08-30</th>\n",
       "      <td>17756</td>\n",
       "    </tr>\n",
       "    <tr>\n",
       "      <th>2022-08-31</th>\n",
       "      <td>19119</td>\n",
       "    </tr>\n",
       "    <tr>\n",
       "      <th>2022-09-01</th>\n",
       "      <td>13659</td>\n",
       "    </tr>\n",
       "  </tbody>\n",
       "</table>\n",
       "<p>244 rows × 1 columns</p>\n",
       "</div>"
      ],
      "text/plain": [
       "            Count\n",
       "Date             \n",
       "2022-01-01  22332\n",
       "2022-01-02  23324\n",
       "2022-01-03   8887\n",
       "2022-01-04  22684\n",
       "2022-01-05  19482\n",
       "...           ...\n",
       "2022-08-28  17600\n",
       "2022-08-29  13363\n",
       "2022-08-30  17756\n",
       "2022-08-31  19119\n",
       "2022-09-01  13659\n",
       "\n",
       "[244 rows x 1 columns]"
      ]
     },
     "execution_count": 12,
     "metadata": {},
     "output_type": "execute_result"
    }
   ],
   "source": [
    "combined_data"
   ]
  },
  {
   "cell_type": "markdown",
   "id": "68fdc69e",
   "metadata": {},
   "source": [
    "Hence we finish data cleaning and the new data can be used to do further analyzing."
   ]
  }
 ],
 "metadata": {
  "kernelspec": {
   "display_name": "Python 3",
   "language": "python",
   "name": "python3"
  },
  "language_info": {
   "codemirror_mode": {
    "name": "ipython",
    "version": 3
   },
   "file_extension": ".py",
   "mimetype": "text/x-python",
   "name": "python",
   "nbconvert_exporter": "python",
   "pygments_lexer": "ipython3",
   "version": "3.8.8"
  }
 },
 "nbformat": 4,
 "nbformat_minor": 5
}
