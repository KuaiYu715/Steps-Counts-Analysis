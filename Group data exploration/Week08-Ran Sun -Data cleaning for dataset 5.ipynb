{
 "cells": [
  {
   "cell_type": "markdown",
   "id": "d538cb41",
   "metadata": {},
   "source": [
    "## Preparations\n",
    "First, import some packages that I need."
   ]
  },
  {
   "cell_type": "code",
   "execution_count": 1,
   "id": "0d7b7f73",
   "metadata": {},
   "outputs": [],
   "source": [
    "# Purpose: To import packages \"pandas\" and \"numpy\" in order to do the data cleanings."
   ]
  },
  {
   "cell_type": "code",
   "execution_count": 13,
   "id": "0afd7a91",
   "metadata": {},
   "outputs": [],
   "source": [
    "import pandas as pd\n",
    "import numpy as np\n",
    "import matplotlib.pyplot as plt"
   ]
  },
  {
   "cell_type": "markdown",
   "id": "b4830262",
   "metadata": {},
   "source": [
    "Reading data from a csv file in a local repository."
   ]
  },
  {
   "cell_type": "code",
   "execution_count": 3,
   "id": "6ca9c02e",
   "metadata": {},
   "outputs": [],
   "source": [
    "data5=pd.read_csv('/Users/sunran/Desktop/Dataset5.csv')"
   ]
  },
  {
   "cell_type": "code",
   "execution_count": null,
   "id": "3ebb9627",
   "metadata": {},
   "outputs": [],
   "source": [
    "# Make a copy of raw data"
   ]
  },
  {
   "cell_type": "code",
   "execution_count": 4,
   "id": "4021be8f",
   "metadata": {},
   "outputs": [],
   "source": [
    "copy_data=data5"
   ]
  },
  {
   "cell_type": "code",
   "execution_count": 5,
   "id": "2e999543",
   "metadata": {},
   "outputs": [],
   "source": [
    "# Beacuse due to immutability of raw data principle, so we should never alter the raw data and always make a copy."
   ]
  },
  {
   "cell_type": "markdown",
   "id": "37ffe3f7",
   "metadata": {},
   "source": [
    "## Data cleaning"
   ]
  },
  {
   "cell_type": "code",
   "execution_count": 6,
   "id": "7581a2e3",
   "metadata": {},
   "outputs": [],
   "source": [
    "# Look through whole data frame"
   ]
  },
  {
   "cell_type": "code",
   "execution_count": 7,
   "id": "5fa17d11",
   "metadata": {},
   "outputs": [
    {
     "data": {
      "text/html": [
       "<div>\n",
       "<style scoped>\n",
       "    .dataframe tbody tr th:only-of-type {\n",
       "        vertical-align: middle;\n",
       "    }\n",
       "\n",
       "    .dataframe tbody tr th {\n",
       "        vertical-align: top;\n",
       "    }\n",
       "\n",
       "    .dataframe thead th {\n",
       "        text-align: right;\n",
       "    }\n",
       "</style>\n",
       "<table border=\"1\" class=\"dataframe\">\n",
       "  <thead>\n",
       "    <tr style=\"text-align: right;\">\n",
       "      <th></th>\n",
       "      <th>Source</th>\n",
       "      <th>Date</th>\n",
       "      <th>Hour</th>\n",
       "      <th>Count</th>\n",
       "    </tr>\n",
       "  </thead>\n",
       "  <tbody>\n",
       "    <tr>\n",
       "      <th>0</th>\n",
       "      <td>person5</td>\n",
       "      <td>2022-01-27</td>\n",
       "      <td>8</td>\n",
       "      <td>4</td>\n",
       "    </tr>\n",
       "    <tr>\n",
       "      <th>1</th>\n",
       "      <td>person5</td>\n",
       "      <td>2022-01-02</td>\n",
       "      <td>13</td>\n",
       "      <td>78</td>\n",
       "    </tr>\n",
       "    <tr>\n",
       "      <th>2</th>\n",
       "      <td>person5</td>\n",
       "      <td>2022-01-02</td>\n",
       "      <td>12</td>\n",
       "      <td>66</td>\n",
       "    </tr>\n",
       "    <tr>\n",
       "      <th>3</th>\n",
       "      <td>person5</td>\n",
       "      <td>2022-01-02</td>\n",
       "      <td>12</td>\n",
       "      <td>57</td>\n",
       "    </tr>\n",
       "    <tr>\n",
       "      <th>4</th>\n",
       "      <td>person5</td>\n",
       "      <td>2022-01-02</td>\n",
       "      <td>12</td>\n",
       "      <td>99</td>\n",
       "    </tr>\n",
       "    <tr>\n",
       "      <th>...</th>\n",
       "      <td>...</td>\n",
       "      <td>...</td>\n",
       "      <td>...</td>\n",
       "      <td>...</td>\n",
       "    </tr>\n",
       "    <tr>\n",
       "      <th>12132</th>\n",
       "      <td>person5</td>\n",
       "      <td>2022-09-01</td>\n",
       "      <td>19</td>\n",
       "      <td>59</td>\n",
       "    </tr>\n",
       "    <tr>\n",
       "      <th>12133</th>\n",
       "      <td>person5</td>\n",
       "      <td>2022-09-01</td>\n",
       "      <td>19</td>\n",
       "      <td>102</td>\n",
       "    </tr>\n",
       "    <tr>\n",
       "      <th>12134</th>\n",
       "      <td>person5</td>\n",
       "      <td>2022-09-01</td>\n",
       "      <td>19</td>\n",
       "      <td>15</td>\n",
       "    </tr>\n",
       "    <tr>\n",
       "      <th>12135</th>\n",
       "      <td>person5</td>\n",
       "      <td>2022-09-01</td>\n",
       "      <td>21</td>\n",
       "      <td>35</td>\n",
       "    </tr>\n",
       "    <tr>\n",
       "      <th>12136</th>\n",
       "      <td>person5</td>\n",
       "      <td>2022-09-01</td>\n",
       "      <td>21</td>\n",
       "      <td>47</td>\n",
       "    </tr>\n",
       "  </tbody>\n",
       "</table>\n",
       "<p>12137 rows × 4 columns</p>\n",
       "</div>"
      ],
      "text/plain": [
       "        Source        Date  Hour  Count\n",
       "0      person5  2022-01-27     8      4\n",
       "1      person5  2022-01-02    13     78\n",
       "2      person5  2022-01-02    12     66\n",
       "3      person5  2022-01-02    12     57\n",
       "4      person5  2022-01-02    12     99\n",
       "...        ...         ...   ...    ...\n",
       "12132  person5  2022-09-01    19     59\n",
       "12133  person5  2022-09-01    19    102\n",
       "12134  person5  2022-09-01    19     15\n",
       "12135  person5  2022-09-01    21     35\n",
       "12136  person5  2022-09-01    21     47\n",
       "\n",
       "[12137 rows x 4 columns]"
      ]
     },
     "execution_count": 7,
     "metadata": {},
     "output_type": "execute_result"
    }
   ],
   "source": [
    "copy_data"
   ]
  },
  {
   "cell_type": "code",
   "execution_count": 8,
   "id": "814f18bb",
   "metadata": {},
   "outputs": [],
   "source": [
    "# Fill the missing values (NaN) with 0 "
   ]
  },
  {
   "cell_type": "code",
   "execution_count": 9,
   "id": "511c85af",
   "metadata": {},
   "outputs": [],
   "source": [
    "copy_data['Count'].fillna(0,inplace=True)"
   ]
  },
  {
   "cell_type": "code",
   "execution_count": null,
   "id": "f5236e0a",
   "metadata": {},
   "outputs": [],
   "source": []
  },
  {
   "cell_type": "code",
   "execution_count": 10,
   "id": "b3b2f9b7",
   "metadata": {},
   "outputs": [],
   "source": [
    "# Sort the date in a ascending order."
   ]
  },
  {
   "cell_type": "code",
   "execution_count": 22,
   "id": "4d3bf09b",
   "metadata": {},
   "outputs": [],
   "source": [
    "copy_data.sort_values(by=['Date'], inplace=True)"
   ]
  },
  {
   "cell_type": "code",
   "execution_count": 23,
   "id": "d28053aa",
   "metadata": {},
   "outputs": [
    {
     "data": {
      "text/html": [
       "<div>\n",
       "<style scoped>\n",
       "    .dataframe tbody tr th:only-of-type {\n",
       "        vertical-align: middle;\n",
       "    }\n",
       "\n",
       "    .dataframe tbody tr th {\n",
       "        vertical-align: top;\n",
       "    }\n",
       "\n",
       "    .dataframe thead th {\n",
       "        text-align: right;\n",
       "    }\n",
       "</style>\n",
       "<table border=\"1\" class=\"dataframe\">\n",
       "  <thead>\n",
       "    <tr style=\"text-align: right;\">\n",
       "      <th></th>\n",
       "      <th>Source</th>\n",
       "      <th>Date</th>\n",
       "      <th>Hour</th>\n",
       "      <th>Count</th>\n",
       "    </tr>\n",
       "  </thead>\n",
       "  <tbody>\n",
       "    <tr>\n",
       "      <th>52</th>\n",
       "      <td>person5</td>\n",
       "      <td>2022-01-01</td>\n",
       "      <td>23</td>\n",
       "      <td>8</td>\n",
       "    </tr>\n",
       "    <tr>\n",
       "      <th>51</th>\n",
       "      <td>person5</td>\n",
       "      <td>2022-01-01</td>\n",
       "      <td>23</td>\n",
       "      <td>58</td>\n",
       "    </tr>\n",
       "    <tr>\n",
       "      <th>50</th>\n",
       "      <td>person5</td>\n",
       "      <td>2022-01-01</td>\n",
       "      <td>23</td>\n",
       "      <td>48</td>\n",
       "    </tr>\n",
       "    <tr>\n",
       "      <th>2</th>\n",
       "      <td>person5</td>\n",
       "      <td>2022-01-02</td>\n",
       "      <td>12</td>\n",
       "      <td>66</td>\n",
       "    </tr>\n",
       "    <tr>\n",
       "      <th>3</th>\n",
       "      <td>person5</td>\n",
       "      <td>2022-01-02</td>\n",
       "      <td>12</td>\n",
       "      <td>57</td>\n",
       "    </tr>\n",
       "    <tr>\n",
       "      <th>...</th>\n",
       "      <td>...</td>\n",
       "      <td>...</td>\n",
       "      <td>...</td>\n",
       "      <td>...</td>\n",
       "    </tr>\n",
       "    <tr>\n",
       "      <th>12134</th>\n",
       "      <td>person5</td>\n",
       "      <td>2022-09-01</td>\n",
       "      <td>19</td>\n",
       "      <td>15</td>\n",
       "    </tr>\n",
       "    <tr>\n",
       "      <th>12118</th>\n",
       "      <td>person5</td>\n",
       "      <td>2022-09-01</td>\n",
       "      <td>15</td>\n",
       "      <td>322</td>\n",
       "    </tr>\n",
       "    <tr>\n",
       "      <th>12127</th>\n",
       "      <td>person5</td>\n",
       "      <td>2022-09-01</td>\n",
       "      <td>18</td>\n",
       "      <td>119</td>\n",
       "    </tr>\n",
       "    <tr>\n",
       "      <th>12104</th>\n",
       "      <td>person5</td>\n",
       "      <td>2022-09-01</td>\n",
       "      <td>7</td>\n",
       "      <td>127</td>\n",
       "    </tr>\n",
       "    <tr>\n",
       "      <th>12136</th>\n",
       "      <td>person5</td>\n",
       "      <td>2022-09-01</td>\n",
       "      <td>21</td>\n",
       "      <td>47</td>\n",
       "    </tr>\n",
       "  </tbody>\n",
       "</table>\n",
       "<p>12137 rows × 4 columns</p>\n",
       "</div>"
      ],
      "text/plain": [
       "        Source        Date  Hour  Count\n",
       "52     person5  2022-01-01    23      8\n",
       "51     person5  2022-01-01    23     58\n",
       "50     person5  2022-01-01    23     48\n",
       "2      person5  2022-01-02    12     66\n",
       "3      person5  2022-01-02    12     57\n",
       "...        ...         ...   ...    ...\n",
       "12134  person5  2022-09-01    19     15\n",
       "12118  person5  2022-09-01    15    322\n",
       "12127  person5  2022-09-01    18    119\n",
       "12104  person5  2022-09-01     7    127\n",
       "12136  person5  2022-09-01    21     47\n",
       "\n",
       "[12137 rows x 4 columns]"
      ]
     },
     "execution_count": 23,
     "metadata": {},
     "output_type": "execute_result"
    }
   ],
   "source": [
    "copy_data"
   ]
  },
  {
   "cell_type": "code",
   "execution_count": null,
   "id": "fae1de1e",
   "metadata": {},
   "outputs": [],
   "source": [
    "# Hence order is correct."
   ]
  },
  {
   "cell_type": "code",
   "execution_count": null,
   "id": "a3ba7915",
   "metadata": {},
   "outputs": [],
   "source": []
  },
  {
   "cell_type": "code",
   "execution_count": null,
   "id": "9f8d95f0",
   "metadata": {},
   "outputs": [],
   "source": [
    "# Purpose: Combine the counts in same date."
   ]
  },
  {
   "cell_type": "code",
   "execution_count": 27,
   "id": "ae98540f",
   "metadata": {},
   "outputs": [
    {
     "name": "stderr",
     "output_type": "stream",
     "text": [
      "<ipython-input-27-c9718bcfbb82>:1: FutureWarning: Indexing with multiple keys (implicitly converted to a tuple of keys) will be deprecated, use a list instead.\n",
      "  combined=copy_data.groupby('Date')['Date','Count'].sum()\n"
     ]
    }
   ],
   "source": [
    "combined=copy_data.groupby('Date')['Date','Count'].sum()"
   ]
  },
  {
   "cell_type": "code",
   "execution_count": 38,
   "id": "11a6d1f8",
   "metadata": {},
   "outputs": [
    {
     "data": {
      "text/html": [
       "<div>\n",
       "<style scoped>\n",
       "    .dataframe tbody tr th:only-of-type {\n",
       "        vertical-align: middle;\n",
       "    }\n",
       "\n",
       "    .dataframe tbody tr th {\n",
       "        vertical-align: top;\n",
       "    }\n",
       "\n",
       "    .dataframe thead th {\n",
       "        text-align: right;\n",
       "    }\n",
       "</style>\n",
       "<table border=\"1\" class=\"dataframe\">\n",
       "  <thead>\n",
       "    <tr style=\"text-align: right;\">\n",
       "      <th></th>\n",
       "      <th>Count</th>\n",
       "    </tr>\n",
       "    <tr>\n",
       "      <th>Date</th>\n",
       "      <th></th>\n",
       "    </tr>\n",
       "  </thead>\n",
       "  <tbody>\n",
       "    <tr>\n",
       "      <th>2022-01-01</th>\n",
       "      <td>114</td>\n",
       "    </tr>\n",
       "    <tr>\n",
       "      <th>2022-01-02</th>\n",
       "      <td>8681</td>\n",
       "    </tr>\n",
       "    <tr>\n",
       "      <th>2022-01-03</th>\n",
       "      <td>5104</td>\n",
       "    </tr>\n",
       "    <tr>\n",
       "      <th>2022-01-04</th>\n",
       "      <td>8031</td>\n",
       "    </tr>\n",
       "    <tr>\n",
       "      <th>2022-01-05</th>\n",
       "      <td>7743</td>\n",
       "    </tr>\n",
       "  </tbody>\n",
       "</table>\n",
       "</div>"
      ],
      "text/plain": [
       "            Count\n",
       "Date             \n",
       "2022-01-01    114\n",
       "2022-01-02   8681\n",
       "2022-01-03   5104\n",
       "2022-01-04   8031\n",
       "2022-01-05   7743"
      ]
     },
     "execution_count": 38,
     "metadata": {},
     "output_type": "execute_result"
    }
   ],
   "source": [
    "combined.head()"
   ]
  },
  {
   "cell_type": "code",
   "execution_count": 30,
   "id": "c0d2ec9f",
   "metadata": {},
   "outputs": [],
   "source": [
    "# The steps are added together in same day."
   ]
  },
  {
   "cell_type": "code",
   "execution_count": null,
   "id": "79363cc6",
   "metadata": {},
   "outputs": [],
   "source": []
  },
  {
   "cell_type": "markdown",
   "id": "ef7b4dd5",
   "metadata": {},
   "source": [
    "## Data exploration "
   ]
  },
  {
   "cell_type": "code",
   "execution_count": 37,
   "id": "a4202d4c",
   "metadata": {},
   "outputs": [
    {
     "data": {
      "text/plain": [
       "<AxesSubplot:xlabel='Date'>"
      ]
     },
     "execution_count": 37,
     "metadata": {},
     "output_type": "execute_result"
    },
    {
     "data": {
      "image/png": "[encoded data removed]",
      "text/plain": [
       "<Figure size 432x288 with 1 Axes>"
      ]
     },
     "metadata": {
      "needs_background": "light"
     },
     "output_type": "display_data"
    }
   ],
   "source": [
    "combined.plot(legend=True)"
   ]
  },
  {
   "cell_type": "code",
   "execution_count": null,
   "id": "41b4b89d",
   "metadata": {},
   "outputs": [],
   "source": [
    "# Hence, from the graph above, the steps are fairly constant. However, there are two summits here in April and May."
   ]
  }
 ],
 "metadata": {
  "kernelspec": {
   "display_name": "Python 3",
   "language": "python",
   "name": "python3"
  },
  "language_info": {
   "codemirror_mode": {
    "name": "ipython",
    "version": 3
   },
   "file_extension": ".py",
   "mimetype": "text/x-python",
   "name": "python",
   "nbconvert_exporter": "python",
   "pygments_lexer": "ipython3",
   "version": "3.8.8"
  }
 },
 "nbformat": 4,
 "nbformat_minor": 5
}
