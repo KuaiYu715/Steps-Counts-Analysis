{
 "cells": [
  {
   "cell_type": "markdown",
   "id": "b609971e",
   "metadata": {},
   "source": [
    "This notebook is created for brief exploration of data set 3 for assignment 2\n"
   ]
  },
  {
   "cell_type": "markdown",
   "id": "f3e3f433",
   "metadata": {},
   "source": [
    "import packages"
   ]
  },
  {
   "cell_type": "code",
   "execution_count": 2,
   "id": "d60bbbb1",
   "metadata": {},
   "outputs": [],
   "source": [
    "import pandas as pd\n",
    "import numpy as np"
   ]
  },
  {
   "cell_type": "markdown",
   "id": "4c8e72fd",
   "metadata": {},
   "source": [
    "Read in data as dataframe"
   ]
  },
  {
   "cell_type": "code",
   "execution_count": 3,
   "id": "f4c7155b",
   "metadata": {},
   "outputs": [
    {
     "data": {
      "text/html": [
       "<div>\n",
       "<style scoped>\n",
       "    .dataframe tbody tr th:only-of-type {\n",
       "        vertical-align: middle;\n",
       "    }\n",
       "\n",
       "    .dataframe tbody tr th {\n",
       "        vertical-align: top;\n",
       "    }\n",
       "\n",
       "    .dataframe thead th {\n",
       "        text-align: right;\n",
       "    }\n",
       "</style>\n",
       "<table border=\"1\" class=\"dataframe\">\n",
       "  <thead>\n",
       "    <tr style=\"text-align: right;\">\n",
       "      <th></th>\n",
       "      <th>Start</th>\n",
       "      <th>Finish</th>\n",
       "      <th>Steps (count)</th>\n",
       "    </tr>\n",
       "  </thead>\n",
       "  <tbody>\n",
       "    <tr>\n",
       "      <th>0</th>\n",
       "      <td>31/12/2021 23:00</td>\n",
       "      <td>01/01/2022 0:00</td>\n",
       "      <td>0.000000</td>\n",
       "    </tr>\n",
       "    <tr>\n",
       "      <th>1</th>\n",
       "      <td>01/01/2022 0:00</td>\n",
       "      <td>01/01/2022 1:00</td>\n",
       "      <td>14.000000</td>\n",
       "    </tr>\n",
       "    <tr>\n",
       "      <th>2</th>\n",
       "      <td>01/01/2022 1:00</td>\n",
       "      <td>01/01/2022 2:00</td>\n",
       "      <td>0.000000</td>\n",
       "    </tr>\n",
       "    <tr>\n",
       "      <th>3</th>\n",
       "      <td>01/01/2022 2:00</td>\n",
       "      <td>01/01/2022 3:00</td>\n",
       "      <td>0.000000</td>\n",
       "    </tr>\n",
       "    <tr>\n",
       "      <th>4</th>\n",
       "      <td>01/01/2022 3:00</td>\n",
       "      <td>01/01/2022 4:00</td>\n",
       "      <td>0.000000</td>\n",
       "    </tr>\n",
       "    <tr>\n",
       "      <th>...</th>\n",
       "      <td>...</td>\n",
       "      <td>...</td>\n",
       "      <td>...</td>\n",
       "    </tr>\n",
       "    <tr>\n",
       "      <th>6015</th>\n",
       "      <td>08/09/2022 13:00</td>\n",
       "      <td>08/09/2022 14:00</td>\n",
       "      <td>0.000000</td>\n",
       "    </tr>\n",
       "    <tr>\n",
       "      <th>6016</th>\n",
       "      <td>08/09/2022 14:00</td>\n",
       "      <td>08/09/2022 15:00</td>\n",
       "      <td>893.959035</td>\n",
       "    </tr>\n",
       "    <tr>\n",
       "      <th>6017</th>\n",
       "      <td>08/09/2022 15:00</td>\n",
       "      <td>08/09/2022 16:00</td>\n",
       "      <td>534.040965</td>\n",
       "    </tr>\n",
       "    <tr>\n",
       "      <th>6018</th>\n",
       "      <td>08/09/2022 16:00</td>\n",
       "      <td>08/09/2022 17:00</td>\n",
       "      <td>390.020268</td>\n",
       "    </tr>\n",
       "    <tr>\n",
       "      <th>6019</th>\n",
       "      <td>08/09/2022 17:00</td>\n",
       "      <td>08/09/2022 18:00</td>\n",
       "      <td>1191.979732</td>\n",
       "    </tr>\n",
       "  </tbody>\n",
       "</table>\n",
       "<p>6020 rows × 3 columns</p>\n",
       "</div>"
      ],
      "text/plain": [
       "                 Start            Finish  Steps (count)\n",
       "0     31/12/2021 23:00   01/01/2022 0:00       0.000000\n",
       "1      01/01/2022 0:00   01/01/2022 1:00      14.000000\n",
       "2      01/01/2022 1:00   01/01/2022 2:00       0.000000\n",
       "3      01/01/2022 2:00   01/01/2022 3:00       0.000000\n",
       "4      01/01/2022 3:00   01/01/2022 4:00       0.000000\n",
       "...                ...               ...            ...\n",
       "6015  08/09/2022 13:00  08/09/2022 14:00       0.000000\n",
       "6016  08/09/2022 14:00  08/09/2022 15:00     893.959035\n",
       "6017  08/09/2022 15:00  08/09/2022 16:00     534.040965\n",
       "6018  08/09/2022 16:00  08/09/2022 17:00     390.020268\n",
       "6019  08/09/2022 17:00  08/09/2022 18:00    1191.979732\n",
       "\n",
       "[6020 rows x 3 columns]"
      ]
     },
     "execution_count": 3,
     "metadata": {},
     "output_type": "execute_result"
    }
   ],
   "source": [
    "data = pd.read_csv(r\"C:\\Users\\HP1000\\Downloads\\Participant-03.csv\")\n",
    "data"
   ]
  },
  {
   "cell_type": "markdown",
   "id": "e9b3225f",
   "metadata": {},
   "source": [
    "Initial data analysis"
   ]
  },
  {
   "cell_type": "code",
   "execution_count": 4,
   "id": "6253ad00",
   "metadata": {},
   "outputs": [
    {
     "data": {
      "text/html": [
       "<div>\n",
       "<style scoped>\n",
       "    .dataframe tbody tr th:only-of-type {\n",
       "        vertical-align: middle;\n",
       "    }\n",
       "\n",
       "    .dataframe tbody tr th {\n",
       "        vertical-align: top;\n",
       "    }\n",
       "\n",
       "    .dataframe thead th {\n",
       "        text-align: right;\n",
       "    }\n",
       "</style>\n",
       "<table border=\"1\" class=\"dataframe\">\n",
       "  <thead>\n",
       "    <tr style=\"text-align: right;\">\n",
       "      <th></th>\n",
       "      <th>Start</th>\n",
       "      <th>Finish</th>\n",
       "      <th>Steps (count)</th>\n",
       "    </tr>\n",
       "  </thead>\n",
       "  <tbody>\n",
       "    <tr>\n",
       "      <th>0</th>\n",
       "      <td>31/12/2021 23:00</td>\n",
       "      <td>01/01/2022 0:00</td>\n",
       "      <td>0.0</td>\n",
       "    </tr>\n",
       "    <tr>\n",
       "      <th>1</th>\n",
       "      <td>01/01/2022 0:00</td>\n",
       "      <td>01/01/2022 1:00</td>\n",
       "      <td>14.0</td>\n",
       "    </tr>\n",
       "    <tr>\n",
       "      <th>2</th>\n",
       "      <td>01/01/2022 1:00</td>\n",
       "      <td>01/01/2022 2:00</td>\n",
       "      <td>0.0</td>\n",
       "    </tr>\n",
       "    <tr>\n",
       "      <th>3</th>\n",
       "      <td>01/01/2022 2:00</td>\n",
       "      <td>01/01/2022 3:00</td>\n",
       "      <td>0.0</td>\n",
       "    </tr>\n",
       "    <tr>\n",
       "      <th>4</th>\n",
       "      <td>01/01/2022 3:00</td>\n",
       "      <td>01/01/2022 4:00</td>\n",
       "      <td>0.0</td>\n",
       "    </tr>\n",
       "  </tbody>\n",
       "</table>\n",
       "</div>"
      ],
      "text/plain": [
       "              Start           Finish  Steps (count)\n",
       "0  31/12/2021 23:00  01/01/2022 0:00            0.0\n",
       "1   01/01/2022 0:00  01/01/2022 1:00           14.0\n",
       "2   01/01/2022 1:00  01/01/2022 2:00            0.0\n",
       "3   01/01/2022 2:00  01/01/2022 3:00            0.0\n",
       "4   01/01/2022 3:00  01/01/2022 4:00            0.0"
      ]
     },
     "execution_count": 4,
     "metadata": {},
     "output_type": "execute_result"
    }
   ],
   "source": [
    "data.head()"
   ]
  },
  {
   "cell_type": "markdown",
   "id": "9c8aefd7",
   "metadata": {},
   "source": [
    "read first 5 lines of the data."
   ]
  },
  {
   "cell_type": "markdown",
   "id": "96423ecd",
   "metadata": {},
   "source": [
    "Data cleaning "
   ]
  },
  {
   "cell_type": "code",
   "execution_count": 5,
   "id": "d891a7a0",
   "metadata": {},
   "outputs": [
    {
     "data": {
      "text/html": [
       "<div>\n",
       "<style scoped>\n",
       "    .dataframe tbody tr th:only-of-type {\n",
       "        vertical-align: middle;\n",
       "    }\n",
       "\n",
       "    .dataframe tbody tr th {\n",
       "        vertical-align: top;\n",
       "    }\n",
       "\n",
       "    .dataframe thead th {\n",
       "        text-align: right;\n",
       "    }\n",
       "</style>\n",
       "<table border=\"1\" class=\"dataframe\">\n",
       "  <thead>\n",
       "    <tr style=\"text-align: right;\">\n",
       "      <th></th>\n",
       "      <th>Start</th>\n",
       "      <th>Finish</th>\n",
       "      <th>Steps (count)</th>\n",
       "    </tr>\n",
       "  </thead>\n",
       "  <tbody>\n",
       "    <tr>\n",
       "      <th>0</th>\n",
       "      <td>31/12/2021 23:00</td>\n",
       "      <td>01/01/2022 0:00</td>\n",
       "      <td>0.000000</td>\n",
       "    </tr>\n",
       "    <tr>\n",
       "      <th>1</th>\n",
       "      <td>01/01/2022 0:00</td>\n",
       "      <td>01/01/2022 1:00</td>\n",
       "      <td>14.000000</td>\n",
       "    </tr>\n",
       "    <tr>\n",
       "      <th>2</th>\n",
       "      <td>01/01/2022 1:00</td>\n",
       "      <td>01/01/2022 2:00</td>\n",
       "      <td>0.000000</td>\n",
       "    </tr>\n",
       "    <tr>\n",
       "      <th>3</th>\n",
       "      <td>01/01/2022 2:00</td>\n",
       "      <td>01/01/2022 3:00</td>\n",
       "      <td>0.000000</td>\n",
       "    </tr>\n",
       "    <tr>\n",
       "      <th>4</th>\n",
       "      <td>01/01/2022 3:00</td>\n",
       "      <td>01/01/2022 4:00</td>\n",
       "      <td>0.000000</td>\n",
       "    </tr>\n",
       "    <tr>\n",
       "      <th>...</th>\n",
       "      <td>...</td>\n",
       "      <td>...</td>\n",
       "      <td>...</td>\n",
       "    </tr>\n",
       "    <tr>\n",
       "      <th>6015</th>\n",
       "      <td>08/09/2022 13:00</td>\n",
       "      <td>08/09/2022 14:00</td>\n",
       "      <td>0.000000</td>\n",
       "    </tr>\n",
       "    <tr>\n",
       "      <th>6016</th>\n",
       "      <td>08/09/2022 14:00</td>\n",
       "      <td>08/09/2022 15:00</td>\n",
       "      <td>893.959035</td>\n",
       "    </tr>\n",
       "    <tr>\n",
       "      <th>6017</th>\n",
       "      <td>08/09/2022 15:00</td>\n",
       "      <td>08/09/2022 16:00</td>\n",
       "      <td>534.040965</td>\n",
       "    </tr>\n",
       "    <tr>\n",
       "      <th>6018</th>\n",
       "      <td>08/09/2022 16:00</td>\n",
       "      <td>08/09/2022 17:00</td>\n",
       "      <td>390.020268</td>\n",
       "    </tr>\n",
       "    <tr>\n",
       "      <th>6019</th>\n",
       "      <td>08/09/2022 17:00</td>\n",
       "      <td>08/09/2022 18:00</td>\n",
       "      <td>1191.979732</td>\n",
       "    </tr>\n",
       "  </tbody>\n",
       "</table>\n",
       "<p>6020 rows × 3 columns</p>\n",
       "</div>"
      ],
      "text/plain": [
       "                 Start            Finish  Steps (count)\n",
       "0     31/12/2021 23:00   01/01/2022 0:00       0.000000\n",
       "1      01/01/2022 0:00   01/01/2022 1:00      14.000000\n",
       "2      01/01/2022 1:00   01/01/2022 2:00       0.000000\n",
       "3      01/01/2022 2:00   01/01/2022 3:00       0.000000\n",
       "4      01/01/2022 3:00   01/01/2022 4:00       0.000000\n",
       "...                ...               ...            ...\n",
       "6015  08/09/2022 13:00  08/09/2022 14:00       0.000000\n",
       "6016  08/09/2022 14:00  08/09/2022 15:00     893.959035\n",
       "6017  08/09/2022 15:00  08/09/2022 16:00     534.040965\n",
       "6018  08/09/2022 16:00  08/09/2022 17:00     390.020268\n",
       "6019  08/09/2022 17:00  08/09/2022 18:00    1191.979732\n",
       "\n",
       "[6020 rows x 3 columns]"
      ]
     },
     "execution_count": 5,
     "metadata": {},
     "output_type": "execute_result"
    }
   ],
   "source": [
    "data.dropna()\n",
    "data"
   ]
  },
  {
   "cell_type": "code",
   "execution_count": 9,
   "id": "05be6676",
   "metadata": {},
   "outputs": [
    {
     "name": "stdout",
     "output_type": "stream",
     "text": [
      "Data frame inconsistences number:0\n"
     ]
    }
   ],
   "source": [
    "num = data['Steps (count)'][data['Steps (count)']<0].count()\n",
    "print(\"Data frame inconsistences number:\" + str(num))"
   ]
  },
  {
   "cell_type": "markdown",
   "id": "801aecd1",
   "metadata": {},
   "source": [
    "Check if there is any inconsistence number.The outcome shows there is none."
   ]
  },
  {
   "cell_type": "markdown",
   "id": "e76d93c8",
   "metadata": {},
   "source": [
    "The data frame has same decimal places, so we do not need to edit them."
   ]
  }
 ],
 "metadata": {
  "kernelspec": {
   "display_name": "Python 3 (ipykernel)",
   "language": "python",
   "name": "python3"
  },
  "language_info": {
   "codemirror_mode": {
    "name": "ipython",
    "version": 3
   },
   "file_extension": ".py",
   "mimetype": "text/x-python",
   "name": "python",
   "nbconvert_exporter": "python",
   "pygments_lexer": "ipython3",
   "version": "3.9.7"
  }
 },
 "nbformat": 4,
 "nbformat_minor": 5
}
