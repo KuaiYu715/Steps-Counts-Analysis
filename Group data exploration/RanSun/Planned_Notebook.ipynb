{
  "nbformat": 4,
  "nbformat_minor": 0,
  "metadata": {
    "colab": {
      "provenance": [],
      "collapsed_sections": []
    },
    "kernelspec": {
      "name": "python3",
      "display_name": "Python 3"
    },
    "language_info": {
      "name": "python"
    }
  },
  "cells": [
    {
      "cell_type": "markdown",
      "source": [
        "# **Plans**"
      ],
      "metadata": {
        "id": "I1u8ZLCheV2Y"
      }
    },
    {
      "cell_type": "code",
      "source": [],
      "metadata": {
        "id": "ziTZ-ogMebtQ"
      },
      "execution_count": null,
      "outputs": []
    },
    {
      "cell_type": "markdown",
      "source": [
        "1.Find one more extra dataset and complete the analysis.\n",
        "\n",
        "\n",
        "\n",
        "*   `Test one more relevant dataset and complete analysis to ensure the in sample conclusion is useful for out sample datasets.`\n",
        "2.Finish the readme as soon as possible.\n",
        "\n",
        "* `Readme is a specific criteria in our assignment, so it is very important to update and promote it.`\n",
        "\n",
        "\n",
        "\n"
      ],
      "metadata": {
        "id": "nkk39mcsekXp"
      }
    }
  ]
}