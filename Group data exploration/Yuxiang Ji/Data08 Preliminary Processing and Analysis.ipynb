{
  "nbformat": 4,
  "nbformat_minor": 0,
  "metadata": {
    "colab": {
      "provenance": [],
      "collapsed_sections": []
    },
    "kernelspec": {
      "name": "python3",
      "display_name": "Python 3"
    },
    "language_info": {
      "name": "python"
    }
  },
  "cells": [
    {
      "cell_type": "markdown",
      "source": [
        "The dataset is 'Participant-08'."
      ],
      "metadata": {
        "id": "0hMEmBW7v9Xy"
      }
    },
    {
      "cell_type": "code",
      "source": [
        "import pandas as pd\n",
        "import numpy as np\n",
        "import matplotlib.pyplot as plt\n",
        "from scipy.stats import linregress"
      ],
      "metadata": {
        "id": "9Hluf0Q-ukBk"
      },
      "execution_count": 1,
      "outputs": []
    },
    {
      "cell_type": "markdown",
      "source": [
        "Connecting to my google drive."
      ],
      "metadata": {
        "id": "NG8ZvcJfA-sg"
      }
    },
    {
      "cell_type": "code",
      "source": [
        "from google.colab import drive\n",
        "drive.mount('/content/drive')"
      ],
      "metadata": {
        "colab": {
          "base_uri": "https://localhost:8080/"
        },
        "id": "Lw2LlyK7w-hU",
        "outputId": "75de6a93-515b-4950-ad7f-2e0542e14352"
      },
      "execution_count": 2,
      "outputs": [
        {
          "output_type": "stream",
          "name": "stdout",
          "text": [
            "Mounted at /content/drive\n"
          ]
        }
      ]
    },
    {
      "cell_type": "markdown",
      "source": [
        "Read the csv file."
      ],
      "metadata": {
        "id": "Q6YOYaEWBJJS"
      }
    },
    {
      "source": [
        "P8_data = pd.read_csv(\"/content/drive/MyDrive/Colab Notebooks/Participant-08.csv\", sep=\",\")\n",
        "P8_data #There should be a variable to storage data read from the csv file."
      ],
      "cell_type": "code",
      "execution_count": 3,
      "outputs": [
        {
          "output_type": "execute_result",
          "data": {
            "text/plain": [
              "                  Start             Finish  Steps (count)\n",
              "0     01-Jan-2022 00:00  01-Jan-2022 01:00            0.0\n",
              "1     01-Jan-2022 01:00  01-Jan-2022 02:00            0.0\n",
              "2     01-Jan-2022 02:00  01-Jan-2022 03:00            0.0\n",
              "3     01-Jan-2022 03:00  01-Jan-2022 04:00            0.0\n",
              "4     01-Jan-2022 04:00  01-Jan-2022 05:00            0.0\n",
              "...                 ...                ...            ...\n",
              "6100  12-Sep-2022 03:00  12-Sep-2022 04:00            0.0\n",
              "6101  12-Sep-2022 04:00  12-Sep-2022 05:00            0.0\n",
              "6102  12-Sep-2022 05:00  12-Sep-2022 06:00           25.0\n",
              "6103  12-Sep-2022 06:00  12-Sep-2022 07:00            0.0\n",
              "6104  12-Sep-2022 07:00  12-Sep-2022 08:00          203.0\n",
              "\n",
              "[6105 rows x 3 columns]"
            ],
            "text/html": [
              "\n",
              "  <div id=\"df-1ab4ab09-3027-4572-bb60-ca26ac114f00\">\n",
              "    <div class=\"colab-df-container\">\n",
              "      <div>\n",
              "<style scoped>\n",
              "    .dataframe tbody tr th:only-of-type {\n",
              "        vertical-align: middle;\n",
              "    }\n",
              "\n",
              "    .dataframe tbody tr th {\n",
              "        vertical-align: top;\n",
              "    }\n",
              "\n",
              "    .dataframe thead th {\n",
              "        text-align: right;\n",
              "    }\n",
              "</style>\n",
              "<table border=\"1\" class=\"dataframe\">\n",
              "  <thead>\n",
              "    <tr style=\"text-align: right;\">\n",
              "      <th></th>\n",
              "      <th>Start</th>\n",
              "      <th>Finish</th>\n",
              "      <th>Steps (count)</th>\n",
              "    </tr>\n",
              "  </thead>\n",
              "  <tbody>\n",
              "    <tr>\n",
              "      <th>0</th>\n",
              "      <td>01-Jan-2022 00:00</td>\n",
              "      <td>01-Jan-2022 01:00</td>\n",
              "      <td>0.0</td>\n",
              "    </tr>\n",
              "    <tr>\n",
              "      <th>1</th>\n",
              "      <td>01-Jan-2022 01:00</td>\n",
              "      <td>01-Jan-2022 02:00</td>\n",
              "      <td>0.0</td>\n",
              "    </tr>\n",
              "    <tr>\n",
              "      <th>2</th>\n",
              "      <td>01-Jan-2022 02:00</td>\n",
              "      <td>01-Jan-2022 03:00</td>\n",
              "      <td>0.0</td>\n",
              "    </tr>\n",
              "    <tr>\n",
              "      <th>3</th>\n",
              "      <td>01-Jan-2022 03:00</td>\n",
              "      <td>01-Jan-2022 04:00</td>\n",
              "      <td>0.0</td>\n",
              "    </tr>\n",
              "    <tr>\n",
              "      <th>4</th>\n",
              "      <td>01-Jan-2022 04:00</td>\n",
              "      <td>01-Jan-2022 05:00</td>\n",
              "      <td>0.0</td>\n",
              "    </tr>\n",
              "    <tr>\n",
              "      <th>...</th>\n",
              "      <td>...</td>\n",
              "      <td>...</td>\n",
              "      <td>...</td>\n",
              "    </tr>\n",
              "    <tr>\n",
              "      <th>6100</th>\n",
              "      <td>12-Sep-2022 03:00</td>\n",
              "      <td>12-Sep-2022 04:00</td>\n",
              "      <td>0.0</td>\n",
              "    </tr>\n",
              "    <tr>\n",
              "      <th>6101</th>\n",
              "      <td>12-Sep-2022 04:00</td>\n",
              "      <td>12-Sep-2022 05:00</td>\n",
              "      <td>0.0</td>\n",
              "    </tr>\n",
              "    <tr>\n",
              "      <th>6102</th>\n",
              "      <td>12-Sep-2022 05:00</td>\n",
              "      <td>12-Sep-2022 06:00</td>\n",
              "      <td>25.0</td>\n",
              "    </tr>\n",
              "    <tr>\n",
              "      <th>6103</th>\n",
              "      <td>12-Sep-2022 06:00</td>\n",
              "      <td>12-Sep-2022 07:00</td>\n",
              "      <td>0.0</td>\n",
              "    </tr>\n",
              "    <tr>\n",
              "      <th>6104</th>\n",
              "      <td>12-Sep-2022 07:00</td>\n",
              "      <td>12-Sep-2022 08:00</td>\n",
              "      <td>203.0</td>\n",
              "    </tr>\n",
              "  </tbody>\n",
              "</table>\n",
              "<p>6105 rows × 3 columns</p>\n",
              "</div>\n",
              "      <button class=\"colab-df-convert\" onclick=\"convertToInteractive('df-1ab4ab09-3027-4572-bb60-ca26ac114f00')\"\n",
              "              title=\"Convert this dataframe to an interactive table.\"\n",
              "              style=\"display:none;\">\n",
              "        \n",
              "  <svg xmlns=\"http://www.w3.org/2000/svg\" height=\"24px\"viewBox=\"0 0 24 24\"\n",
              "       width=\"24px\">\n",
              "    <path d=\"M0 0h24v24H0V0z\" fill=\"none\"/>\n",
              "    <path d=\"M18.56 5.44l.94 2.06.94-2.06 2.06-.94-2.06-.94-.94-2.06-.94 2.06-2.06.94zm-11 1L8.5 8.5l.94-2.06 2.06-.94-2.06-.94L8.5 2.5l-.94 2.06-2.06.94zm10 10l.94 2.06.94-2.06 2.06-.94-2.06-.94-.94-2.06-.94 2.06-2.06.94z\"/><path d=\"M17.41 7.96l-1.37-1.37c-.4-.4-.92-.59-1.43-.59-.52 0-1.04.2-1.43.59L10.3 9.45l-7.72 7.72c-.78.78-.78 2.05 0 2.83L4 21.41c.39.39.9.59 1.41.59.51 0 1.02-.2 1.41-.59l7.78-7.78 2.81-2.81c.8-.78.8-2.07 0-2.86zM5.41 20L4 18.59l7.72-7.72 1.47 1.35L5.41 20z\"/>\n",
              "  </svg>\n",
              "      </button>\n",
              "      \n",
              "  <style>\n",
              "    .colab-df-container {\n",
              "      display:flex;\n",
              "      flex-wrap:wrap;\n",
              "      gap: 12px;\n",
              "    }\n",
              "\n",
              "    .colab-df-convert {\n",
              "      background-color: #E8F0FE;\n",
              "      border: none;\n",
              "      border-radius: 50%;\n",
              "      cursor: pointer;\n",
              "      display: none;\n",
              "      fill: #1967D2;\n",
              "      height: 32px;\n",
              "      padding: 0 0 0 0;\n",
              "      width: 32px;\n",
              "    }\n",
              "\n",
              "    .colab-df-convert:hover {\n",
              "      background-color: #E2EBFA;\n",
              "      box-shadow: 0px 1px 2px rgba(60, 64, 67, 0.3), 0px 1px 3px 1px rgba(60, 64, 67, 0.15);\n",
              "      fill: #174EA6;\n",
              "    }\n",
              "\n",
              "    [theme=dark] .colab-df-convert {\n",
              "      background-color: #3B4455;\n",
              "      fill: #D2E3FC;\n",
              "    }\n",
              "\n",
              "    [theme=dark] .colab-df-convert:hover {\n",
              "      background-color: #434B5C;\n",
              "      box-shadow: 0px 1px 3px 1px rgba(0, 0, 0, 0.15);\n",
              "      filter: drop-shadow(0px 1px 2px rgba(0, 0, 0, 0.3));\n",
              "      fill: #FFFFFF;\n",
              "    }\n",
              "  </style>\n",
              "\n",
              "      <script>\n",
              "        const buttonEl =\n",
              "          document.querySelector('#df-1ab4ab09-3027-4572-bb60-ca26ac114f00 button.colab-df-convert');\n",
              "        buttonEl.style.display =\n",
              "          google.colab.kernel.accessAllowed ? 'block' : 'none';\n",
              "\n",
              "        async function convertToInteractive(key) {\n",
              "          const element = document.querySelector('#df-1ab4ab09-3027-4572-bb60-ca26ac114f00');\n",
              "          const dataTable =\n",
              "            await google.colab.kernel.invokeFunction('convertToInteractive',\n",
              "                                                     [key], {});\n",
              "          if (!dataTable) return;\n",
              "\n",
              "          const docLinkHtml = 'Like what you see? Visit the ' +\n",
              "            '<a target=\"_blank\" href=https://colab.research.google.com/notebooks/data_table.ipynb>data table notebook</a>'\n",
              "            + ' to learn more about interactive tables.';\n",
              "          element.innerHTML = '';\n",
              "          dataTable['output_type'] = 'display_data';\n",
              "          await google.colab.output.renderOutput(dataTable, element);\n",
              "          const docLink = document.createElement('div');\n",
              "          docLink.innerHTML = docLinkHtml;\n",
              "          element.appendChild(docLink);\n",
              "        }\n",
              "      </script>\n",
              "    </div>\n",
              "  </div>\n",
              "  "
            ]
          },
          "metadata": {},
          "execution_count": 3
        }
      ],
      "metadata": {
        "id": "av6RYOraVG1V",
        "colab": {
          "base_uri": "https://localhost:8080/",
          "height": 424
        },
        "outputId": "ad08d2fe-e5d8-4b3e-b201-129a88353e88"
      }
    },
    {
      "cell_type": "markdown",
      "source": [
        "Drop none values."
      ],
      "metadata": {
        "id": "yWsW1RDvD5_U"
      }
    },
    {
      "cell_type": "code",
      "source": [
        "P8_data = P8_data.dropna()\n",
        "P8_data"
      ],
      "metadata": {
        "colab": {
          "base_uri": "https://localhost:8080/",
          "height": 424
        },
        "id": "UGxWxPeusFyJ",
        "outputId": "d39932f2-e83a-4fcf-f6c5-184dfc609920"
      },
      "execution_count": 4,
      "outputs": [
        {
          "output_type": "execute_result",
          "data": {
            "text/plain": [
              "                  Start             Finish  Steps (count)\n",
              "0     01-Jan-2022 00:00  01-Jan-2022 01:00            0.0\n",
              "1     01-Jan-2022 01:00  01-Jan-2022 02:00            0.0\n",
              "2     01-Jan-2022 02:00  01-Jan-2022 03:00            0.0\n",
              "3     01-Jan-2022 03:00  01-Jan-2022 04:00            0.0\n",
              "4     01-Jan-2022 04:00  01-Jan-2022 05:00            0.0\n",
              "...                 ...                ...            ...\n",
              "6100  12-Sep-2022 03:00  12-Sep-2022 04:00            0.0\n",
              "6101  12-Sep-2022 04:00  12-Sep-2022 05:00            0.0\n",
              "6102  12-Sep-2022 05:00  12-Sep-2022 06:00           25.0\n",
              "6103  12-Sep-2022 06:00  12-Sep-2022 07:00            0.0\n",
              "6104  12-Sep-2022 07:00  12-Sep-2022 08:00          203.0\n",
              "\n",
              "[6105 rows x 3 columns]"
            ],
            "text/html": [
              "\n",
              "  <div id=\"df-a94ea3ae-2583-44d3-ada3-a2ca9d37ec96\">\n",
              "    <div class=\"colab-df-container\">\n",
              "      <div>\n",
              "<style scoped>\n",
              "    .dataframe tbody tr th:only-of-type {\n",
              "        vertical-align: middle;\n",
              "    }\n",
              "\n",
              "    .dataframe tbody tr th {\n",
              "        vertical-align: top;\n",
              "    }\n",
              "\n",
              "    .dataframe thead th {\n",
              "        text-align: right;\n",
              "    }\n",
              "</style>\n",
              "<table border=\"1\" class=\"dataframe\">\n",
              "  <thead>\n",
              "    <tr style=\"text-align: right;\">\n",
              "      <th></th>\n",
              "      <th>Start</th>\n",
              "      <th>Finish</th>\n",
              "      <th>Steps (count)</th>\n",
              "    </tr>\n",
              "  </thead>\n",
              "  <tbody>\n",
              "    <tr>\n",
              "      <th>0</th>\n",
              "      <td>01-Jan-2022 00:00</td>\n",
              "      <td>01-Jan-2022 01:00</td>\n",
              "      <td>0.0</td>\n",
              "    </tr>\n",
              "    <tr>\n",
              "      <th>1</th>\n",
              "      <td>01-Jan-2022 01:00</td>\n",
              "      <td>01-Jan-2022 02:00</td>\n",
              "      <td>0.0</td>\n",
              "    </tr>\n",
              "    <tr>\n",
              "      <th>2</th>\n",
              "      <td>01-Jan-2022 02:00</td>\n",
              "      <td>01-Jan-2022 03:00</td>\n",
              "      <td>0.0</td>\n",
              "    </tr>\n",
              "    <tr>\n",
              "      <th>3</th>\n",
              "      <td>01-Jan-2022 03:00</td>\n",
              "      <td>01-Jan-2022 04:00</td>\n",
              "      <td>0.0</td>\n",
              "    </tr>\n",
              "    <tr>\n",
              "      <th>4</th>\n",
              "      <td>01-Jan-2022 04:00</td>\n",
              "      <td>01-Jan-2022 05:00</td>\n",
              "      <td>0.0</td>\n",
              "    </tr>\n",
              "    <tr>\n",
              "      <th>...</th>\n",
              "      <td>...</td>\n",
              "      <td>...</td>\n",
              "      <td>...</td>\n",
              "    </tr>\n",
              "    <tr>\n",
              "      <th>6100</th>\n",
              "      <td>12-Sep-2022 03:00</td>\n",
              "      <td>12-Sep-2022 04:00</td>\n",
              "      <td>0.0</td>\n",
              "    </tr>\n",
              "    <tr>\n",
              "      <th>6101</th>\n",
              "      <td>12-Sep-2022 04:00</td>\n",
              "      <td>12-Sep-2022 05:00</td>\n",
              "      <td>0.0</td>\n",
              "    </tr>\n",
              "    <tr>\n",
              "      <th>6102</th>\n",
              "      <td>12-Sep-2022 05:00</td>\n",
              "      <td>12-Sep-2022 06:00</td>\n",
              "      <td>25.0</td>\n",
              "    </tr>\n",
              "    <tr>\n",
              "      <th>6103</th>\n",
              "      <td>12-Sep-2022 06:00</td>\n",
              "      <td>12-Sep-2022 07:00</td>\n",
              "      <td>0.0</td>\n",
              "    </tr>\n",
              "    <tr>\n",
              "      <th>6104</th>\n",
              "      <td>12-Sep-2022 07:00</td>\n",
              "      <td>12-Sep-2022 08:00</td>\n",
              "      <td>203.0</td>\n",
              "    </tr>\n",
              "  </tbody>\n",
              "</table>\n",
              "<p>6105 rows × 3 columns</p>\n",
              "</div>\n",
              "      <button class=\"colab-df-convert\" onclick=\"convertToInteractive('df-a94ea3ae-2583-44d3-ada3-a2ca9d37ec96')\"\n",
              "              title=\"Convert this dataframe to an interactive table.\"\n",
              "              style=\"display:none;\">\n",
              "        \n",
              "  <svg xmlns=\"http://www.w3.org/2000/svg\" height=\"24px\"viewBox=\"0 0 24 24\"\n",
              "       width=\"24px\">\n",
              "    <path d=\"M0 0h24v24H0V0z\" fill=\"none\"/>\n",
              "    <path d=\"M18.56 5.44l.94 2.06.94-2.06 2.06-.94-2.06-.94-.94-2.06-.94 2.06-2.06.94zm-11 1L8.5 8.5l.94-2.06 2.06-.94-2.06-.94L8.5 2.5l-.94 2.06-2.06.94zm10 10l.94 2.06.94-2.06 2.06-.94-2.06-.94-.94-2.06-.94 2.06-2.06.94z\"/><path d=\"M17.41 7.96l-1.37-1.37c-.4-.4-.92-.59-1.43-.59-.52 0-1.04.2-1.43.59L10.3 9.45l-7.72 7.72c-.78.78-.78 2.05 0 2.83L4 21.41c.39.39.9.59 1.41.59.51 0 1.02-.2 1.41-.59l7.78-7.78 2.81-2.81c.8-.78.8-2.07 0-2.86zM5.41 20L4 18.59l7.72-7.72 1.47 1.35L5.41 20z\"/>\n",
              "  </svg>\n",
              "      </button>\n",
              "      \n",
              "  <style>\n",
              "    .colab-df-container {\n",
              "      display:flex;\n",
              "      flex-wrap:wrap;\n",
              "      gap: 12px;\n",
              "    }\n",
              "\n",
              "    .colab-df-convert {\n",
              "      background-color: #E8F0FE;\n",
              "      border: none;\n",
              "      border-radius: 50%;\n",
              "      cursor: pointer;\n",
              "      display: none;\n",
              "      fill: #1967D2;\n",
              "      height: 32px;\n",
              "      padding: 0 0 0 0;\n",
              "      width: 32px;\n",
              "    }\n",
              "\n",
              "    .colab-df-convert:hover {\n",
              "      background-color: #E2EBFA;\n",
              "      box-shadow: 0px 1px 2px rgba(60, 64, 67, 0.3), 0px 1px 3px 1px rgba(60, 64, 67, 0.15);\n",
              "      fill: #174EA6;\n",
              "    }\n",
              "\n",
              "    [theme=dark] .colab-df-convert {\n",
              "      background-color: #3B4455;\n",
              "      fill: #D2E3FC;\n",
              "    }\n",
              "\n",
              "    [theme=dark] .colab-df-convert:hover {\n",
              "      background-color: #434B5C;\n",
              "      box-shadow: 0px 1px 3px 1px rgba(0, 0, 0, 0.15);\n",
              "      filter: drop-shadow(0px 1px 2px rgba(0, 0, 0, 0.3));\n",
              "      fill: #FFFFFF;\n",
              "    }\n",
              "  </style>\n",
              "\n",
              "      <script>\n",
              "        const buttonEl =\n",
              "          document.querySelector('#df-a94ea3ae-2583-44d3-ada3-a2ca9d37ec96 button.colab-df-convert');\n",
              "        buttonEl.style.display =\n",
              "          google.colab.kernel.accessAllowed ? 'block' : 'none';\n",
              "\n",
              "        async function convertToInteractive(key) {\n",
              "          const element = document.querySelector('#df-a94ea3ae-2583-44d3-ada3-a2ca9d37ec96');\n",
              "          const dataTable =\n",
              "            await google.colab.kernel.invokeFunction('convertToInteractive',\n",
              "                                                     [key], {});\n",
              "          if (!dataTable) return;\n",
              "\n",
              "          const docLinkHtml = 'Like what you see? Visit the ' +\n",
              "            '<a target=\"_blank\" href=https://colab.research.google.com/notebooks/data_table.ipynb>data table notebook</a>'\n",
              "            + ' to learn more about interactive tables.';\n",
              "          element.innerHTML = '';\n",
              "          dataTable['output_type'] = 'display_data';\n",
              "          await google.colab.output.renderOutput(dataTable, element);\n",
              "          const docLink = document.createElement('div');\n",
              "          docLink.innerHTML = docLinkHtml;\n",
              "          element.appendChild(docLink);\n",
              "        }\n",
              "      </script>\n",
              "    </div>\n",
              "  </div>\n",
              "  "
            ]
          },
          "metadata": {},
          "execution_count": 4
        }
      ]
    },
    {
      "cell_type": "code",
      "source": [
        "P8_data.sort_values(by='Start')\n",
        "P8_data"
      ],
      "metadata": {
        "colab": {
          "base_uri": "https://localhost:8080/",
          "height": 424
        },
        "id": "L0b4QDfbNmMb",
        "outputId": "d5615948-bc2e-4805-c1b3-56f3d67fc5fa"
      },
      "execution_count": 16,
      "outputs": [
        {
          "output_type": "execute_result",
          "data": {
            "text/plain": [
              "                  Start             Finish  Steps (count)\n",
              "2160  01-Apr-2022 00:00  01-Apr-2022 01:00            0.0\n",
              "2161  01-Apr-2022 01:00  01-Apr-2022 02:00            0.0\n",
              "2162  01-Apr-2022 02:00  01-Apr-2022 03:00            0.0\n",
              "2163  01-Apr-2022 03:00  01-Apr-2022 04:00            0.0\n",
              "2164  01-Apr-2022 04:00  01-Apr-2022 05:00            0.0\n",
              "...                 ...                ...            ...\n",
              "3620  31-May-2022 19:00  31-May-2022 20:00           96.0\n",
              "3621  31-May-2022 20:00  31-May-2022 21:00           19.0\n",
              "3622  31-May-2022 21:00  31-May-2022 22:00            0.0\n",
              "3623  31-May-2022 22:00  31-May-2022 23:00            0.0\n",
              "3624  31-May-2022 23:00  01-Jun-2022 00:00            0.0\n",
              "\n",
              "[6105 rows x 3 columns]"
            ],
            "text/html": [
              "\n",
              "  <div id=\"df-a05673dd-719c-4fab-8c18-ad8073971973\">\n",
              "    <div class=\"colab-df-container\">\n",
              "      <div>\n",
              "<style scoped>\n",
              "    .dataframe tbody tr th:only-of-type {\n",
              "        vertical-align: middle;\n",
              "    }\n",
              "\n",
              "    .dataframe tbody tr th {\n",
              "        vertical-align: top;\n",
              "    }\n",
              "\n",
              "    .dataframe thead th {\n",
              "        text-align: right;\n",
              "    }\n",
              "</style>\n",
              "<table border=\"1\" class=\"dataframe\">\n",
              "  <thead>\n",
              "    <tr style=\"text-align: right;\">\n",
              "      <th></th>\n",
              "      <th>Start</th>\n",
              "      <th>Finish</th>\n",
              "      <th>Steps (count)</th>\n",
              "    </tr>\n",
              "  </thead>\n",
              "  <tbody>\n",
              "    <tr>\n",
              "      <th>2160</th>\n",
              "      <td>01-Apr-2022 00:00</td>\n",
              "      <td>01-Apr-2022 01:00</td>\n",
              "      <td>0.0</td>\n",
              "    </tr>\n",
              "    <tr>\n",
              "      <th>2161</th>\n",
              "      <td>01-Apr-2022 01:00</td>\n",
              "      <td>01-Apr-2022 02:00</td>\n",
              "      <td>0.0</td>\n",
              "    </tr>\n",
              "    <tr>\n",
              "      <th>2162</th>\n",
              "      <td>01-Apr-2022 02:00</td>\n",
              "      <td>01-Apr-2022 03:00</td>\n",
              "      <td>0.0</td>\n",
              "    </tr>\n",
              "    <tr>\n",
              "      <th>2163</th>\n",
              "      <td>01-Apr-2022 03:00</td>\n",
              "      <td>01-Apr-2022 04:00</td>\n",
              "      <td>0.0</td>\n",
              "    </tr>\n",
              "    <tr>\n",
              "      <th>2164</th>\n",
              "      <td>01-Apr-2022 04:00</td>\n",
              "      <td>01-Apr-2022 05:00</td>\n",
              "      <td>0.0</td>\n",
              "    </tr>\n",
              "    <tr>\n",
              "      <th>...</th>\n",
              "      <td>...</td>\n",
              "      <td>...</td>\n",
              "      <td>...</td>\n",
              "    </tr>\n",
              "    <tr>\n",
              "      <th>3620</th>\n",
              "      <td>31-May-2022 19:00</td>\n",
              "      <td>31-May-2022 20:00</td>\n",
              "      <td>96.0</td>\n",
              "    </tr>\n",
              "    <tr>\n",
              "      <th>3621</th>\n",
              "      <td>31-May-2022 20:00</td>\n",
              "      <td>31-May-2022 21:00</td>\n",
              "      <td>19.0</td>\n",
              "    </tr>\n",
              "    <tr>\n",
              "      <th>3622</th>\n",
              "      <td>31-May-2022 21:00</td>\n",
              "      <td>31-May-2022 22:00</td>\n",
              "      <td>0.0</td>\n",
              "    </tr>\n",
              "    <tr>\n",
              "      <th>3623</th>\n",
              "      <td>31-May-2022 22:00</td>\n",
              "      <td>31-May-2022 23:00</td>\n",
              "      <td>0.0</td>\n",
              "    </tr>\n",
              "    <tr>\n",
              "      <th>3624</th>\n",
              "      <td>31-May-2022 23:00</td>\n",
              "      <td>01-Jun-2022 00:00</td>\n",
              "      <td>0.0</td>\n",
              "    </tr>\n",
              "  </tbody>\n",
              "</table>\n",
              "<p>6105 rows × 3 columns</p>\n",
              "</div>\n",
              "      <button class=\"colab-df-convert\" onclick=\"convertToInteractive('df-a05673dd-719c-4fab-8c18-ad8073971973')\"\n",
              "              title=\"Convert this dataframe to an interactive table.\"\n",
              "              style=\"display:none;\">\n",
              "        \n",
              "  <svg xmlns=\"http://www.w3.org/2000/svg\" height=\"24px\"viewBox=\"0 0 24 24\"\n",
              "       width=\"24px\">\n",
              "    <path d=\"M0 0h24v24H0V0z\" fill=\"none\"/>\n",
              "    <path d=\"M18.56 5.44l.94 2.06.94-2.06 2.06-.94-2.06-.94-.94-2.06-.94 2.06-2.06.94zm-11 1L8.5 8.5l.94-2.06 2.06-.94-2.06-.94L8.5 2.5l-.94 2.06-2.06.94zm10 10l.94 2.06.94-2.06 2.06-.94-2.06-.94-.94-2.06-.94 2.06-2.06.94z\"/><path d=\"M17.41 7.96l-1.37-1.37c-.4-.4-.92-.59-1.43-.59-.52 0-1.04.2-1.43.59L10.3 9.45l-7.72 7.72c-.78.78-.78 2.05 0 2.83L4 21.41c.39.39.9.59 1.41.59.51 0 1.02-.2 1.41-.59l7.78-7.78 2.81-2.81c.8-.78.8-2.07 0-2.86zM5.41 20L4 18.59l7.72-7.72 1.47 1.35L5.41 20z\"/>\n",
              "  </svg>\n",
              "      </button>\n",
              "      \n",
              "  <style>\n",
              "    .colab-df-container {\n",
              "      display:flex;\n",
              "      flex-wrap:wrap;\n",
              "      gap: 12px;\n",
              "    }\n",
              "\n",
              "    .colab-df-convert {\n",
              "      background-color: #E8F0FE;\n",
              "      border: none;\n",
              "      border-radius: 50%;\n",
              "      cursor: pointer;\n",
              "      display: none;\n",
              "      fill: #1967D2;\n",
              "      height: 32px;\n",
              "      padding: 0 0 0 0;\n",
              "      width: 32px;\n",
              "    }\n",
              "\n",
              "    .colab-df-convert:hover {\n",
              "      background-color: #E2EBFA;\n",
              "      box-shadow: 0px 1px 2px rgba(60, 64, 67, 0.3), 0px 1px 3px 1px rgba(60, 64, 67, 0.15);\n",
              "      fill: #174EA6;\n",
              "    }\n",
              "\n",
              "    [theme=dark] .colab-df-convert {\n",
              "      background-color: #3B4455;\n",
              "      fill: #D2E3FC;\n",
              "    }\n",
              "\n",
              "    [theme=dark] .colab-df-convert:hover {\n",
              "      background-color: #434B5C;\n",
              "      box-shadow: 0px 1px 3px 1px rgba(0, 0, 0, 0.15);\n",
              "      filter: drop-shadow(0px 1px 2px rgba(0, 0, 0, 0.3));\n",
              "      fill: #FFFFFF;\n",
              "    }\n",
              "  </style>\n",
              "\n",
              "      <script>\n",
              "        const buttonEl =\n",
              "          document.querySelector('#df-a05673dd-719c-4fab-8c18-ad8073971973 button.colab-df-convert');\n",
              "        buttonEl.style.display =\n",
              "          google.colab.kernel.accessAllowed ? 'block' : 'none';\n",
              "\n",
              "        async function convertToInteractive(key) {\n",
              "          const element = document.querySelector('#df-a05673dd-719c-4fab-8c18-ad8073971973');\n",
              "          const dataTable =\n",
              "            await google.colab.kernel.invokeFunction('convertToInteractive',\n",
              "                                                     [key], {});\n",
              "          if (!dataTable) return;\n",
              "\n",
              "          const docLinkHtml = 'Like what you see? Visit the ' +\n",
              "            '<a target=\"_blank\" href=https://colab.research.google.com/notebooks/data_table.ipynb>data table notebook</a>'\n",
              "            + ' to learn more about interactive tables.';\n",
              "          element.innerHTML = '';\n",
              "          dataTable['output_type'] = 'display_data';\n",
              "          await google.colab.output.renderOutput(dataTable, element);\n",
              "          const docLink = document.createElement('div');\n",
              "          docLink.innerHTML = docLinkHtml;\n",
              "          element.appendChild(docLink);\n",
              "        }\n",
              "      </script>\n",
              "    </div>\n",
              "  </div>\n",
              "  "
            ]
          },
          "metadata": {},
          "execution_count": 16
        }
      ]
    },
    {
      "cell_type": "markdown",
      "source": [
        "The time data in the file is complex, it includes year, month, day and time. So I want to seperate that and analysis the data distribution separately."
      ],
      "metadata": {
        "id": "lKqRRY1gEDTN"
      }
    },
    {
      "cell_type": "markdown",
      "source": [
        "Create new columns to store seperated data."
      ],
      "metadata": {
        "id": "Coa0AwRxFSI8"
      }
    },
    {
      "cell_type": "code",
      "source": [
        "P8_data.insert(0,'Time','')\n",
        "P8_data.insert(0,'Month','')\n",
        "P8_data.insert(0,'Day','')"
      ],
      "metadata": {
        "id": "c-msgIh7-hW9"
      },
      "execution_count": 50,
      "outputs": []
    },
    {
      "cell_type": "markdown",
      "source": [
        "We can extract keywords by index method."
      ],
      "metadata": {
        "id": "xxPCJr_lFjuw"
      }
    },
    {
      "cell_type": "code",
      "source": [
        "for n in range(0,len(P8_data)):\n",
        "  P8_data['Time'][n] = P8_data['Start'][n][-6:-3]"
      ],
      "metadata": {
        "colab": {
          "base_uri": "https://localhost:8080/"
        },
        "id": "F8NBduncRamg",
        "outputId": "19c56b28-942f-4386-89a6-c80ad86ff075"
      },
      "execution_count": 39,
      "outputs": [
        {
          "output_type": "stream",
          "name": "stderr",
          "text": [
            "/usr/local/lib/python3.7/dist-packages/ipykernel_launcher.py:2: SettingWithCopyWarning: \n",
            "A value is trying to be set on a copy of a slice from a DataFrame\n",
            "\n",
            "See the caveats in the documentation: https://pandas.pydata.org/pandas-docs/stable/user_guide/indexing.html#returning-a-view-versus-a-copy\n",
            "  \n"
          ]
        }
      ]
    },
    {
      "cell_type": "code",
      "source": [
        "for n in range(0,len(P8_data)):\n",
        "  P8_data['Month'][n] = P8_data['Start'][n][3:6]"
      ],
      "metadata": {
        "colab": {
          "base_uri": "https://localhost:8080/"
        },
        "id": "PpsGVTa4-onM",
        "outputId": "beef4bfa-5dc7-43f4-919c-bd3ba8245ca0"
      },
      "execution_count": 51,
      "outputs": [
        {
          "output_type": "stream",
          "name": "stderr",
          "text": [
            "/usr/local/lib/python3.7/dist-packages/ipykernel_launcher.py:2: SettingWithCopyWarning: \n",
            "A value is trying to be set on a copy of a slice from a DataFrame\n",
            "\n",
            "See the caveats in the documentation: https://pandas.pydata.org/pandas-docs/stable/user_guide/indexing.html#returning-a-view-versus-a-copy\n",
            "  \n"
          ]
        }
      ]
    },
    {
      "cell_type": "code",
      "source": [
        "for n in range(0,len(P8_data)):\n",
        "  P8_data['Day'][n] = P8_data['Start'][n][0:2]"
      ],
      "metadata": {
        "colab": {
          "base_uri": "https://localhost:8080/"
        },
        "id": "qmJfLo9B-1nU",
        "outputId": "34bafb69-d3d2-4709-8da0-6a3c8582b320"
      },
      "execution_count": 55,
      "outputs": [
        {
          "output_type": "stream",
          "name": "stderr",
          "text": [
            "/usr/local/lib/python3.7/dist-packages/ipykernel_launcher.py:2: SettingWithCopyWarning: \n",
            "A value is trying to be set on a copy of a slice from a DataFrame\n",
            "\n",
            "See the caveats in the documentation: https://pandas.pydata.org/pandas-docs/stable/user_guide/indexing.html#returning-a-view-versus-a-copy\n",
            "  \n"
          ]
        }
      ]
    },
    {
      "cell_type": "code",
      "source": [
        "P8_data"
      ],
      "metadata": {
        "colab": {
          "base_uri": "https://localhost:8080/",
          "height": 424
        },
        "id": "eSrR9etBSAJb",
        "outputId": "6d8ebe08-541f-451e-e3f1-13654133923f"
      },
      "execution_count": 56,
      "outputs": [
        {
          "output_type": "execute_result",
          "data": {
            "text/plain": [
              "     Day Month Time              Start             Finish  Steps (count)\n",
              "2160  01   Apr   00  01-Apr-2022 00:00  01-Apr-2022 01:00            0.0\n",
              "2161  01   Apr   01  01-Apr-2022 01:00  01-Apr-2022 02:00            0.0\n",
              "2162  01   Apr   02  01-Apr-2022 02:00  01-Apr-2022 03:00            0.0\n",
              "2163  01   Apr   03  01-Apr-2022 03:00  01-Apr-2022 04:00            0.0\n",
              "2164  01   Apr   04  01-Apr-2022 04:00  01-Apr-2022 05:00            0.0\n",
              "...   ..   ...  ...                ...                ...            ...\n",
              "3620  31   May   19  31-May-2022 19:00  31-May-2022 20:00           96.0\n",
              "3621  31   May   20  31-May-2022 20:00  31-May-2022 21:00           19.0\n",
              "3622  31   May   21  31-May-2022 21:00  31-May-2022 22:00            0.0\n",
              "3623  31   May   22  31-May-2022 22:00  31-May-2022 23:00            0.0\n",
              "3624  31   May   23  31-May-2022 23:00  01-Jun-2022 00:00            0.0\n",
              "\n",
              "[6105 rows x 6 columns]"
            ],
            "text/html": [
              "\n",
              "  <div id=\"df-951ae9c0-4466-4c52-a473-787da3371f63\">\n",
              "    <div class=\"colab-df-container\">\n",
              "      <div>\n",
              "<style scoped>\n",
              "    .dataframe tbody tr th:only-of-type {\n",
              "        vertical-align: middle;\n",
              "    }\n",
              "\n",
              "    .dataframe tbody tr th {\n",
              "        vertical-align: top;\n",
              "    }\n",
              "\n",
              "    .dataframe thead th {\n",
              "        text-align: right;\n",
              "    }\n",
              "</style>\n",
              "<table border=\"1\" class=\"dataframe\">\n",
              "  <thead>\n",
              "    <tr style=\"text-align: right;\">\n",
              "      <th></th>\n",
              "      <th>Day</th>\n",
              "      <th>Month</th>\n",
              "      <th>Time</th>\n",
              "      <th>Start</th>\n",
              "      <th>Finish</th>\n",
              "      <th>Steps (count)</th>\n",
              "    </tr>\n",
              "  </thead>\n",
              "  <tbody>\n",
              "    <tr>\n",
              "      <th>2160</th>\n",
              "      <td>01</td>\n",
              "      <td>Apr</td>\n",
              "      <td>00</td>\n",
              "      <td>01-Apr-2022 00:00</td>\n",
              "      <td>01-Apr-2022 01:00</td>\n",
              "      <td>0.0</td>\n",
              "    </tr>\n",
              "    <tr>\n",
              "      <th>2161</th>\n",
              "      <td>01</td>\n",
              "      <td>Apr</td>\n",
              "      <td>01</td>\n",
              "      <td>01-Apr-2022 01:00</td>\n",
              "      <td>01-Apr-2022 02:00</td>\n",
              "      <td>0.0</td>\n",
              "    </tr>\n",
              "    <tr>\n",
              "      <th>2162</th>\n",
              "      <td>01</td>\n",
              "      <td>Apr</td>\n",
              "      <td>02</td>\n",
              "      <td>01-Apr-2022 02:00</td>\n",
              "      <td>01-Apr-2022 03:00</td>\n",
              "      <td>0.0</td>\n",
              "    </tr>\n",
              "    <tr>\n",
              "      <th>2163</th>\n",
              "      <td>01</td>\n",
              "      <td>Apr</td>\n",
              "      <td>03</td>\n",
              "      <td>01-Apr-2022 03:00</td>\n",
              "      <td>01-Apr-2022 04:00</td>\n",
              "      <td>0.0</td>\n",
              "    </tr>\n",
              "    <tr>\n",
              "      <th>2164</th>\n",
              "      <td>01</td>\n",
              "      <td>Apr</td>\n",
              "      <td>04</td>\n",
              "      <td>01-Apr-2022 04:00</td>\n",
              "      <td>01-Apr-2022 05:00</td>\n",
              "      <td>0.0</td>\n",
              "    </tr>\n",
              "    <tr>\n",
              "      <th>...</th>\n",
              "      <td>...</td>\n",
              "      <td>...</td>\n",
              "      <td>...</td>\n",
              "      <td>...</td>\n",
              "      <td>...</td>\n",
              "      <td>...</td>\n",
              "    </tr>\n",
              "    <tr>\n",
              "      <th>3620</th>\n",
              "      <td>31</td>\n",
              "      <td>May</td>\n",
              "      <td>19</td>\n",
              "      <td>31-May-2022 19:00</td>\n",
              "      <td>31-May-2022 20:00</td>\n",
              "      <td>96.0</td>\n",
              "    </tr>\n",
              "    <tr>\n",
              "      <th>3621</th>\n",
              "      <td>31</td>\n",
              "      <td>May</td>\n",
              "      <td>20</td>\n",
              "      <td>31-May-2022 20:00</td>\n",
              "      <td>31-May-2022 21:00</td>\n",
              "      <td>19.0</td>\n",
              "    </tr>\n",
              "    <tr>\n",
              "      <th>3622</th>\n",
              "      <td>31</td>\n",
              "      <td>May</td>\n",
              "      <td>21</td>\n",
              "      <td>31-May-2022 21:00</td>\n",
              "      <td>31-May-2022 22:00</td>\n",
              "      <td>0.0</td>\n",
              "    </tr>\n",
              "    <tr>\n",
              "      <th>3623</th>\n",
              "      <td>31</td>\n",
              "      <td>May</td>\n",
              "      <td>22</td>\n",
              "      <td>31-May-2022 22:00</td>\n",
              "      <td>31-May-2022 23:00</td>\n",
              "      <td>0.0</td>\n",
              "    </tr>\n",
              "    <tr>\n",
              "      <th>3624</th>\n",
              "      <td>31</td>\n",
              "      <td>May</td>\n",
              "      <td>23</td>\n",
              "      <td>31-May-2022 23:00</td>\n",
              "      <td>01-Jun-2022 00:00</td>\n",
              "      <td>0.0</td>\n",
              "    </tr>\n",
              "  </tbody>\n",
              "</table>\n",
              "<p>6105 rows × 6 columns</p>\n",
              "</div>\n",
              "      <button class=\"colab-df-convert\" onclick=\"convertToInteractive('df-951ae9c0-4466-4c52-a473-787da3371f63')\"\n",
              "              title=\"Convert this dataframe to an interactive table.\"\n",
              "              style=\"display:none;\">\n",
              "        \n",
              "  <svg xmlns=\"http://www.w3.org/2000/svg\" height=\"24px\"viewBox=\"0 0 24 24\"\n",
              "       width=\"24px\">\n",
              "    <path d=\"M0 0h24v24H0V0z\" fill=\"none\"/>\n",
              "    <path d=\"M18.56 5.44l.94 2.06.94-2.06 2.06-.94-2.06-.94-.94-2.06-.94 2.06-2.06.94zm-11 1L8.5 8.5l.94-2.06 2.06-.94-2.06-.94L8.5 2.5l-.94 2.06-2.06.94zm10 10l.94 2.06.94-2.06 2.06-.94-2.06-.94-.94-2.06-.94 2.06-2.06.94z\"/><path d=\"M17.41 7.96l-1.37-1.37c-.4-.4-.92-.59-1.43-.59-.52 0-1.04.2-1.43.59L10.3 9.45l-7.72 7.72c-.78.78-.78 2.05 0 2.83L4 21.41c.39.39.9.59 1.41.59.51 0 1.02-.2 1.41-.59l7.78-7.78 2.81-2.81c.8-.78.8-2.07 0-2.86zM5.41 20L4 18.59l7.72-7.72 1.47 1.35L5.41 20z\"/>\n",
              "  </svg>\n",
              "      </button>\n",
              "      \n",
              "  <style>\n",
              "    .colab-df-container {\n",
              "      display:flex;\n",
              "      flex-wrap:wrap;\n",
              "      gap: 12px;\n",
              "    }\n",
              "\n",
              "    .colab-df-convert {\n",
              "      background-color: #E8F0FE;\n",
              "      border: none;\n",
              "      border-radius: 50%;\n",
              "      cursor: pointer;\n",
              "      display: none;\n",
              "      fill: #1967D2;\n",
              "      height: 32px;\n",
              "      padding: 0 0 0 0;\n",
              "      width: 32px;\n",
              "    }\n",
              "\n",
              "    .colab-df-convert:hover {\n",
              "      background-color: #E2EBFA;\n",
              "      box-shadow: 0px 1px 2px rgba(60, 64, 67, 0.3), 0px 1px 3px 1px rgba(60, 64, 67, 0.15);\n",
              "      fill: #174EA6;\n",
              "    }\n",
              "\n",
              "    [theme=dark] .colab-df-convert {\n",
              "      background-color: #3B4455;\n",
              "      fill: #D2E3FC;\n",
              "    }\n",
              "\n",
              "    [theme=dark] .colab-df-convert:hover {\n",
              "      background-color: #434B5C;\n",
              "      box-shadow: 0px 1px 3px 1px rgba(0, 0, 0, 0.15);\n",
              "      filter: drop-shadow(0px 1px 2px rgba(0, 0, 0, 0.3));\n",
              "      fill: #FFFFFF;\n",
              "    }\n",
              "  </style>\n",
              "\n",
              "      <script>\n",
              "        const buttonEl =\n",
              "          document.querySelector('#df-951ae9c0-4466-4c52-a473-787da3371f63 button.colab-df-convert');\n",
              "        buttonEl.style.display =\n",
              "          google.colab.kernel.accessAllowed ? 'block' : 'none';\n",
              "\n",
              "        async function convertToInteractive(key) {\n",
              "          const element = document.querySelector('#df-951ae9c0-4466-4c52-a473-787da3371f63');\n",
              "          const dataTable =\n",
              "            await google.colab.kernel.invokeFunction('convertToInteractive',\n",
              "                                                     [key], {});\n",
              "          if (!dataTable) return;\n",
              "\n",
              "          const docLinkHtml = 'Like what you see? Visit the ' +\n",
              "            '<a target=\"_blank\" href=https://colab.research.google.com/notebooks/data_table.ipynb>data table notebook</a>'\n",
              "            + ' to learn more about interactive tables.';\n",
              "          element.innerHTML = '';\n",
              "          dataTable['output_type'] = 'display_data';\n",
              "          await google.colab.output.renderOutput(dataTable, element);\n",
              "          const docLink = document.createElement('div');\n",
              "          docLink.innerHTML = docLinkHtml;\n",
              "          element.appendChild(docLink);\n",
              "        }\n",
              "      </script>\n",
              "    </div>\n",
              "  </div>\n",
              "  "
            ]
          },
          "metadata": {},
          "execution_count": 56
        }
      ]
    },
    {
      "cell_type": "markdown",
      "source": [
        "Output data should be integer, steps data should not in float."
      ],
      "metadata": {
        "id": "jFxZdmSVMzc6"
      }
    },
    {
      "cell_type": "code",
      "source": [
        "round(P8_data.groupby('Time')['Steps (count)'].sum())"
      ],
      "metadata": {
        "colab": {
          "base_uri": "https://localhost:8080/"
        },
        "id": "bpqzHzXASPuq",
        "outputId": "345c1349-28c4-496b-81c1-101894b89a61"
      },
      "execution_count": 62,
      "outputs": [
        {
          "output_type": "execute_result",
          "data": {
            "text/plain": [
              "Time\n",
              " 00        16.0\n",
              " 01        38.0\n",
              " 02        52.0\n",
              " 03       146.0\n",
              " 04      1249.0\n",
              " 05     15275.0\n",
              " 06     34385.0\n",
              " 07    122440.0\n",
              " 08    223748.0\n",
              " 09    188612.0\n",
              " 10    177229.0\n",
              " 11    196049.0\n",
              " 12    162981.0\n",
              " 13    105001.0\n",
              " 14    155007.0\n",
              " 15    225315.0\n",
              " 16    242797.0\n",
              " 17    135174.0\n",
              " 18    101897.0\n",
              " 19     72405.0\n",
              " 20     30600.0\n",
              " 21     13329.0\n",
              " 22      3840.0\n",
              " 23        91.0\n",
              "Name: Steps (count), dtype: float64"
            ]
          },
          "metadata": {},
          "execution_count": 62
        }
      ]
    },
    {
      "cell_type": "markdown",
      "source": [
        "Plot the graph with time and steps."
      ],
      "metadata": {
        "id": "JLXdRab0GBuT"
      }
    },
    {
      "cell_type": "code",
      "source": [
        "plt.plot(round(P8_data.groupby('Time')['Steps (count)'].sum()))"
      ],
      "metadata": {
        "colab": {
          "base_uri": "https://localhost:8080/",
          "height": 283
        },
        "id": "xxa4RrUoTE0y",
        "outputId": "f69295bc-cbd7-4a13-b382-ce7bb4cbc58a"
      },
      "execution_count": 63,
      "outputs": [
        {
          "output_type": "execute_result",
          "data": {
            "text/plain": [
              "[<matplotlib.lines.Line2D at 0x7f388bbc2490>]"
            ]
          },
          "metadata": {},
          "execution_count": 63
        },
        {
          "output_type": "display_data",
          "data": {
            "text/plain": [
              "<Figure size 432x288 with 1 Axes>"
            ],
            "image/png": "[encoded data removed]"
          },
          "metadata": {
            "needs_background": "light"
          }
        }
      ]
    },
    {
      "cell_type": "code",
      "source": [
        "P8_data.groupby('Month')['Steps (count)'].sum()"
      ],
      "metadata": {
        "colab": {
          "base_uri": "https://localhost:8080/"
        },
        "id": "K60ZgO3z_C2w",
        "outputId": "e5a9203b-b37a-4ed6-8a4f-33ef0db0d634"
      },
      "execution_count": 57,
      "outputs": [
        {
          "output_type": "execute_result",
          "data": {
            "text/plain": [
              "Month\n",
              "Apr    262138.0\n",
              "Aug    297977.0\n",
              "Feb    245087.0\n",
              "Jan    213809.0\n",
              "Jul    265860.0\n",
              "Jun    225710.0\n",
              "Mar    264200.0\n",
              "May    299847.0\n",
              "Sep    133050.0\n",
              "Name: Steps (count), dtype: float64"
            ]
          },
          "metadata": {},
          "execution_count": 57
        }
      ]
    },
    {
      "cell_type": "markdown",
      "source": [
        "Plot the graph with month and steps."
      ],
      "metadata": {
        "id": "PqT-o2ckGJ2R"
      }
    },
    {
      "cell_type": "code",
      "source": [
        "plt.plot(P8_data.groupby('Month')['Steps (count)'].sum())"
      ],
      "metadata": {
        "colab": {
          "base_uri": "https://localhost:8080/",
          "height": 283
        },
        "id": "zIeMtKof_Lcb",
        "outputId": "cf1a1469-e448-4efe-a08d-de2cf5fc87c5"
      },
      "execution_count": 61,
      "outputs": [
        {
          "output_type": "execute_result",
          "data": {
            "text/plain": [
              "[<matplotlib.lines.Line2D at 0x7f388bd60e90>]"
            ]
          },
          "metadata": {},
          "execution_count": 61
        },
        {
          "output_type": "display_data",
          "data": {
            "text/plain": [
              "<Figure size 432x288 with 1 Axes>"
            ],
            "image/png": "[encoded data removed]"
          },
          "metadata": {
            "needs_background": "light"
          }
        }
      ]
    },
    {
      "cell_type": "code",
      "source": [
        "P8_data.groupby('Day')['Steps (count)'].sum()"
      ],
      "metadata": {
        "colab": {
          "base_uri": "https://localhost:8080/"
        },
        "id": "thYjQOqI_HWn",
        "outputId": "085fd770-a24c-499c-a50a-b1bc301437bd"
      },
      "execution_count": 60,
      "outputs": [
        {
          "output_type": "execute_result",
          "data": {
            "text/plain": [
              "Day\n",
              "01    69789.0\n",
              "02    69997.0\n",
              "03    61183.0\n",
              "04    69107.0\n",
              "05    69270.0\n",
              "06    79021.0\n",
              "07    74899.0\n",
              "08    78978.0\n",
              "09    93381.0\n",
              "10    91694.0\n",
              "11    64454.0\n",
              "12    65007.0\n",
              "13    69288.0\n",
              "14    62077.0\n",
              "15    70229.0\n",
              "16    77937.0\n",
              "17    69285.0\n",
              "18    66947.0\n",
              "19    72356.0\n",
              "20    79688.0\n",
              "21    77614.0\n",
              "22    74364.0\n",
              "23    70527.0\n",
              "24    61776.0\n",
              "25    72476.0\n",
              "26    80998.0\n",
              "27    77753.0\n",
              "28    66079.0\n",
              "29    62515.0\n",
              "30    57175.0\n",
              "31    51814.0\n",
              "Name: Steps (count), dtype: float64"
            ]
          },
          "metadata": {},
          "execution_count": 60
        }
      ]
    },
    {
      "cell_type": "markdown",
      "source": [
        "Plot the graph with days and steps."
      ],
      "metadata": {
        "id": "MFFwmCK8GdFU"
      }
    },
    {
      "cell_type": "code",
      "source": [
        "plt.plot(P8_data.groupby('Day')['Steps (count)'].sum())"
      ],
      "metadata": {
        "colab": {
          "base_uri": "https://localhost:8080/",
          "height": 283
        },
        "id": "cMi1u-b8_PGJ",
        "outputId": "b85caad5-660a-4b80-a489-448bc8a92b9e"
      },
      "execution_count": 59,
      "outputs": [
        {
          "output_type": "execute_result",
          "data": {
            "text/plain": [
              "[<matplotlib.lines.Line2D at 0x7f388c0986d0>]"
            ]
          },
          "metadata": {},
          "execution_count": 59
        },
        {
          "output_type": "display_data",
          "data": {
            "text/plain": [
              "<Figure size 432x288 with 1 Axes>"
            ],
            "image/png": "[encoded data removed]"
          },
          "metadata": {
            "needs_background": "light"
          }
        }
      ]
    }
  ]
}