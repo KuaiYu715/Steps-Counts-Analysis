{
  "nbformat": 4,
  "nbformat_minor": 0,
  "metadata": {
    "colab": {
      "provenance": [],
      "collapsed_sections": []
    },
    "kernelspec": {
      "name": "python3",
      "display_name": "Python 3"
    },
    "language_info": {
      "name": "python"
    }
  },
  "cells": [
    {
      "cell_type": "markdown",
      "source": [
        "## Personal report for participant07(Dataset)\n",
        "de shi \n",
        "\n",
        "SID:510526247"
      ],
      "metadata": {
        "id": "CVpOd-RYBwiy"
      }
    },
    {
      "cell_type": "markdown",
      "source": [
        "Data import and Cleaning"
      ],
      "metadata": {
        "id": "caGjYpsgBz6r"
      }
    },
    {
      "cell_type": "code",
      "execution_count": 39,
      "metadata": {
        "id": "E3Pt5IlLdXiS"
      },
      "outputs": [],
      "source": [
        "import pandas as pd\n",
        "import numpy as np\n",
        "import matplotlib.pyplot as plt\n",
        "from scipy.stats import linregress\n",
        "from random import choice\n",
        "from sklearn import datasets\n",
        "from sklearn.linear_model import LogisticRegression\n",
        "from sklearn.model_selection import train_test_split\n",
        "from sklearn.metrics import accuracy_score"
      ]
    },
    {
      "cell_type": "code",
      "source": [
        "from google.colab import drive\n",
        "drive.mount('/content/drive')#located on the google drive file"
      ],
      "metadata": {
        "id": "fOwSJWsodcMK",
        "colab": {
          "base_uri": "https://localhost:8080/"
        },
        "outputId": "4da3c166-b1f9-4c9a-d8c8-f9838e2ab741"
      },
      "execution_count": 2,
      "outputs": [
        {
          "output_type": "stream",
          "name": "stdout",
          "text": [
            "Drive already mounted at /content/drive; to attempt to forcibly remount, call drive.mount(\"/content/drive\", force_remount=True).\n"
          ]
        }
      ]
    },
    {
      "cell_type": "code",
      "source": [
        "P7_data = pd.read_csv(\"/content/drive/MyDrive/Colab Notebooks/Participant-07.csv\", sep=\",\")#read the data use pandas\n",
        "P7_data "
      ],
      "metadata": {
        "id": "U4ROE9g4dgj8",
        "colab": {
          "base_uri": "https://localhost:8080/",
          "height": 424
        },
        "outputId": "4e782092-190d-4104-9f06-c2740cdd4313"
      },
      "execution_count": 3,
      "outputs": [
        {
          "output_type": "execute_result",
          "data": {
            "text/plain": [
              "                  Start             Finish  Steps (count)\n",
              "0     01-Jan-2022 00:00  01-Jan-2022 01:00           32.0\n",
              "1     01-Jan-2022 01:00  01-Jan-2022 02:00            0.0\n",
              "2     01-Jan-2022 02:00  01-Jan-2022 03:00            0.0\n",
              "3     01-Jan-2022 03:00  01-Jan-2022 04:00            0.0\n",
              "4     01-Jan-2022 04:00  01-Jan-2022 05:00            0.0\n",
              "...                 ...                ...            ...\n",
              "6128  13-Sep-2022 07:00  13-Sep-2022 08:00          798.0\n",
              "6129  13-Sep-2022 08:00  13-Sep-2022 09:00          139.0\n",
              "6130  13-Sep-2022 09:00  13-Sep-2022 10:00          392.0\n",
              "6131  13-Sep-2022 10:00  13-Sep-2022 11:00          328.0\n",
              "6132  13-Sep-2022 11:00  13-Sep-2022 12:00            0.0\n",
              "\n",
              "[6133 rows x 3 columns]"
            ],
            "text/html": [
              "\n",
              "  <div id=\"df-2c80df6e-c28b-4fd3-b82c-bb9583a74d10\">\n",
              "    <div class=\"colab-df-container\">\n",
              "      <div>\n",
              "<style scoped>\n",
              "    .dataframe tbody tr th:only-of-type {\n",
              "        vertical-align: middle;\n",
              "    }\n",
              "\n",
              "    .dataframe tbody tr th {\n",
              "        vertical-align: top;\n",
              "    }\n",
              "\n",
              "    .dataframe thead th {\n",
              "        text-align: right;\n",
              "    }\n",
              "</style>\n",
              "<table border=\"1\" class=\"dataframe\">\n",
              "  <thead>\n",
              "    <tr style=\"text-align: right;\">\n",
              "      <th></th>\n",
              "      <th>Start</th>\n",
              "      <th>Finish</th>\n",
              "      <th>Steps (count)</th>\n",
              "    </tr>\n",
              "  </thead>\n",
              "  <tbody>\n",
              "    <tr>\n",
              "      <th>0</th>\n",
              "      <td>01-Jan-2022 00:00</td>\n",
              "      <td>01-Jan-2022 01:00</td>\n",
              "      <td>32.0</td>\n",
              "    </tr>\n",
              "    <tr>\n",
              "      <th>1</th>\n",
              "      <td>01-Jan-2022 01:00</td>\n",
              "      <td>01-Jan-2022 02:00</td>\n",
              "      <td>0.0</td>\n",
              "    </tr>\n",
              "    <tr>\n",
              "      <th>2</th>\n",
              "      <td>01-Jan-2022 02:00</td>\n",
              "      <td>01-Jan-2022 03:00</td>\n",
              "      <td>0.0</td>\n",
              "    </tr>\n",
              "    <tr>\n",
              "      <th>3</th>\n",
              "      <td>01-Jan-2022 03:00</td>\n",
              "      <td>01-Jan-2022 04:00</td>\n",
              "      <td>0.0</td>\n",
              "    </tr>\n",
              "    <tr>\n",
              "      <th>4</th>\n",
              "      <td>01-Jan-2022 04:00</td>\n",
              "      <td>01-Jan-2022 05:00</td>\n",
              "      <td>0.0</td>\n",
              "    </tr>\n",
              "    <tr>\n",
              "      <th>...</th>\n",
              "      <td>...</td>\n",
              "      <td>...</td>\n",
              "      <td>...</td>\n",
              "    </tr>\n",
              "    <tr>\n",
              "      <th>6128</th>\n",
              "      <td>13-Sep-2022 07:00</td>\n",
              "      <td>13-Sep-2022 08:00</td>\n",
              "      <td>798.0</td>\n",
              "    </tr>\n",
              "    <tr>\n",
              "      <th>6129</th>\n",
              "      <td>13-Sep-2022 08:00</td>\n",
              "      <td>13-Sep-2022 09:00</td>\n",
              "      <td>139.0</td>\n",
              "    </tr>\n",
              "    <tr>\n",
              "      <th>6130</th>\n",
              "      <td>13-Sep-2022 09:00</td>\n",
              "      <td>13-Sep-2022 10:00</td>\n",
              "      <td>392.0</td>\n",
              "    </tr>\n",
              "    <tr>\n",
              "      <th>6131</th>\n",
              "      <td>13-Sep-2022 10:00</td>\n",
              "      <td>13-Sep-2022 11:00</td>\n",
              "      <td>328.0</td>\n",
              "    </tr>\n",
              "    <tr>\n",
              "      <th>6132</th>\n",
              "      <td>13-Sep-2022 11:00</td>\n",
              "      <td>13-Sep-2022 12:00</td>\n",
              "      <td>0.0</td>\n",
              "    </tr>\n",
              "  </tbody>\n",
              "</table>\n",
              "<p>6133 rows × 3 columns</p>\n",
              "</div>\n",
              "      <button class=\"colab-df-convert\" onclick=\"convertToInteractive('df-2c80df6e-c28b-4fd3-b82c-bb9583a74d10')\"\n",
              "              title=\"Convert this dataframe to an interactive table.\"\n",
              "              style=\"display:none;\">\n",
              "        \n",
              "  <svg xmlns=\"http://www.w3.org/2000/svg\" height=\"24px\"viewBox=\"0 0 24 24\"\n",
              "       width=\"24px\">\n",
              "    <path d=\"M0 0h24v24H0V0z\" fill=\"none\"/>\n",
              "    <path d=\"M18.56 5.44l.94 2.06.94-2.06 2.06-.94-2.06-.94-.94-2.06-.94 2.06-2.06.94zm-11 1L8.5 8.5l.94-2.06 2.06-.94-2.06-.94L8.5 2.5l-.94 2.06-2.06.94zm10 10l.94 2.06.94-2.06 2.06-.94-2.06-.94-.94-2.06-.94 2.06-2.06.94z\"/><path d=\"M17.41 7.96l-1.37-1.37c-.4-.4-.92-.59-1.43-.59-.52 0-1.04.2-1.43.59L10.3 9.45l-7.72 7.72c-.78.78-.78 2.05 0 2.83L4 21.41c.39.39.9.59 1.41.59.51 0 1.02-.2 1.41-.59l7.78-7.78 2.81-2.81c.8-.78.8-2.07 0-2.86zM5.41 20L4 18.59l7.72-7.72 1.47 1.35L5.41 20z\"/>\n",
              "  </svg>\n",
              "      </button>\n",
              "      \n",
              "  <style>\n",
              "    .colab-df-container {\n",
              "      display:flex;\n",
              "      flex-wrap:wrap;\n",
              "      gap: 12px;\n",
              "    }\n",
              "\n",
              "    .colab-df-convert {\n",
              "      background-color: #E8F0FE;\n",
              "      border: none;\n",
              "      border-radius: 50%;\n",
              "      cursor: pointer;\n",
              "      display: none;\n",
              "      fill: #1967D2;\n",
              "      height: 32px;\n",
              "      padding: 0 0 0 0;\n",
              "      width: 32px;\n",
              "    }\n",
              "\n",
              "    .colab-df-convert:hover {\n",
              "      background-color: #E2EBFA;\n",
              "      box-shadow: 0px 1px 2px rgba(60, 64, 67, 0.3), 0px 1px 3px 1px rgba(60, 64, 67, 0.15);\n",
              "      fill: #174EA6;\n",
              "    }\n",
              "\n",
              "    [theme=dark] .colab-df-convert {\n",
              "      background-color: #3B4455;\n",
              "      fill: #D2E3FC;\n",
              "    }\n",
              "\n",
              "    [theme=dark] .colab-df-convert:hover {\n",
              "      background-color: #434B5C;\n",
              "      box-shadow: 0px 1px 3px 1px rgba(0, 0, 0, 0.15);\n",
              "      filter: drop-shadow(0px 1px 2px rgba(0, 0, 0, 0.3));\n",
              "      fill: #FFFFFF;\n",
              "    }\n",
              "  </style>\n",
              "\n",
              "      <script>\n",
              "        const buttonEl =\n",
              "          document.querySelector('#df-2c80df6e-c28b-4fd3-b82c-bb9583a74d10 button.colab-df-convert');\n",
              "        buttonEl.style.display =\n",
              "          google.colab.kernel.accessAllowed ? 'block' : 'none';\n",
              "\n",
              "        async function convertToInteractive(key) {\n",
              "          const element = document.querySelector('#df-2c80df6e-c28b-4fd3-b82c-bb9583a74d10');\n",
              "          const dataTable =\n",
              "            await google.colab.kernel.invokeFunction('convertToInteractive',\n",
              "                                                     [key], {});\n",
              "          if (!dataTable) return;\n",
              "\n",
              "          const docLinkHtml = 'Like what you see? Visit the ' +\n",
              "            '<a target=\"_blank\" href=https://colab.research.google.com/notebooks/data_table.ipynb>data table notebook</a>'\n",
              "            + ' to learn more about interactive tables.';\n",
              "          element.innerHTML = '';\n",
              "          dataTable['output_type'] = 'display_data';\n",
              "          await google.colab.output.renderOutput(dataTable, element);\n",
              "          const docLink = document.createElement('div');\n",
              "          docLink.innerHTML = docLinkHtml;\n",
              "          element.appendChild(docLink);\n",
              "        }\n",
              "      </script>\n",
              "    </div>\n",
              "  </div>\n",
              "  "
            ]
          },
          "metadata": {},
          "execution_count": 3
        }
      ]
    },
    {
      "cell_type": "code",
      "source": [
        "y = P7_data['Steps (count)']\n",
        "# x = np.linspace(0,6133)\n",
        "plt.plot(y,label = 'daily steps')\n",
        "plt.legend()\n",
        "plt.show()#draw the plot and brief look at the visualision of data"
      ],
      "metadata": {
        "id": "GcglH-DMkDQO",
        "colab": {
          "base_uri": "https://localhost:8080/",
          "height": 265
        },
        "outputId": "f74ff5eb-ce2e-4832-ffa8-5e1f7913554a"
      },
      "execution_count": 4,
      "outputs": [
        {
          "output_type": "display_data",
          "data": {
            "text/plain": [
              "<Figure size 432x288 with 1 Axes>"
            ],
            "image/png": "[encoded data removed]"
          },
          "metadata": {
            "needs_background": "light"
          }
        }
      ]
    },
    {
      "cell_type": "code",
      "source": [
        "P7_data['Steps (count)'].fillna(0,inplace = True)\n",
        "data07 = P7_data.drop(['Start'],axis = 1)#select the column that needed \n",
        "data07"
      ],
      "metadata": {
        "id": "x72GHgCIecFp",
        "colab": {
          "base_uri": "https://localhost:8080/",
          "height": 424
        },
        "outputId": "addc87f0-a2d1-4ba1-dc7a-84cd8707794c"
      },
      "execution_count": 5,
      "outputs": [
        {
          "output_type": "execute_result",
          "data": {
            "text/plain": [
              "                 Finish  Steps (count)\n",
              "0     01-Jan-2022 01:00           32.0\n",
              "1     01-Jan-2022 02:00            0.0\n",
              "2     01-Jan-2022 03:00            0.0\n",
              "3     01-Jan-2022 04:00            0.0\n",
              "4     01-Jan-2022 05:00            0.0\n",
              "...                 ...            ...\n",
              "6128  13-Sep-2022 08:00          798.0\n",
              "6129  13-Sep-2022 09:00          139.0\n",
              "6130  13-Sep-2022 10:00          392.0\n",
              "6131  13-Sep-2022 11:00          328.0\n",
              "6132  13-Sep-2022 12:00            0.0\n",
              "\n",
              "[6133 rows x 2 columns]"
            ],
            "text/html": [
              "\n",
              "  <div id=\"df-76a19e64-f03c-4e33-a0d9-d68b04448e48\">\n",
              "    <div class=\"colab-df-container\">\n",
              "      <div>\n",
              "<style scoped>\n",
              "    .dataframe tbody tr th:only-of-type {\n",
              "        vertical-align: middle;\n",
              "    }\n",
              "\n",
              "    .dataframe tbody tr th {\n",
              "        vertical-align: top;\n",
              "    }\n",
              "\n",
              "    .dataframe thead th {\n",
              "        text-align: right;\n",
              "    }\n",
              "</style>\n",
              "<table border=\"1\" class=\"dataframe\">\n",
              "  <thead>\n",
              "    <tr style=\"text-align: right;\">\n",
              "      <th></th>\n",
              "      <th>Finish</th>\n",
              "      <th>Steps (count)</th>\n",
              "    </tr>\n",
              "  </thead>\n",
              "  <tbody>\n",
              "    <tr>\n",
              "      <th>0</th>\n",
              "      <td>01-Jan-2022 01:00</td>\n",
              "      <td>32.0</td>\n",
              "    </tr>\n",
              "    <tr>\n",
              "      <th>1</th>\n",
              "      <td>01-Jan-2022 02:00</td>\n",
              "      <td>0.0</td>\n",
              "    </tr>\n",
              "    <tr>\n",
              "      <th>2</th>\n",
              "      <td>01-Jan-2022 03:00</td>\n",
              "      <td>0.0</td>\n",
              "    </tr>\n",
              "    <tr>\n",
              "      <th>3</th>\n",
              "      <td>01-Jan-2022 04:00</td>\n",
              "      <td>0.0</td>\n",
              "    </tr>\n",
              "    <tr>\n",
              "      <th>4</th>\n",
              "      <td>01-Jan-2022 05:00</td>\n",
              "      <td>0.0</td>\n",
              "    </tr>\n",
              "    <tr>\n",
              "      <th>...</th>\n",
              "      <td>...</td>\n",
              "      <td>...</td>\n",
              "    </tr>\n",
              "    <tr>\n",
              "      <th>6128</th>\n",
              "      <td>13-Sep-2022 08:00</td>\n",
              "      <td>798.0</td>\n",
              "    </tr>\n",
              "    <tr>\n",
              "      <th>6129</th>\n",
              "      <td>13-Sep-2022 09:00</td>\n",
              "      <td>139.0</td>\n",
              "    </tr>\n",
              "    <tr>\n",
              "      <th>6130</th>\n",
              "      <td>13-Sep-2022 10:00</td>\n",
              "      <td>392.0</td>\n",
              "    </tr>\n",
              "    <tr>\n",
              "      <th>6131</th>\n",
              "      <td>13-Sep-2022 11:00</td>\n",
              "      <td>328.0</td>\n",
              "    </tr>\n",
              "    <tr>\n",
              "      <th>6132</th>\n",
              "      <td>13-Sep-2022 12:00</td>\n",
              "      <td>0.0</td>\n",
              "    </tr>\n",
              "  </tbody>\n",
              "</table>\n",
              "<p>6133 rows × 2 columns</p>\n",
              "</div>\n",
              "      <button class=\"colab-df-convert\" onclick=\"convertToInteractive('df-76a19e64-f03c-4e33-a0d9-d68b04448e48')\"\n",
              "              title=\"Convert this dataframe to an interactive table.\"\n",
              "              style=\"display:none;\">\n",
              "        \n",
              "  <svg xmlns=\"http://www.w3.org/2000/svg\" height=\"24px\"viewBox=\"0 0 24 24\"\n",
              "       width=\"24px\">\n",
              "    <path d=\"M0 0h24v24H0V0z\" fill=\"none\"/>\n",
              "    <path d=\"M18.56 5.44l.94 2.06.94-2.06 2.06-.94-2.06-.94-.94-2.06-.94 2.06-2.06.94zm-11 1L8.5 8.5l.94-2.06 2.06-.94-2.06-.94L8.5 2.5l-.94 2.06-2.06.94zm10 10l.94 2.06.94-2.06 2.06-.94-2.06-.94-.94-2.06-.94 2.06-2.06.94z\"/><path d=\"M17.41 7.96l-1.37-1.37c-.4-.4-.92-.59-1.43-.59-.52 0-1.04.2-1.43.59L10.3 9.45l-7.72 7.72c-.78.78-.78 2.05 0 2.83L4 21.41c.39.39.9.59 1.41.59.51 0 1.02-.2 1.41-.59l7.78-7.78 2.81-2.81c.8-.78.8-2.07 0-2.86zM5.41 20L4 18.59l7.72-7.72 1.47 1.35L5.41 20z\"/>\n",
              "  </svg>\n",
              "      </button>\n",
              "      \n",
              "  <style>\n",
              "    .colab-df-container {\n",
              "      display:flex;\n",
              "      flex-wrap:wrap;\n",
              "      gap: 12px;\n",
              "    }\n",
              "\n",
              "    .colab-df-convert {\n",
              "      background-color: #E8F0FE;\n",
              "      border: none;\n",
              "      border-radius: 50%;\n",
              "      cursor: pointer;\n",
              "      display: none;\n",
              "      fill: #1967D2;\n",
              "      height: 32px;\n",
              "      padding: 0 0 0 0;\n",
              "      width: 32px;\n",
              "    }\n",
              "\n",
              "    .colab-df-convert:hover {\n",
              "      background-color: #E2EBFA;\n",
              "      box-shadow: 0px 1px 2px rgba(60, 64, 67, 0.3), 0px 1px 3px 1px rgba(60, 64, 67, 0.15);\n",
              "      fill: #174EA6;\n",
              "    }\n",
              "\n",
              "    [theme=dark] .colab-df-convert {\n",
              "      background-color: #3B4455;\n",
              "      fill: #D2E3FC;\n",
              "    }\n",
              "\n",
              "    [theme=dark] .colab-df-convert:hover {\n",
              "      background-color: #434B5C;\n",
              "      box-shadow: 0px 1px 3px 1px rgba(0, 0, 0, 0.15);\n",
              "      filter: drop-shadow(0px 1px 2px rgba(0, 0, 0, 0.3));\n",
              "      fill: #FFFFFF;\n",
              "    }\n",
              "  </style>\n",
              "\n",
              "      <script>\n",
              "        const buttonEl =\n",
              "          document.querySelector('#df-76a19e64-f03c-4e33-a0d9-d68b04448e48 button.colab-df-convert');\n",
              "        buttonEl.style.display =\n",
              "          google.colab.kernel.accessAllowed ? 'block' : 'none';\n",
              "\n",
              "        async function convertToInteractive(key) {\n",
              "          const element = document.querySelector('#df-76a19e64-f03c-4e33-a0d9-d68b04448e48');\n",
              "          const dataTable =\n",
              "            await google.colab.kernel.invokeFunction('convertToInteractive',\n",
              "                                                     [key], {});\n",
              "          if (!dataTable) return;\n",
              "\n",
              "          const docLinkHtml = 'Like what you see? Visit the ' +\n",
              "            '<a target=\"_blank\" href=https://colab.research.google.com/notebooks/data_table.ipynb>data table notebook</a>'\n",
              "            + ' to learn more about interactive tables.';\n",
              "          element.innerHTML = '';\n",
              "          dataTable['output_type'] = 'display_data';\n",
              "          await google.colab.output.renderOutput(dataTable, element);\n",
              "          const docLink = document.createElement('div');\n",
              "          docLink.innerHTML = docLinkHtml;\n",
              "          element.appendChild(docLink);\n",
              "        }\n",
              "      </script>\n",
              "    </div>\n",
              "  </div>\n",
              "  "
            ]
          },
          "metadata": {},
          "execution_count": 5
        }
      ]
    },
    {
      "cell_type": "code",
      "source": [
        "Date = data07['Finish']\n",
        "# for i in range(count(Date))\n",
        "dates= []\n",
        "p = len(Date)\n",
        "i = 0\n",
        "for i in range(p):\n",
        "  Date[i] = Date[i][0:11]\n",
        "  dates.append(Date[i])\n",
        "# choose the column that approate for the goal, here we select the length from 1-11."
      ],
      "metadata": {
        "id": "WuSwZM-iqHlg",
        "colab": {
          "base_uri": "https://localhost:8080/"
        },
        "outputId": "073d28a7-c818-4575-e371-2e6bfb3a1a97"
      },
      "execution_count": 6,
      "outputs": [
        {
          "output_type": "stream",
          "name": "stderr",
          "text": [
            "/usr/local/lib/python3.7/dist-packages/ipykernel_launcher.py:7: SettingWithCopyWarning: \n",
            "A value is trying to be set on a copy of a slice from a DataFrame\n",
            "\n",
            "See the caveats in the documentation: https://pandas.pydata.org/pandas-docs/stable/user_guide/indexing.html#returning-a-view-versus-a-copy\n",
            "  import sys\n"
          ]
        }
      ]
    },
    {
      "cell_type": "code",
      "source": [
        "# Date01 = data07['Finish']\n",
        "# date07 = []\n",
        "# for i in range(len(Date01)):\n",
        "#   for line in Date01:\n",
        "#     if line[3:6] == 'Jan':\n",
        "#       line[3:6].replace('01')\n",
        "      \n",
        "#     elif line[3:6] =='Feb':\n",
        "#       line[3:6] = '2'\n",
        "#     else:\n",
        "#       pass\n"
      ],
      "metadata": {
        "id": "P1fxmZ_PHCxZ"
      },
      "execution_count": 7,
      "outputs": []
    },
    {
      "cell_type": "code",
      "source": [
        "data07"
      ],
      "metadata": {
        "id": "EsJp7BJ1rqC7",
        "colab": {
          "base_uri": "https://localhost:8080/",
          "height": 424
        },
        "outputId": "16972228-c5ee-483a-9006-de5532f7a4d6"
      },
      "execution_count": 8,
      "outputs": [
        {
          "output_type": "execute_result",
          "data": {
            "text/plain": [
              "           Finish  Steps (count)\n",
              "0     01-Jan-2022           32.0\n",
              "1     01-Jan-2022            0.0\n",
              "2     01-Jan-2022            0.0\n",
              "3     01-Jan-2022            0.0\n",
              "4     01-Jan-2022            0.0\n",
              "...           ...            ...\n",
              "6128  13-Sep-2022          798.0\n",
              "6129  13-Sep-2022          139.0\n",
              "6130  13-Sep-2022          392.0\n",
              "6131  13-Sep-2022          328.0\n",
              "6132  13-Sep-2022            0.0\n",
              "\n",
              "[6133 rows x 2 columns]"
            ],
            "text/html": [
              "\n",
              "  <div id=\"df-d242b4e2-d999-42ff-af52-528cadaf07e7\">\n",
              "    <div class=\"colab-df-container\">\n",
              "      <div>\n",
              "<style scoped>\n",
              "    .dataframe tbody tr th:only-of-type {\n",
              "        vertical-align: middle;\n",
              "    }\n",
              "\n",
              "    .dataframe tbody tr th {\n",
              "        vertical-align: top;\n",
              "    }\n",
              "\n",
              "    .dataframe thead th {\n",
              "        text-align: right;\n",
              "    }\n",
              "</style>\n",
              "<table border=\"1\" class=\"dataframe\">\n",
              "  <thead>\n",
              "    <tr style=\"text-align: right;\">\n",
              "      <th></th>\n",
              "      <th>Finish</th>\n",
              "      <th>Steps (count)</th>\n",
              "    </tr>\n",
              "  </thead>\n",
              "  <tbody>\n",
              "    <tr>\n",
              "      <th>0</th>\n",
              "      <td>01-Jan-2022</td>\n",
              "      <td>32.0</td>\n",
              "    </tr>\n",
              "    <tr>\n",
              "      <th>1</th>\n",
              "      <td>01-Jan-2022</td>\n",
              "      <td>0.0</td>\n",
              "    </tr>\n",
              "    <tr>\n",
              "      <th>2</th>\n",
              "      <td>01-Jan-2022</td>\n",
              "      <td>0.0</td>\n",
              "    </tr>\n",
              "    <tr>\n",
              "      <th>3</th>\n",
              "      <td>01-Jan-2022</td>\n",
              "      <td>0.0</td>\n",
              "    </tr>\n",
              "    <tr>\n",
              "      <th>4</th>\n",
              "      <td>01-Jan-2022</td>\n",
              "      <td>0.0</td>\n",
              "    </tr>\n",
              "    <tr>\n",
              "      <th>...</th>\n",
              "      <td>...</td>\n",
              "      <td>...</td>\n",
              "    </tr>\n",
              "    <tr>\n",
              "      <th>6128</th>\n",
              "      <td>13-Sep-2022</td>\n",
              "      <td>798.0</td>\n",
              "    </tr>\n",
              "    <tr>\n",
              "      <th>6129</th>\n",
              "      <td>13-Sep-2022</td>\n",
              "      <td>139.0</td>\n",
              "    </tr>\n",
              "    <tr>\n",
              "      <th>6130</th>\n",
              "      <td>13-Sep-2022</td>\n",
              "      <td>392.0</td>\n",
              "    </tr>\n",
              "    <tr>\n",
              "      <th>6131</th>\n",
              "      <td>13-Sep-2022</td>\n",
              "      <td>328.0</td>\n",
              "    </tr>\n",
              "    <tr>\n",
              "      <th>6132</th>\n",
              "      <td>13-Sep-2022</td>\n",
              "      <td>0.0</td>\n",
              "    </tr>\n",
              "  </tbody>\n",
              "</table>\n",
              "<p>6133 rows × 2 columns</p>\n",
              "</div>\n",
              "      <button class=\"colab-df-convert\" onclick=\"convertToInteractive('df-d242b4e2-d999-42ff-af52-528cadaf07e7')\"\n",
              "              title=\"Convert this dataframe to an interactive table.\"\n",
              "              style=\"display:none;\">\n",
              "        \n",
              "  <svg xmlns=\"http://www.w3.org/2000/svg\" height=\"24px\"viewBox=\"0 0 24 24\"\n",
              "       width=\"24px\">\n",
              "    <path d=\"M0 0h24v24H0V0z\" fill=\"none\"/>\n",
              "    <path d=\"M18.56 5.44l.94 2.06.94-2.06 2.06-.94-2.06-.94-.94-2.06-.94 2.06-2.06.94zm-11 1L8.5 8.5l.94-2.06 2.06-.94-2.06-.94L8.5 2.5l-.94 2.06-2.06.94zm10 10l.94 2.06.94-2.06 2.06-.94-2.06-.94-.94-2.06-.94 2.06-2.06.94z\"/><path d=\"M17.41 7.96l-1.37-1.37c-.4-.4-.92-.59-1.43-.59-.52 0-1.04.2-1.43.59L10.3 9.45l-7.72 7.72c-.78.78-.78 2.05 0 2.83L4 21.41c.39.39.9.59 1.41.59.51 0 1.02-.2 1.41-.59l7.78-7.78 2.81-2.81c.8-.78.8-2.07 0-2.86zM5.41 20L4 18.59l7.72-7.72 1.47 1.35L5.41 20z\"/>\n",
              "  </svg>\n",
              "      </button>\n",
              "      \n",
              "  <style>\n",
              "    .colab-df-container {\n",
              "      display:flex;\n",
              "      flex-wrap:wrap;\n",
              "      gap: 12px;\n",
              "    }\n",
              "\n",
              "    .colab-df-convert {\n",
              "      background-color: #E8F0FE;\n",
              "      border: none;\n",
              "      border-radius: 50%;\n",
              "      cursor: pointer;\n",
              "      display: none;\n",
              "      fill: #1967D2;\n",
              "      height: 32px;\n",
              "      padding: 0 0 0 0;\n",
              "      width: 32px;\n",
              "    }\n",
              "\n",
              "    .colab-df-convert:hover {\n",
              "      background-color: #E2EBFA;\n",
              "      box-shadow: 0px 1px 2px rgba(60, 64, 67, 0.3), 0px 1px 3px 1px rgba(60, 64, 67, 0.15);\n",
              "      fill: #174EA6;\n",
              "    }\n",
              "\n",
              "    [theme=dark] .colab-df-convert {\n",
              "      background-color: #3B4455;\n",
              "      fill: #D2E3FC;\n",
              "    }\n",
              "\n",
              "    [theme=dark] .colab-df-convert:hover {\n",
              "      background-color: #434B5C;\n",
              "      box-shadow: 0px 1px 3px 1px rgba(0, 0, 0, 0.15);\n",
              "      filter: drop-shadow(0px 1px 2px rgba(0, 0, 0, 0.3));\n",
              "      fill: #FFFFFF;\n",
              "    }\n",
              "  </style>\n",
              "\n",
              "      <script>\n",
              "        const buttonEl =\n",
              "          document.querySelector('#df-d242b4e2-d999-42ff-af52-528cadaf07e7 button.colab-df-convert');\n",
              "        buttonEl.style.display =\n",
              "          google.colab.kernel.accessAllowed ? 'block' : 'none';\n",
              "\n",
              "        async function convertToInteractive(key) {\n",
              "          const element = document.querySelector('#df-d242b4e2-d999-42ff-af52-528cadaf07e7');\n",
              "          const dataTable =\n",
              "            await google.colab.kernel.invokeFunction('convertToInteractive',\n",
              "                                                     [key], {});\n",
              "          if (!dataTable) return;\n",
              "\n",
              "          const docLinkHtml = 'Like what you see? Visit the ' +\n",
              "            '<a target=\"_blank\" href=https://colab.research.google.com/notebooks/data_table.ipynb>data table notebook</a>'\n",
              "            + ' to learn more about interactive tables.';\n",
              "          element.innerHTML = '';\n",
              "          dataTable['output_type'] = 'display_data';\n",
              "          await google.colab.output.renderOutput(dataTable, element);\n",
              "          const docLink = document.createElement('div');\n",
              "          docLink.innerHTML = docLinkHtml;\n",
              "          element.appendChild(docLink);\n",
              "        }\n",
              "      </script>\n",
              "    </div>\n",
              "  </div>\n",
              "  "
            ]
          },
          "metadata": {},
          "execution_count": 8
        }
      ]
    },
    {
      "cell_type": "code",
      "source": [
        "data07['Finish'] = data07['Finish'].apply(pd.to_datetime)#transfer the month form letter into numerical.\n",
        "data07\n",
        "# print(type(data07['Finish']))"
      ],
      "metadata": {
        "id": "aEMMM4HF8FQg",
        "colab": {
          "base_uri": "https://localhost:8080/",
          "height": 424
        },
        "outputId": "8f9ff295-1ee3-443c-9e29-6fc3bafbc33b"
      },
      "execution_count": 9,
      "outputs": [
        {
          "output_type": "execute_result",
          "data": {
            "text/plain": [
              "         Finish  Steps (count)\n",
              "0    2022-01-01           32.0\n",
              "1    2022-01-01            0.0\n",
              "2    2022-01-01            0.0\n",
              "3    2022-01-01            0.0\n",
              "4    2022-01-01            0.0\n",
              "...         ...            ...\n",
              "6128 2022-09-13          798.0\n",
              "6129 2022-09-13          139.0\n",
              "6130 2022-09-13          392.0\n",
              "6131 2022-09-13          328.0\n",
              "6132 2022-09-13            0.0\n",
              "\n",
              "[6133 rows x 2 columns]"
            ],
            "text/html": [
              "\n",
              "  <div id=\"df-8e25a74f-c95f-4e11-bc55-9a76d1fb5f0c\">\n",
              "    <div class=\"colab-df-container\">\n",
              "      <div>\n",
              "<style scoped>\n",
              "    .dataframe tbody tr th:only-of-type {\n",
              "        vertical-align: middle;\n",
              "    }\n",
              "\n",
              "    .dataframe tbody tr th {\n",
              "        vertical-align: top;\n",
              "    }\n",
              "\n",
              "    .dataframe thead th {\n",
              "        text-align: right;\n",
              "    }\n",
              "</style>\n",
              "<table border=\"1\" class=\"dataframe\">\n",
              "  <thead>\n",
              "    <tr style=\"text-align: right;\">\n",
              "      <th></th>\n",
              "      <th>Finish</th>\n",
              "      <th>Steps (count)</th>\n",
              "    </tr>\n",
              "  </thead>\n",
              "  <tbody>\n",
              "    <tr>\n",
              "      <th>0</th>\n",
              "      <td>2022-01-01</td>\n",
              "      <td>32.0</td>\n",
              "    </tr>\n",
              "    <tr>\n",
              "      <th>1</th>\n",
              "      <td>2022-01-01</td>\n",
              "      <td>0.0</td>\n",
              "    </tr>\n",
              "    <tr>\n",
              "      <th>2</th>\n",
              "      <td>2022-01-01</td>\n",
              "      <td>0.0</td>\n",
              "    </tr>\n",
              "    <tr>\n",
              "      <th>3</th>\n",
              "      <td>2022-01-01</td>\n",
              "      <td>0.0</td>\n",
              "    </tr>\n",
              "    <tr>\n",
              "      <th>4</th>\n",
              "      <td>2022-01-01</td>\n",
              "      <td>0.0</td>\n",
              "    </tr>\n",
              "    <tr>\n",
              "      <th>...</th>\n",
              "      <td>...</td>\n",
              "      <td>...</td>\n",
              "    </tr>\n",
              "    <tr>\n",
              "      <th>6128</th>\n",
              "      <td>2022-09-13</td>\n",
              "      <td>798.0</td>\n",
              "    </tr>\n",
              "    <tr>\n",
              "      <th>6129</th>\n",
              "      <td>2022-09-13</td>\n",
              "      <td>139.0</td>\n",
              "    </tr>\n",
              "    <tr>\n",
              "      <th>6130</th>\n",
              "      <td>2022-09-13</td>\n",
              "      <td>392.0</td>\n",
              "    </tr>\n",
              "    <tr>\n",
              "      <th>6131</th>\n",
              "      <td>2022-09-13</td>\n",
              "      <td>328.0</td>\n",
              "    </tr>\n",
              "    <tr>\n",
              "      <th>6132</th>\n",
              "      <td>2022-09-13</td>\n",
              "      <td>0.0</td>\n",
              "    </tr>\n",
              "  </tbody>\n",
              "</table>\n",
              "<p>6133 rows × 2 columns</p>\n",
              "</div>\n",
              "      <button class=\"colab-df-convert\" onclick=\"convertToInteractive('df-8e25a74f-c95f-4e11-bc55-9a76d1fb5f0c')\"\n",
              "              title=\"Convert this dataframe to an interactive table.\"\n",
              "              style=\"display:none;\">\n",
              "        \n",
              "  <svg xmlns=\"http://www.w3.org/2000/svg\" height=\"24px\"viewBox=\"0 0 24 24\"\n",
              "       width=\"24px\">\n",
              "    <path d=\"M0 0h24v24H0V0z\" fill=\"none\"/>\n",
              "    <path d=\"M18.56 5.44l.94 2.06.94-2.06 2.06-.94-2.06-.94-.94-2.06-.94 2.06-2.06.94zm-11 1L8.5 8.5l.94-2.06 2.06-.94-2.06-.94L8.5 2.5l-.94 2.06-2.06.94zm10 10l.94 2.06.94-2.06 2.06-.94-2.06-.94-.94-2.06-.94 2.06-2.06.94z\"/><path d=\"M17.41 7.96l-1.37-1.37c-.4-.4-.92-.59-1.43-.59-.52 0-1.04.2-1.43.59L10.3 9.45l-7.72 7.72c-.78.78-.78 2.05 0 2.83L4 21.41c.39.39.9.59 1.41.59.51 0 1.02-.2 1.41-.59l7.78-7.78 2.81-2.81c.8-.78.8-2.07 0-2.86zM5.41 20L4 18.59l7.72-7.72 1.47 1.35L5.41 20z\"/>\n",
              "  </svg>\n",
              "      </button>\n",
              "      \n",
              "  <style>\n",
              "    .colab-df-container {\n",
              "      display:flex;\n",
              "      flex-wrap:wrap;\n",
              "      gap: 12px;\n",
              "    }\n",
              "\n",
              "    .colab-df-convert {\n",
              "      background-color: #E8F0FE;\n",
              "      border: none;\n",
              "      border-radius: 50%;\n",
              "      cursor: pointer;\n",
              "      display: none;\n",
              "      fill: #1967D2;\n",
              "      height: 32px;\n",
              "      padding: 0 0 0 0;\n",
              "      width: 32px;\n",
              "    }\n",
              "\n",
              "    .colab-df-convert:hover {\n",
              "      background-color: #E2EBFA;\n",
              "      box-shadow: 0px 1px 2px rgba(60, 64, 67, 0.3), 0px 1px 3px 1px rgba(60, 64, 67, 0.15);\n",
              "      fill: #174EA6;\n",
              "    }\n",
              "\n",
              "    [theme=dark] .colab-df-convert {\n",
              "      background-color: #3B4455;\n",
              "      fill: #D2E3FC;\n",
              "    }\n",
              "\n",
              "    [theme=dark] .colab-df-convert:hover {\n",
              "      background-color: #434B5C;\n",
              "      box-shadow: 0px 1px 3px 1px rgba(0, 0, 0, 0.15);\n",
              "      filter: drop-shadow(0px 1px 2px rgba(0, 0, 0, 0.3));\n",
              "      fill: #FFFFFF;\n",
              "    }\n",
              "  </style>\n",
              "\n",
              "      <script>\n",
              "        const buttonEl =\n",
              "          document.querySelector('#df-8e25a74f-c95f-4e11-bc55-9a76d1fb5f0c button.colab-df-convert');\n",
              "        buttonEl.style.display =\n",
              "          google.colab.kernel.accessAllowed ? 'block' : 'none';\n",
              "\n",
              "        async function convertToInteractive(key) {\n",
              "          const element = document.querySelector('#df-8e25a74f-c95f-4e11-bc55-9a76d1fb5f0c');\n",
              "          const dataTable =\n",
              "            await google.colab.kernel.invokeFunction('convertToInteractive',\n",
              "                                                     [key], {});\n",
              "          if (!dataTable) return;\n",
              "\n",
              "          const docLinkHtml = 'Like what you see? Visit the ' +\n",
              "            '<a target=\"_blank\" href=https://colab.research.google.com/notebooks/data_table.ipynb>data table notebook</a>'\n",
              "            + ' to learn more about interactive tables.';\n",
              "          element.innerHTML = '';\n",
              "          dataTable['output_type'] = 'display_data';\n",
              "          await google.colab.output.renderOutput(dataTable, element);\n",
              "          const docLink = document.createElement('div');\n",
              "          docLink.innerHTML = docLinkHtml;\n",
              "          element.appendChild(docLink);\n",
              "        }\n",
              "      </script>\n",
              "    </div>\n",
              "  </div>\n",
              "  "
            ]
          },
          "metadata": {},
          "execution_count": 9
        }
      ]
    },
    {
      "cell_type": "code",
      "source": [
        "data07.info()#check the data with basic information "
      ],
      "metadata": {
        "id": "1NKts-jdmuX1",
        "colab": {
          "base_uri": "https://localhost:8080/"
        },
        "outputId": "25cb18fd-7777-4b9f-c6da-f901d1889418"
      },
      "execution_count": 10,
      "outputs": [
        {
          "output_type": "stream",
          "name": "stdout",
          "text": [
            "<class 'pandas.core.frame.DataFrame'>\n",
            "RangeIndex: 6133 entries, 0 to 6132\n",
            "Data columns (total 2 columns):\n",
            " #   Column         Non-Null Count  Dtype         \n",
            "---  ------         --------------  -----         \n",
            " 0   Finish         6133 non-null   datetime64[ns]\n",
            " 1   Steps (count)  6133 non-null   float64       \n",
            "dtypes: datetime64[ns](1), float64(1)\n",
            "memory usage: 96.0 KB\n"
          ]
        }
      ]
    },
    {
      "cell_type": "code",
      "source": [
        "weeksum = pd.DataFrame(data07.resample('w',on = 'Finish')['Steps (count)'].sum()).reset_index()#seprarte the date into week \n",
        "weeksum.head(10)#check the first 10 data for weeksum"
      ],
      "metadata": {
        "id": "eppRGoUXm4oQ",
        "colab": {
          "base_uri": "https://localhost:8080/",
          "height": 363
        },
        "outputId": "feb8a8e3-9813-49e4-9445-fadc49540a10"
      },
      "execution_count": 11,
      "outputs": [
        {
          "output_type": "execute_result",
          "data": {
            "text/plain": [
              "      Finish  Steps (count)\n",
              "0 2022-01-02        14740.0\n",
              "1 2022-01-09        48061.0\n",
              "2 2022-01-16        45772.0\n",
              "3 2022-01-23        64605.0\n",
              "4 2022-01-30        52111.0\n",
              "5 2022-02-06        52746.0\n",
              "6 2022-02-13        57124.0\n",
              "7 2022-02-20        66694.0\n",
              "8 2022-02-27        47431.0\n",
              "9 2022-03-06        51290.0"
            ],
            "text/html": [
              "\n",
              "  <div id=\"df-24d3def4-9688-4370-95b0-f0a792e4af39\">\n",
              "    <div class=\"colab-df-container\">\n",
              "      <div>\n",
              "<style scoped>\n",
              "    .dataframe tbody tr th:only-of-type {\n",
              "        vertical-align: middle;\n",
              "    }\n",
              "\n",
              "    .dataframe tbody tr th {\n",
              "        vertical-align: top;\n",
              "    }\n",
              "\n",
              "    .dataframe thead th {\n",
              "        text-align: right;\n",
              "    }\n",
              "</style>\n",
              "<table border=\"1\" class=\"dataframe\">\n",
              "  <thead>\n",
              "    <tr style=\"text-align: right;\">\n",
              "      <th></th>\n",
              "      <th>Finish</th>\n",
              "      <th>Steps (count)</th>\n",
              "    </tr>\n",
              "  </thead>\n",
              "  <tbody>\n",
              "    <tr>\n",
              "      <th>0</th>\n",
              "      <td>2022-01-02</td>\n",
              "      <td>14740.0</td>\n",
              "    </tr>\n",
              "    <tr>\n",
              "      <th>1</th>\n",
              "      <td>2022-01-09</td>\n",
              "      <td>48061.0</td>\n",
              "    </tr>\n",
              "    <tr>\n",
              "      <th>2</th>\n",
              "      <td>2022-01-16</td>\n",
              "      <td>45772.0</td>\n",
              "    </tr>\n",
              "    <tr>\n",
              "      <th>3</th>\n",
              "      <td>2022-01-23</td>\n",
              "      <td>64605.0</td>\n",
              "    </tr>\n",
              "    <tr>\n",
              "      <th>4</th>\n",
              "      <td>2022-01-30</td>\n",
              "      <td>52111.0</td>\n",
              "    </tr>\n",
              "    <tr>\n",
              "      <th>5</th>\n",
              "      <td>2022-02-06</td>\n",
              "      <td>52746.0</td>\n",
              "    </tr>\n",
              "    <tr>\n",
              "      <th>6</th>\n",
              "      <td>2022-02-13</td>\n",
              "      <td>57124.0</td>\n",
              "    </tr>\n",
              "    <tr>\n",
              "      <th>7</th>\n",
              "      <td>2022-02-20</td>\n",
              "      <td>66694.0</td>\n",
              "    </tr>\n",
              "    <tr>\n",
              "      <th>8</th>\n",
              "      <td>2022-02-27</td>\n",
              "      <td>47431.0</td>\n",
              "    </tr>\n",
              "    <tr>\n",
              "      <th>9</th>\n",
              "      <td>2022-03-06</td>\n",
              "      <td>51290.0</td>\n",
              "    </tr>\n",
              "  </tbody>\n",
              "</table>\n",
              "</div>\n",
              "      <button class=\"colab-df-convert\" onclick=\"convertToInteractive('df-24d3def4-9688-4370-95b0-f0a792e4af39')\"\n",
              "              title=\"Convert this dataframe to an interactive table.\"\n",
              "              style=\"display:none;\">\n",
              "        \n",
              "  <svg xmlns=\"http://www.w3.org/2000/svg\" height=\"24px\"viewBox=\"0 0 24 24\"\n",
              "       width=\"24px\">\n",
              "    <path d=\"M0 0h24v24H0V0z\" fill=\"none\"/>\n",
              "    <path d=\"M18.56 5.44l.94 2.06.94-2.06 2.06-.94-2.06-.94-.94-2.06-.94 2.06-2.06.94zm-11 1L8.5 8.5l.94-2.06 2.06-.94-2.06-.94L8.5 2.5l-.94 2.06-2.06.94zm10 10l.94 2.06.94-2.06 2.06-.94-2.06-.94-.94-2.06-.94 2.06-2.06.94z\"/><path d=\"M17.41 7.96l-1.37-1.37c-.4-.4-.92-.59-1.43-.59-.52 0-1.04.2-1.43.59L10.3 9.45l-7.72 7.72c-.78.78-.78 2.05 0 2.83L4 21.41c.39.39.9.59 1.41.59.51 0 1.02-.2 1.41-.59l7.78-7.78 2.81-2.81c.8-.78.8-2.07 0-2.86zM5.41 20L4 18.59l7.72-7.72 1.47 1.35L5.41 20z\"/>\n",
              "  </svg>\n",
              "      </button>\n",
              "      \n",
              "  <style>\n",
              "    .colab-df-container {\n",
              "      display:flex;\n",
              "      flex-wrap:wrap;\n",
              "      gap: 12px;\n",
              "    }\n",
              "\n",
              "    .colab-df-convert {\n",
              "      background-color: #E8F0FE;\n",
              "      border: none;\n",
              "      border-radius: 50%;\n",
              "      cursor: pointer;\n",
              "      display: none;\n",
              "      fill: #1967D2;\n",
              "      height: 32px;\n",
              "      padding: 0 0 0 0;\n",
              "      width: 32px;\n",
              "    }\n",
              "\n",
              "    .colab-df-convert:hover {\n",
              "      background-color: #E2EBFA;\n",
              "      box-shadow: 0px 1px 2px rgba(60, 64, 67, 0.3), 0px 1px 3px 1px rgba(60, 64, 67, 0.15);\n",
              "      fill: #174EA6;\n",
              "    }\n",
              "\n",
              "    [theme=dark] .colab-df-convert {\n",
              "      background-color: #3B4455;\n",
              "      fill: #D2E3FC;\n",
              "    }\n",
              "\n",
              "    [theme=dark] .colab-df-convert:hover {\n",
              "      background-color: #434B5C;\n",
              "      box-shadow: 0px 1px 3px 1px rgba(0, 0, 0, 0.15);\n",
              "      filter: drop-shadow(0px 1px 2px rgba(0, 0, 0, 0.3));\n",
              "      fill: #FFFFFF;\n",
              "    }\n",
              "  </style>\n",
              "\n",
              "      <script>\n",
              "        const buttonEl =\n",
              "          document.querySelector('#df-24d3def4-9688-4370-95b0-f0a792e4af39 button.colab-df-convert');\n",
              "        buttonEl.style.display =\n",
              "          google.colab.kernel.accessAllowed ? 'block' : 'none';\n",
              "\n",
              "        async function convertToInteractive(key) {\n",
              "          const element = document.querySelector('#df-24d3def4-9688-4370-95b0-f0a792e4af39');\n",
              "          const dataTable =\n",
              "            await google.colab.kernel.invokeFunction('convertToInteractive',\n",
              "                                                     [key], {});\n",
              "          if (!dataTable) return;\n",
              "\n",
              "          const docLinkHtml = 'Like what you see? Visit the ' +\n",
              "            '<a target=\"_blank\" href=https://colab.research.google.com/notebooks/data_table.ipynb>data table notebook</a>'\n",
              "            + ' to learn more about interactive tables.';\n",
              "          element.innerHTML = '';\n",
              "          dataTable['output_type'] = 'display_data';\n",
              "          await google.colab.output.renderOutput(dataTable, element);\n",
              "          const docLink = document.createElement('div');\n",
              "          docLink.innerHTML = docLinkHtml;\n",
              "          element.appendChild(docLink);\n",
              "        }\n",
              "      </script>\n",
              "    </div>\n",
              "  </div>\n",
              "  "
            ]
          },
          "metadata": {},
          "execution_count": 11
        }
      ]
    },
    {
      "cell_type": "code",
      "source": [
        "import plotly.express as px\n",
        "plot = px.box(weeksum,x ='Steps (count)')\n",
        "plot.show()#draw the boxplot to see the whole data that distributed."
      ],
      "metadata": {
        "id": "XWgavPj60Loi",
        "colab": {
          "base_uri": "https://localhost:8080/",
          "height": 542
        },
        "outputId": "2c6ebcba-3271-45e4-b1dc-9161e6c173eb"
      },
      "execution_count": 12,
      "outputs": [
        {
          "output_type": "display_data",
          "data": {
            "text/html": [
              "<html>\n",
              "<head><meta charset=\"utf-8\" /></head>\n",
              "<body>\n",
              "    <div>            <script src=\"https://cdnjs.cloudflare.com/ajax/libs/mathjax/2.7.5/MathJax.js?config=TeX-AMS-MML_SVG\"></script><script type=\"text/javascript\">if (window.MathJax) {MathJax.Hub.Config({SVG: {font: \"STIX-Web\"}});}</script>                <script type=\"text/javascript\">window.PlotlyConfig = {MathJaxConfig: 'local'};</script>\n",
              "        <script src=\"https://cdn.plot.ly/plotly-2.8.3.min.js\"></script>                <div id=\"3518fa9d-4ced-4aec-9f3e-8dfbb76c4246\" class=\"plotly-graph-div\" style=\"height:525px; width:100%;\"></div>            <script type=\"text/javascript\">                                    window.PLOTLYENV=window.PLOTLYENV || {};                                    if (document.getElementById(\"3518fa9d-4ced-4aec-9f3e-8dfbb76c4246\")) {                    Plotly.newPlot(                        \"3518fa9d-4ced-4aec-9f3e-8dfbb76c4246\",                        [{\"alignmentgroup\":\"True\",\"hovertemplate\":\"Steps (count)=%{x}<extra></extra>\",\"legendgroup\":\"\",\"marker\":{\"color\":\"#636efa\"},\"name\":\"\",\"notched\":false,\"offsetgroup\":\"\",\"orientation\":\"h\",\"showlegend\":false,\"x\":[14739.999999999998,48061.00000000001,45772.00000000001,64604.99999999999,52110.99999999999,52745.999999999985,57124.00000000002,66693.99999999999,47431.00000000001,51289.99999999999,53691.99999999999,56876.0,67034.99999999999,54875.00000000001,59333.0,61871.591248161196,57057.408751838804,27508.000000000007,53033.00000000001,55363.0,49861.999999999985,57809.99999999999,52799.00000000001,52088.000000000015,46412.999999999985,44960.0,59203.0,42272.000000000015,54566.999999999985,52939.99999999999,61220.00000000002,62450.035842155135,56873.619987730846,59772.3148671422,54765.57849076069,50097.131635870515,65206.684002947724,13084.366487907088],\"x0\":\" \",\"xaxis\":\"x\",\"y0\":\" \",\"yaxis\":\"y\",\"type\":\"box\"}],                        {\"template\":{\"data\":{\"bar\":[{\"error_x\":{\"color\":\"#2a3f5f\"},\"error_y\":{\"color\":\"#2a3f5f\"},\"marker\":{\"line\":{\"color\":\"#E5ECF6\",\"width\":0.5},\"pattern\":{\"fillmode\":\"overlay\",\"size\":10,\"solidity\":0.2}},\"type\":\"bar\"}],\"barpolar\":[{\"marker\":{\"line\":{\"color\":\"#E5ECF6\",\"width\":0.5},\"pattern\":{\"fillmode\":\"overlay\",\"size\":10,\"solidity\":0.2}},\"type\":\"barpolar\"}],\"carpet\":[{\"aaxis\":{\"endlinecolor\":\"#2a3f5f\",\"gridcolor\":\"white\",\"linecolor\":\"white\",\"minorgridcolor\":\"white\",\"startlinecolor\":\"#2a3f5f\"},\"baxis\":{\"endlinecolor\":\"#2a3f5f\",\"gridcolor\":\"white\",\"linecolor\":\"white\",\"minorgridcolor\":\"white\",\"startlinecolor\":\"#2a3f5f\"},\"type\":\"carpet\"}],\"choropleth\":[{\"colorbar\":{\"outlinewidth\":0,\"ticks\":\"\"},\"type\":\"choropleth\"}],\"contour\":[{\"colorbar\":{\"outlinewidth\":0,\"ticks\":\"\"},\"colorscale\":[[0.0,\"#0d0887\"],[0.1111111111111111,\"#46039f\"],[0.2222222222222222,\"#7201a8\"],[0.3333333333333333,\"#9c179e\"],[0.4444444444444444,\"#bd3786\"],[0.5555555555555556,\"#d8576b\"],[0.6666666666666666,\"#ed7953\"],[0.7777777777777778,\"#fb9f3a\"],[0.8888888888888888,\"#fdca26\"],[1.0,\"#f0f921\"]],\"type\":\"contour\"}],\"contourcarpet\":[{\"colorbar\":{\"outlinewidth\":0,\"ticks\":\"\"},\"type\":\"contourcarpet\"}],\"heatmap\":[{\"colorbar\":{\"outlinewidth\":0,\"ticks\":\"\"},\"colorscale\":[[0.0,\"#0d0887\"],[0.1111111111111111,\"#46039f\"],[0.2222222222222222,\"#7201a8\"],[0.3333333333333333,\"#9c179e\"],[0.4444444444444444,\"#bd3786\"],[0.5555555555555556,\"#d8576b\"],[0.6666666666666666,\"#ed7953\"],[0.7777777777777778,\"#fb9f3a\"],[0.8888888888888888,\"#fdca26\"],[1.0,\"#f0f921\"]],\"type\":\"heatmap\"}],\"heatmapgl\":[{\"colorbar\":{\"outlinewidth\":0,\"ticks\":\"\"},\"colorscale\":[[0.0,\"#0d0887\"],[0.1111111111111111,\"#46039f\"],[0.2222222222222222,\"#7201a8\"],[0.3333333333333333,\"#9c179e\"],[0.4444444444444444,\"#bd3786\"],[0.5555555555555556,\"#d8576b\"],[0.6666666666666666,\"#ed7953\"],[0.7777777777777778,\"#fb9f3a\"],[0.8888888888888888,\"#fdca26\"],[1.0,\"#f0f921\"]],\"type\":\"heatmapgl\"}],\"histogram\":[{\"marker\":{\"pattern\":{\"fillmode\":\"overlay\",\"size\":10,\"solidity\":0.2}},\"type\":\"histogram\"}],\"histogram2d\":[{\"colorbar\":{\"outlinewidth\":0,\"ticks\":\"\"},\"colorscale\":[[0.0,\"#0d0887\"],[0.1111111111111111,\"#46039f\"],[0.2222222222222222,\"#7201a8\"],[0.3333333333333333,\"#9c179e\"],[0.4444444444444444,\"#bd3786\"],[0.5555555555555556,\"#d8576b\"],[0.6666666666666666,\"#ed7953\"],[0.7777777777777778,\"#fb9f3a\"],[0.8888888888888888,\"#fdca26\"],[1.0,\"#f0f921\"]],\"type\":\"histogram2d\"}],\"histogram2dcontour\":[{\"colorbar\":{\"outlinewidth\":0,\"ticks\":\"\"},\"colorscale\":[[0.0,\"#0d0887\"],[0.1111111111111111,\"#46039f\"],[0.2222222222222222,\"#7201a8\"],[0.3333333333333333,\"#9c179e\"],[0.4444444444444444,\"#bd3786\"],[0.5555555555555556,\"#d8576b\"],[0.6666666666666666,\"#ed7953\"],[0.7777777777777778,\"#fb9f3a\"],[0.8888888888888888,\"#fdca26\"],[1.0,\"#f0f921\"]],\"type\":\"histogram2dcontour\"}],\"mesh3d\":[{\"colorbar\":{\"outlinewidth\":0,\"ticks\":\"\"},\"type\":\"mesh3d\"}],\"parcoords\":[{\"line\":{\"colorbar\":{\"outlinewidth\":0,\"ticks\":\"\"}},\"type\":\"parcoords\"}],\"pie\":[{\"automargin\":true,\"type\":\"pie\"}],\"scatter\":[{\"marker\":{\"colorbar\":{\"outlinewidth\":0,\"ticks\":\"\"}},\"type\":\"scatter\"}],\"scatter3d\":[{\"line\":{\"colorbar\":{\"outlinewidth\":0,\"ticks\":\"\"}},\"marker\":{\"colorbar\":{\"outlinewidth\":0,\"ticks\":\"\"}},\"type\":\"scatter3d\"}],\"scattercarpet\":[{\"marker\":{\"colorbar\":{\"outlinewidth\":0,\"ticks\":\"\"}},\"type\":\"scattercarpet\"}],\"scattergeo\":[{\"marker\":{\"colorbar\":{\"outlinewidth\":0,\"ticks\":\"\"}},\"type\":\"scattergeo\"}],\"scattergl\":[{\"marker\":{\"colorbar\":{\"outlinewidth\":0,\"ticks\":\"\"}},\"type\":\"scattergl\"}],\"scattermapbox\":[{\"marker\":{\"colorbar\":{\"outlinewidth\":0,\"ticks\":\"\"}},\"type\":\"scattermapbox\"}],\"scatterpolar\":[{\"marker\":{\"colorbar\":{\"outlinewidth\":0,\"ticks\":\"\"}},\"type\":\"scatterpolar\"}],\"scatterpolargl\":[{\"marker\":{\"colorbar\":{\"outlinewidth\":0,\"ticks\":\"\"}},\"type\":\"scatterpolargl\"}],\"scatterternary\":[{\"marker\":{\"colorbar\":{\"outlinewidth\":0,\"ticks\":\"\"}},\"type\":\"scatterternary\"}],\"surface\":[{\"colorbar\":{\"outlinewidth\":0,\"ticks\":\"\"},\"colorscale\":[[0.0,\"#0d0887\"],[0.1111111111111111,\"#46039f\"],[0.2222222222222222,\"#7201a8\"],[0.3333333333333333,\"#9c179e\"],[0.4444444444444444,\"#bd3786\"],[0.5555555555555556,\"#d8576b\"],[0.6666666666666666,\"#ed7953\"],[0.7777777777777778,\"#fb9f3a\"],[0.8888888888888888,\"#fdca26\"],[1.0,\"#f0f921\"]],\"type\":\"surface\"}],\"table\":[{\"cells\":{\"fill\":{\"color\":\"#EBF0F8\"},\"line\":{\"color\":\"white\"}},\"header\":{\"fill\":{\"color\":\"#C8D4E3\"},\"line\":{\"color\":\"white\"}},\"type\":\"table\"}]},\"layout\":{\"annotationdefaults\":{\"arrowcolor\":\"#2a3f5f\",\"arrowhead\":0,\"arrowwidth\":1},\"autotypenumbers\":\"strict\",\"coloraxis\":{\"colorbar\":{\"outlinewidth\":0,\"ticks\":\"\"}},\"colorscale\":{\"diverging\":[[0,\"#8e0152\"],[0.1,\"#c51b7d\"],[0.2,\"#de77ae\"],[0.3,\"#f1b6da\"],[0.4,\"#fde0ef\"],[0.5,\"#f7f7f7\"],[0.6,\"#e6f5d0\"],[0.7,\"#b8e186\"],[0.8,\"#7fbc41\"],[0.9,\"#4d9221\"],[1,\"#276419\"]],\"sequential\":[[0.0,\"#0d0887\"],[0.1111111111111111,\"#46039f\"],[0.2222222222222222,\"#7201a8\"],[0.3333333333333333,\"#9c179e\"],[0.4444444444444444,\"#bd3786\"],[0.5555555555555556,\"#d8576b\"],[0.6666666666666666,\"#ed7953\"],[0.7777777777777778,\"#fb9f3a\"],[0.8888888888888888,\"#fdca26\"],[1.0,\"#f0f921\"]],\"sequentialminus\":[[0.0,\"#0d0887\"],[0.1111111111111111,\"#46039f\"],[0.2222222222222222,\"#7201a8\"],[0.3333333333333333,\"#9c179e\"],[0.4444444444444444,\"#bd3786\"],[0.5555555555555556,\"#d8576b\"],[0.6666666666666666,\"#ed7953\"],[0.7777777777777778,\"#fb9f3a\"],[0.8888888888888888,\"#fdca26\"],[1.0,\"#f0f921\"]]},\"colorway\":[\"#636efa\",\"#EF553B\",\"#00cc96\",\"#ab63fa\",\"#FFA15A\",\"#19d3f3\",\"#FF6692\",\"#B6E880\",\"#FF97FF\",\"#FECB52\"],\"font\":{\"color\":\"#2a3f5f\"},\"geo\":{\"bgcolor\":\"white\",\"lakecolor\":\"white\",\"landcolor\":\"#E5ECF6\",\"showlakes\":true,\"showland\":true,\"subunitcolor\":\"white\"},\"hoverlabel\":{\"align\":\"left\"},\"hovermode\":\"closest\",\"mapbox\":{\"style\":\"light\"},\"paper_bgcolor\":\"white\",\"plot_bgcolor\":\"#E5ECF6\",\"polar\":{\"angularaxis\":{\"gridcolor\":\"white\",\"linecolor\":\"white\",\"ticks\":\"\"},\"bgcolor\":\"#E5ECF6\",\"radialaxis\":{\"gridcolor\":\"white\",\"linecolor\":\"white\",\"ticks\":\"\"}},\"scene\":{\"xaxis\":{\"backgroundcolor\":\"#E5ECF6\",\"gridcolor\":\"white\",\"gridwidth\":2,\"linecolor\":\"white\",\"showbackground\":true,\"ticks\":\"\",\"zerolinecolor\":\"white\"},\"yaxis\":{\"backgroundcolor\":\"#E5ECF6\",\"gridcolor\":\"white\",\"gridwidth\":2,\"linecolor\":\"white\",\"showbackground\":true,\"ticks\":\"\",\"zerolinecolor\":\"white\"},\"zaxis\":{\"backgroundcolor\":\"#E5ECF6\",\"gridcolor\":\"white\",\"gridwidth\":2,\"linecolor\":\"white\",\"showbackground\":true,\"ticks\":\"\",\"zerolinecolor\":\"white\"}},\"shapedefaults\":{\"line\":{\"color\":\"#2a3f5f\"}},\"ternary\":{\"aaxis\":{\"gridcolor\":\"white\",\"linecolor\":\"white\",\"ticks\":\"\"},\"baxis\":{\"gridcolor\":\"white\",\"linecolor\":\"white\",\"ticks\":\"\"},\"bgcolor\":\"#E5ECF6\",\"caxis\":{\"gridcolor\":\"white\",\"linecolor\":\"white\",\"ticks\":\"\"}},\"title\":{\"x\":0.05},\"xaxis\":{\"automargin\":true,\"gridcolor\":\"white\",\"linecolor\":\"white\",\"ticks\":\"\",\"title\":{\"standoff\":15},\"zerolinecolor\":\"white\",\"zerolinewidth\":2},\"yaxis\":{\"automargin\":true,\"gridcolor\":\"white\",\"linecolor\":\"white\",\"ticks\":\"\",\"title\":{\"standoff\":15},\"zerolinecolor\":\"white\",\"zerolinewidth\":2}}},\"xaxis\":{\"anchor\":\"y\",\"domain\":[0.0,1.0],\"title\":{\"text\":\"Steps (count)\"}},\"yaxis\":{\"anchor\":\"x\",\"domain\":[0.0,1.0]},\"legend\":{\"tracegroupgap\":0},\"margin\":{\"t\":60},\"boxmode\":\"group\"},                        {\"responsive\": true}                    ).then(function(){\n",
              "                            \n",
              "var gd = document.getElementById('3518fa9d-4ced-4aec-9f3e-8dfbb76c4246');\n",
              "var x = new MutationObserver(function (mutations, observer) {{\n",
              "        var display = window.getComputedStyle(gd).display;\n",
              "        if (!display || display === 'none') {{\n",
              "            console.log([gd, 'removed!']);\n",
              "            Plotly.purge(gd);\n",
              "            observer.disconnect();\n",
              "        }}\n",
              "}});\n",
              "\n",
              "// Listen for the removal of the full notebook cells\n",
              "var notebookContainer = gd.closest('#notebook-container');\n",
              "if (notebookContainer) {{\n",
              "    x.observe(notebookContainer, {childList: true});\n",
              "}}\n",
              "\n",
              "// Listen for the clearing of the current output cell\n",
              "var outputEl = gd.closest('.output');\n",
              "if (outputEl) {{\n",
              "    x.observe(outputEl, {childList: true});\n",
              "}}\n",
              "\n",
              "                        })                };                            </script>        </div>\n",
              "</body>\n",
              "</html>"
            ]
          },
          "metadata": {}
        }
      ]
    },
    {
      "cell_type": "markdown",
      "source": [
        "Here I use plotly.express package to draw the boxplot to see the whole natural of 01dataset with 13084stpes which is minimum and with 3 outliers, the underlimit is 42272steps and Q1(25%) is 49862 steps and the median is 54129.5 steps"
      ],
      "metadata": {
        "id": "-V1aCrrIGepD"
      }
    },
    {
      "cell_type": "code",
      "source": [
        "fig = px.histogram(weeksum, x=\"Finish\",y ='Steps (count)' ,nbins =len(weeksum),color_discrete_sequence=['indianred'])\n",
        "fig.show()"
      ],
      "metadata": {
        "id": "Q8RduYXGqIKX",
        "colab": {
          "base_uri": "https://localhost:8080/",
          "height": 542
        },
        "outputId": "5288dc69-77ab-44f5-c373-4a7b918fd093"
      },
      "execution_count": 13,
      "outputs": [
        {
          "output_type": "display_data",
          "data": {
            "text/html": [
              "<html>\n",
              "<head><meta charset=\"utf-8\" /></head>\n",
              "<body>\n",
              "    <div>            <script src=\"https://cdnjs.cloudflare.com/ajax/libs/mathjax/2.7.5/MathJax.js?config=TeX-AMS-MML_SVG\"></script><script type=\"text/javascript\">if (window.MathJax) {MathJax.Hub.Config({SVG: {font: \"STIX-Web\"}});}</script>                <script type=\"text/javascript\">window.PlotlyConfig = {MathJaxConfig: 'local'};</script>\n",
              "        <script src=\"https://cdn.plot.ly/plotly-2.8.3.min.js\"></script>                <div id=\"1d666394-1cad-4bef-8831-f18502e82413\" class=\"plotly-graph-div\" style=\"height:525px; width:100%;\"></div>            <script type=\"text/javascript\">                                    window.PLOTLYENV=window.PLOTLYENV || {};                                    if (document.getElementById(\"1d666394-1cad-4bef-8831-f18502e82413\")) {                    Plotly.newPlot(                        \"1d666394-1cad-4bef-8831-f18502e82413\",                        [{\"alignmentgroup\":\"True\",\"bingroup\":\"x\",\"histfunc\":\"sum\",\"hovertemplate\":\"Finish=%{x}<br>sum of Steps (count)=%{y}<extra></extra>\",\"legendgroup\":\"\",\"marker\":{\"color\":\"indianred\",\"pattern\":{\"shape\":\"\"}},\"name\":\"\",\"nbinsx\":38,\"offsetgroup\":\"\",\"orientation\":\"v\",\"showlegend\":false,\"x\":[\"2022-01-02T00:00:00\",\"2022-01-09T00:00:00\",\"2022-01-16T00:00:00\",\"2022-01-23T00:00:00\",\"2022-01-30T00:00:00\",\"2022-02-06T00:00:00\",\"2022-02-13T00:00:00\",\"2022-02-20T00:00:00\",\"2022-02-27T00:00:00\",\"2022-03-06T00:00:00\",\"2022-03-13T00:00:00\",\"2022-03-20T00:00:00\",\"2022-03-27T00:00:00\",\"2022-04-03T00:00:00\",\"2022-04-10T00:00:00\",\"2022-04-17T00:00:00\",\"2022-04-24T00:00:00\",\"2022-05-01T00:00:00\",\"2022-05-08T00:00:00\",\"2022-05-15T00:00:00\",\"2022-05-22T00:00:00\",\"2022-05-29T00:00:00\",\"2022-06-05T00:00:00\",\"2022-06-12T00:00:00\",\"2022-06-19T00:00:00\",\"2022-06-26T00:00:00\",\"2022-07-03T00:00:00\",\"2022-07-10T00:00:00\",\"2022-07-17T00:00:00\",\"2022-07-24T00:00:00\",\"2022-07-31T00:00:00\",\"2022-08-07T00:00:00\",\"2022-08-14T00:00:00\",\"2022-08-21T00:00:00\",\"2022-08-28T00:00:00\",\"2022-09-04T00:00:00\",\"2022-09-11T00:00:00\",\"2022-09-18T00:00:00\"],\"xaxis\":\"x\",\"y\":[14739.999999999998,48061.00000000001,45772.00000000001,64604.99999999999,52110.99999999999,52745.999999999985,57124.00000000002,66693.99999999999,47431.00000000001,51289.99999999999,53691.99999999999,56876.0,67034.99999999999,54875.00000000001,59333.0,61871.591248161196,57057.408751838804,27508.000000000007,53033.00000000001,55363.0,49861.999999999985,57809.99999999999,52799.00000000001,52088.000000000015,46412.999999999985,44960.0,59203.0,42272.000000000015,54566.999999999985,52939.99999999999,61220.00000000002,62450.035842155135,56873.619987730846,59772.3148671422,54765.57849076069,50097.131635870515,65206.684002947724,13084.366487907088],\"yaxis\":\"y\",\"type\":\"histogram\"}],                        {\"template\":{\"data\":{\"bar\":[{\"error_x\":{\"color\":\"#2a3f5f\"},\"error_y\":{\"color\":\"#2a3f5f\"},\"marker\":{\"line\":{\"color\":\"#E5ECF6\",\"width\":0.5},\"pattern\":{\"fillmode\":\"overlay\",\"size\":10,\"solidity\":0.2}},\"type\":\"bar\"}],\"barpolar\":[{\"marker\":{\"line\":{\"color\":\"#E5ECF6\",\"width\":0.5},\"pattern\":{\"fillmode\":\"overlay\",\"size\":10,\"solidity\":0.2}},\"type\":\"barpolar\"}],\"carpet\":[{\"aaxis\":{\"endlinecolor\":\"#2a3f5f\",\"gridcolor\":\"white\",\"linecolor\":\"white\",\"minorgridcolor\":\"white\",\"startlinecolor\":\"#2a3f5f\"},\"baxis\":{\"endlinecolor\":\"#2a3f5f\",\"gridcolor\":\"white\",\"linecolor\":\"white\",\"minorgridcolor\":\"white\",\"startlinecolor\":\"#2a3f5f\"},\"type\":\"carpet\"}],\"choropleth\":[{\"colorbar\":{\"outlinewidth\":0,\"ticks\":\"\"},\"type\":\"choropleth\"}],\"contour\":[{\"colorbar\":{\"outlinewidth\":0,\"ticks\":\"\"},\"colorscale\":[[0.0,\"#0d0887\"],[0.1111111111111111,\"#46039f\"],[0.2222222222222222,\"#7201a8\"],[0.3333333333333333,\"#9c179e\"],[0.4444444444444444,\"#bd3786\"],[0.5555555555555556,\"#d8576b\"],[0.6666666666666666,\"#ed7953\"],[0.7777777777777778,\"#fb9f3a\"],[0.8888888888888888,\"#fdca26\"],[1.0,\"#f0f921\"]],\"type\":\"contour\"}],\"contourcarpet\":[{\"colorbar\":{\"outlinewidth\":0,\"ticks\":\"\"},\"type\":\"contourcarpet\"}],\"heatmap\":[{\"colorbar\":{\"outlinewidth\":0,\"ticks\":\"\"},\"colorscale\":[[0.0,\"#0d0887\"],[0.1111111111111111,\"#46039f\"],[0.2222222222222222,\"#7201a8\"],[0.3333333333333333,\"#9c179e\"],[0.4444444444444444,\"#bd3786\"],[0.5555555555555556,\"#d8576b\"],[0.6666666666666666,\"#ed7953\"],[0.7777777777777778,\"#fb9f3a\"],[0.8888888888888888,\"#fdca26\"],[1.0,\"#f0f921\"]],\"type\":\"heatmap\"}],\"heatmapgl\":[{\"colorbar\":{\"outlinewidth\":0,\"ticks\":\"\"},\"colorscale\":[[0.0,\"#0d0887\"],[0.1111111111111111,\"#46039f\"],[0.2222222222222222,\"#7201a8\"],[0.3333333333333333,\"#9c179e\"],[0.4444444444444444,\"#bd3786\"],[0.5555555555555556,\"#d8576b\"],[0.6666666666666666,\"#ed7953\"],[0.7777777777777778,\"#fb9f3a\"],[0.8888888888888888,\"#fdca26\"],[1.0,\"#f0f921\"]],\"type\":\"heatmapgl\"}],\"histogram\":[{\"marker\":{\"pattern\":{\"fillmode\":\"overlay\",\"size\":10,\"solidity\":0.2}},\"type\":\"histogram\"}],\"histogram2d\":[{\"colorbar\":{\"outlinewidth\":0,\"ticks\":\"\"},\"colorscale\":[[0.0,\"#0d0887\"],[0.1111111111111111,\"#46039f\"],[0.2222222222222222,\"#7201a8\"],[0.3333333333333333,\"#9c179e\"],[0.4444444444444444,\"#bd3786\"],[0.5555555555555556,\"#d8576b\"],[0.6666666666666666,\"#ed7953\"],[0.7777777777777778,\"#fb9f3a\"],[0.8888888888888888,\"#fdca26\"],[1.0,\"#f0f921\"]],\"type\":\"histogram2d\"}],\"histogram2dcontour\":[{\"colorbar\":{\"outlinewidth\":0,\"ticks\":\"\"},\"colorscale\":[[0.0,\"#0d0887\"],[0.1111111111111111,\"#46039f\"],[0.2222222222222222,\"#7201a8\"],[0.3333333333333333,\"#9c179e\"],[0.4444444444444444,\"#bd3786\"],[0.5555555555555556,\"#d8576b\"],[0.6666666666666666,\"#ed7953\"],[0.7777777777777778,\"#fb9f3a\"],[0.8888888888888888,\"#fdca26\"],[1.0,\"#f0f921\"]],\"type\":\"histogram2dcontour\"}],\"mesh3d\":[{\"colorbar\":{\"outlinewidth\":0,\"ticks\":\"\"},\"type\":\"mesh3d\"}],\"parcoords\":[{\"line\":{\"colorbar\":{\"outlinewidth\":0,\"ticks\":\"\"}},\"type\":\"parcoords\"}],\"pie\":[{\"automargin\":true,\"type\":\"pie\"}],\"scatter\":[{\"marker\":{\"colorbar\":{\"outlinewidth\":0,\"ticks\":\"\"}},\"type\":\"scatter\"}],\"scatter3d\":[{\"line\":{\"colorbar\":{\"outlinewidth\":0,\"ticks\":\"\"}},\"marker\":{\"colorbar\":{\"outlinewidth\":0,\"ticks\":\"\"}},\"type\":\"scatter3d\"}],\"scattercarpet\":[{\"marker\":{\"colorbar\":{\"outlinewidth\":0,\"ticks\":\"\"}},\"type\":\"scattercarpet\"}],\"scattergeo\":[{\"marker\":{\"colorbar\":{\"outlinewidth\":0,\"ticks\":\"\"}},\"type\":\"scattergeo\"}],\"scattergl\":[{\"marker\":{\"colorbar\":{\"outlinewidth\":0,\"ticks\":\"\"}},\"type\":\"scattergl\"}],\"scattermapbox\":[{\"marker\":{\"colorbar\":{\"outlinewidth\":0,\"ticks\":\"\"}},\"type\":\"scattermapbox\"}],\"scatterpolar\":[{\"marker\":{\"colorbar\":{\"outlinewidth\":0,\"ticks\":\"\"}},\"type\":\"scatterpolar\"}],\"scatterpolargl\":[{\"marker\":{\"colorbar\":{\"outlinewidth\":0,\"ticks\":\"\"}},\"type\":\"scatterpolargl\"}],\"scatterternary\":[{\"marker\":{\"colorbar\":{\"outlinewidth\":0,\"ticks\":\"\"}},\"type\":\"scatterternary\"}],\"surface\":[{\"colorbar\":{\"outlinewidth\":0,\"ticks\":\"\"},\"colorscale\":[[0.0,\"#0d0887\"],[0.1111111111111111,\"#46039f\"],[0.2222222222222222,\"#7201a8\"],[0.3333333333333333,\"#9c179e\"],[0.4444444444444444,\"#bd3786\"],[0.5555555555555556,\"#d8576b\"],[0.6666666666666666,\"#ed7953\"],[0.7777777777777778,\"#fb9f3a\"],[0.8888888888888888,\"#fdca26\"],[1.0,\"#f0f921\"]],\"type\":\"surface\"}],\"table\":[{\"cells\":{\"fill\":{\"color\":\"#EBF0F8\"},\"line\":{\"color\":\"white\"}},\"header\":{\"fill\":{\"color\":\"#C8D4E3\"},\"line\":{\"color\":\"white\"}},\"type\":\"table\"}]},\"layout\":{\"annotationdefaults\":{\"arrowcolor\":\"#2a3f5f\",\"arrowhead\":0,\"arrowwidth\":1},\"autotypenumbers\":\"strict\",\"coloraxis\":{\"colorbar\":{\"outlinewidth\":0,\"ticks\":\"\"}},\"colorscale\":{\"diverging\":[[0,\"#8e0152\"],[0.1,\"#c51b7d\"],[0.2,\"#de77ae\"],[0.3,\"#f1b6da\"],[0.4,\"#fde0ef\"],[0.5,\"#f7f7f7\"],[0.6,\"#e6f5d0\"],[0.7,\"#b8e186\"],[0.8,\"#7fbc41\"],[0.9,\"#4d9221\"],[1,\"#276419\"]],\"sequential\":[[0.0,\"#0d0887\"],[0.1111111111111111,\"#46039f\"],[0.2222222222222222,\"#7201a8\"],[0.3333333333333333,\"#9c179e\"],[0.4444444444444444,\"#bd3786\"],[0.5555555555555556,\"#d8576b\"],[0.6666666666666666,\"#ed7953\"],[0.7777777777777778,\"#fb9f3a\"],[0.8888888888888888,\"#fdca26\"],[1.0,\"#f0f921\"]],\"sequentialminus\":[[0.0,\"#0d0887\"],[0.1111111111111111,\"#46039f\"],[0.2222222222222222,\"#7201a8\"],[0.3333333333333333,\"#9c179e\"],[0.4444444444444444,\"#bd3786\"],[0.5555555555555556,\"#d8576b\"],[0.6666666666666666,\"#ed7953\"],[0.7777777777777778,\"#fb9f3a\"],[0.8888888888888888,\"#fdca26\"],[1.0,\"#f0f921\"]]},\"colorway\":[\"#636efa\",\"#EF553B\",\"#00cc96\",\"#ab63fa\",\"#FFA15A\",\"#19d3f3\",\"#FF6692\",\"#B6E880\",\"#FF97FF\",\"#FECB52\"],\"font\":{\"color\":\"#2a3f5f\"},\"geo\":{\"bgcolor\":\"white\",\"lakecolor\":\"white\",\"landcolor\":\"#E5ECF6\",\"showlakes\":true,\"showland\":true,\"subunitcolor\":\"white\"},\"hoverlabel\":{\"align\":\"left\"},\"hovermode\":\"closest\",\"mapbox\":{\"style\":\"light\"},\"paper_bgcolor\":\"white\",\"plot_bgcolor\":\"#E5ECF6\",\"polar\":{\"angularaxis\":{\"gridcolor\":\"white\",\"linecolor\":\"white\",\"ticks\":\"\"},\"bgcolor\":\"#E5ECF6\",\"radialaxis\":{\"gridcolor\":\"white\",\"linecolor\":\"white\",\"ticks\":\"\"}},\"scene\":{\"xaxis\":{\"backgroundcolor\":\"#E5ECF6\",\"gridcolor\":\"white\",\"gridwidth\":2,\"linecolor\":\"white\",\"showbackground\":true,\"ticks\":\"\",\"zerolinecolor\":\"white\"},\"yaxis\":{\"backgroundcolor\":\"#E5ECF6\",\"gridcolor\":\"white\",\"gridwidth\":2,\"linecolor\":\"white\",\"showbackground\":true,\"ticks\":\"\",\"zerolinecolor\":\"white\"},\"zaxis\":{\"backgroundcolor\":\"#E5ECF6\",\"gridcolor\":\"white\",\"gridwidth\":2,\"linecolor\":\"white\",\"showbackground\":true,\"ticks\":\"\",\"zerolinecolor\":\"white\"}},\"shapedefaults\":{\"line\":{\"color\":\"#2a3f5f\"}},\"ternary\":{\"aaxis\":{\"gridcolor\":\"white\",\"linecolor\":\"white\",\"ticks\":\"\"},\"baxis\":{\"gridcolor\":\"white\",\"linecolor\":\"white\",\"ticks\":\"\"},\"bgcolor\":\"#E5ECF6\",\"caxis\":{\"gridcolor\":\"white\",\"linecolor\":\"white\",\"ticks\":\"\"}},\"title\":{\"x\":0.05},\"xaxis\":{\"automargin\":true,\"gridcolor\":\"white\",\"linecolor\":\"white\",\"ticks\":\"\",\"title\":{\"standoff\":15},\"zerolinecolor\":\"white\",\"zerolinewidth\":2},\"yaxis\":{\"automargin\":true,\"gridcolor\":\"white\",\"linecolor\":\"white\",\"ticks\":\"\",\"title\":{\"standoff\":15},\"zerolinecolor\":\"white\",\"zerolinewidth\":2}}},\"xaxis\":{\"anchor\":\"y\",\"domain\":[0.0,1.0],\"title\":{\"text\":\"Finish\"}},\"yaxis\":{\"anchor\":\"x\",\"domain\":[0.0,1.0],\"title\":{\"text\":\"sum of Steps (count)\"}},\"legend\":{\"tracegroupgap\":0},\"margin\":{\"t\":60},\"barmode\":\"relative\"},                        {\"responsive\": true}                    ).then(function(){\n",
              "                            \n",
              "var gd = document.getElementById('1d666394-1cad-4bef-8831-f18502e82413');\n",
              "var x = new MutationObserver(function (mutations, observer) {{\n",
              "        var display = window.getComputedStyle(gd).display;\n",
              "        if (!display || display === 'none') {{\n",
              "            console.log([gd, 'removed!']);\n",
              "            Plotly.purge(gd);\n",
              "            observer.disconnect();\n",
              "        }}\n",
              "}});\n",
              "\n",
              "// Listen for the removal of the full notebook cells\n",
              "var notebookContainer = gd.closest('#notebook-container');\n",
              "if (notebookContainer) {{\n",
              "    x.observe(notebookContainer, {childList: true});\n",
              "}}\n",
              "\n",
              "// Listen for the clearing of the current output cell\n",
              "var outputEl = gd.closest('.output');\n",
              "if (outputEl) {{\n",
              "    x.observe(outputEl, {childList: true});\n",
              "}}\n",
              "\n",
              "                        })                };                            </script>        </div>\n",
              "</body>\n",
              "</html>"
            ]
          },
          "metadata": {}
        }
      ]
    },
    {
      "cell_type": "code",
      "source": [
        "W7 = weeksum.groupby([weeksum['Finish'].dt.isocalendar().week]).sum().rename_axis(['week']).reset_index()\n",
        "W7.head(10)"
      ],
      "metadata": {
        "id": "gh5zICy2Gj05",
        "colab": {
          "base_uri": "https://localhost:8080/",
          "height": 363
        },
        "outputId": "e66507eb-6277-423f-a148-83409f87885f"
      },
      "execution_count": 14,
      "outputs": [
        {
          "output_type": "execute_result",
          "data": {
            "text/plain": [
              "   week  Steps (count)\n",
              "0     1        48061.0\n",
              "1     2        45772.0\n",
              "2     3        64605.0\n",
              "3     4        52111.0\n",
              "4     5        52746.0\n",
              "5     6        57124.0\n",
              "6     7        66694.0\n",
              "7     8        47431.0\n",
              "8     9        51290.0\n",
              "9    10        53692.0"
            ],
            "text/html": [
              "\n",
              "  <div id=\"df-c9820203-3b5a-4eeb-993d-ad5a54e3ed1f\">\n",
              "    <div class=\"colab-df-container\">\n",
              "      <div>\n",
              "<style scoped>\n",
              "    .dataframe tbody tr th:only-of-type {\n",
              "        vertical-align: middle;\n",
              "    }\n",
              "\n",
              "    .dataframe tbody tr th {\n",
              "        vertical-align: top;\n",
              "    }\n",
              "\n",
              "    .dataframe thead th {\n",
              "        text-align: right;\n",
              "    }\n",
              "</style>\n",
              "<table border=\"1\" class=\"dataframe\">\n",
              "  <thead>\n",
              "    <tr style=\"text-align: right;\">\n",
              "      <th></th>\n",
              "      <th>week</th>\n",
              "      <th>Steps (count)</th>\n",
              "    </tr>\n",
              "  </thead>\n",
              "  <tbody>\n",
              "    <tr>\n",
              "      <th>0</th>\n",
              "      <td>1</td>\n",
              "      <td>48061.0</td>\n",
              "    </tr>\n",
              "    <tr>\n",
              "      <th>1</th>\n",
              "      <td>2</td>\n",
              "      <td>45772.0</td>\n",
              "    </tr>\n",
              "    <tr>\n",
              "      <th>2</th>\n",
              "      <td>3</td>\n",
              "      <td>64605.0</td>\n",
              "    </tr>\n",
              "    <tr>\n",
              "      <th>3</th>\n",
              "      <td>4</td>\n",
              "      <td>52111.0</td>\n",
              "    </tr>\n",
              "    <tr>\n",
              "      <th>4</th>\n",
              "      <td>5</td>\n",
              "      <td>52746.0</td>\n",
              "    </tr>\n",
              "    <tr>\n",
              "      <th>5</th>\n",
              "      <td>6</td>\n",
              "      <td>57124.0</td>\n",
              "    </tr>\n",
              "    <tr>\n",
              "      <th>6</th>\n",
              "      <td>7</td>\n",
              "      <td>66694.0</td>\n",
              "    </tr>\n",
              "    <tr>\n",
              "      <th>7</th>\n",
              "      <td>8</td>\n",
              "      <td>47431.0</td>\n",
              "    </tr>\n",
              "    <tr>\n",
              "      <th>8</th>\n",
              "      <td>9</td>\n",
              "      <td>51290.0</td>\n",
              "    </tr>\n",
              "    <tr>\n",
              "      <th>9</th>\n",
              "      <td>10</td>\n",
              "      <td>53692.0</td>\n",
              "    </tr>\n",
              "  </tbody>\n",
              "</table>\n",
              "</div>\n",
              "      <button class=\"colab-df-convert\" onclick=\"convertToInteractive('df-c9820203-3b5a-4eeb-993d-ad5a54e3ed1f')\"\n",
              "              title=\"Convert this dataframe to an interactive table.\"\n",
              "              style=\"display:none;\">\n",
              "        \n",
              "  <svg xmlns=\"http://www.w3.org/2000/svg\" height=\"24px\"viewBox=\"0 0 24 24\"\n",
              "       width=\"24px\">\n",
              "    <path d=\"M0 0h24v24H0V0z\" fill=\"none\"/>\n",
              "    <path d=\"M18.56 5.44l.94 2.06.94-2.06 2.06-.94-2.06-.94-.94-2.06-.94 2.06-2.06.94zm-11 1L8.5 8.5l.94-2.06 2.06-.94-2.06-.94L8.5 2.5l-.94 2.06-2.06.94zm10 10l.94 2.06.94-2.06 2.06-.94-2.06-.94-.94-2.06-.94 2.06-2.06.94z\"/><path d=\"M17.41 7.96l-1.37-1.37c-.4-.4-.92-.59-1.43-.59-.52 0-1.04.2-1.43.59L10.3 9.45l-7.72 7.72c-.78.78-.78 2.05 0 2.83L4 21.41c.39.39.9.59 1.41.59.51 0 1.02-.2 1.41-.59l7.78-7.78 2.81-2.81c.8-.78.8-2.07 0-2.86zM5.41 20L4 18.59l7.72-7.72 1.47 1.35L5.41 20z\"/>\n",
              "  </svg>\n",
              "      </button>\n",
              "      \n",
              "  <style>\n",
              "    .colab-df-container {\n",
              "      display:flex;\n",
              "      flex-wrap:wrap;\n",
              "      gap: 12px;\n",
              "    }\n",
              "\n",
              "    .colab-df-convert {\n",
              "      background-color: #E8F0FE;\n",
              "      border: none;\n",
              "      border-radius: 50%;\n",
              "      cursor: pointer;\n",
              "      display: none;\n",
              "      fill: #1967D2;\n",
              "      height: 32px;\n",
              "      padding: 0 0 0 0;\n",
              "      width: 32px;\n",
              "    }\n",
              "\n",
              "    .colab-df-convert:hover {\n",
              "      background-color: #E2EBFA;\n",
              "      box-shadow: 0px 1px 2px rgba(60, 64, 67, 0.3), 0px 1px 3px 1px rgba(60, 64, 67, 0.15);\n",
              "      fill: #174EA6;\n",
              "    }\n",
              "\n",
              "    [theme=dark] .colab-df-convert {\n",
              "      background-color: #3B4455;\n",
              "      fill: #D2E3FC;\n",
              "    }\n",
              "\n",
              "    [theme=dark] .colab-df-convert:hover {\n",
              "      background-color: #434B5C;\n",
              "      box-shadow: 0px 1px 3px 1px rgba(0, 0, 0, 0.15);\n",
              "      filter: drop-shadow(0px 1px 2px rgba(0, 0, 0, 0.3));\n",
              "      fill: #FFFFFF;\n",
              "    }\n",
              "  </style>\n",
              "\n",
              "      <script>\n",
              "        const buttonEl =\n",
              "          document.querySelector('#df-c9820203-3b5a-4eeb-993d-ad5a54e3ed1f button.colab-df-convert');\n",
              "        buttonEl.style.display =\n",
              "          google.colab.kernel.accessAllowed ? 'block' : 'none';\n",
              "\n",
              "        async function convertToInteractive(key) {\n",
              "          const element = document.querySelector('#df-c9820203-3b5a-4eeb-993d-ad5a54e3ed1f');\n",
              "          const dataTable =\n",
              "            await google.colab.kernel.invokeFunction('convertToInteractive',\n",
              "                                                     [key], {});\n",
              "          if (!dataTable) return;\n",
              "\n",
              "          const docLinkHtml = 'Like what you see? Visit the ' +\n",
              "            '<a target=\"_blank\" href=https://colab.research.google.com/notebooks/data_table.ipynb>data table notebook</a>'\n",
              "            + ' to learn more about interactive tables.';\n",
              "          element.innerHTML = '';\n",
              "          dataTable['output_type'] = 'display_data';\n",
              "          await google.colab.output.renderOutput(dataTable, element);\n",
              "          const docLink = document.createElement('div');\n",
              "          docLink.innerHTML = docLinkHtml;\n",
              "          element.appendChild(docLink);\n",
              "        }\n",
              "      </script>\n",
              "    </div>\n",
              "  </div>\n",
              "  "
            ]
          },
          "metadata": {},
          "execution_count": 14
        }
      ]
    },
    {
      "cell_type": "code",
      "source": [
        "W7.to_csv('/content/drive/MyDrive/Colab Notebooks/Participant07_new.csv',index= False,sep= ',')"
      ],
      "metadata": {
        "id": "y2kNfNtHvkNT"
      },
      "execution_count": 15,
      "outputs": []
    },
    {
      "cell_type": "code",
      "source": [
        "fig = px.pie(W7, values='Steps (count)', names='week', title=\"Weeks of steps\")\n",
        "fig.show()"
      ],
      "metadata": {
        "id": "aal0wa3jLA6v",
        "colab": {
          "base_uri": "https://localhost:8080/",
          "height": 542
        },
        "outputId": "a8738eab-7076-4dcf-94cb-5734c5cb847d"
      },
      "execution_count": 16,
      "outputs": [
        {
          "output_type": "display_data",
          "data": {
            "text/html": [
              "<html>\n",
              "<head><meta charset=\"utf-8\" /></head>\n",
              "<body>\n",
              "    <div>            <script src=\"https://cdnjs.cloudflare.com/ajax/libs/mathjax/2.7.5/MathJax.js?config=TeX-AMS-MML_SVG\"></script><script type=\"text/javascript\">if (window.MathJax) {MathJax.Hub.Config({SVG: {font: \"STIX-Web\"}});}</script>                <script type=\"text/javascript\">window.PlotlyConfig = {MathJaxConfig: 'local'};</script>\n",
              "        <script src=\"https://cdn.plot.ly/plotly-2.8.3.min.js\"></script>                <div id=\"5789490c-c836-4370-bd2c-bd1d7db4bcb2\" class=\"plotly-graph-div\" style=\"height:525px; width:100%;\"></div>            <script type=\"text/javascript\">                                    window.PLOTLYENV=window.PLOTLYENV || {};                                    if (document.getElementById(\"5789490c-c836-4370-bd2c-bd1d7db4bcb2\")) {                    Plotly.newPlot(                        \"5789490c-c836-4370-bd2c-bd1d7db4bcb2\",                        [{\"domain\":{\"x\":[0.0,1.0],\"y\":[0.0,1.0]},\"hovertemplate\":\"week=%{label}<br>Steps (count)=%{value}<extra></extra>\",\"labels\":[1,2,3,4,5,6,7,8,9,10,11,12,13,14,15,16,17,18,19,20,21,22,23,24,25,26,27,28,29,30,31,32,33,34,35,36,37,52],\"legendgroup\":\"\",\"name\":\"\",\"showlegend\":true,\"values\":[48061.00000000001,45772.00000000001,64604.99999999999,52110.99999999999,52745.999999999985,57124.00000000002,66693.99999999999,47431.00000000001,51289.99999999999,53691.99999999999,56876.0,67034.99999999999,54875.00000000001,59333.0,61871.591248161196,57057.408751838804,27508.000000000007,53033.00000000001,55363.0,49861.999999999985,57809.99999999999,52799.00000000001,52088.000000000015,46412.999999999985,44960.0,59203.0,42272.000000000015,54566.999999999985,52939.99999999999,61220.00000000002,62450.035842155135,56873.619987730846,59772.3148671422,54765.57849076069,50097.131635870515,65206.684002947724,13084.366487907088,14739.999999999998],\"type\":\"pie\"}],                        {\"template\":{\"data\":{\"bar\":[{\"error_x\":{\"color\":\"#2a3f5f\"},\"error_y\":{\"color\":\"#2a3f5f\"},\"marker\":{\"line\":{\"color\":\"#E5ECF6\",\"width\":0.5},\"pattern\":{\"fillmode\":\"overlay\",\"size\":10,\"solidity\":0.2}},\"type\":\"bar\"}],\"barpolar\":[{\"marker\":{\"line\":{\"color\":\"#E5ECF6\",\"width\":0.5},\"pattern\":{\"fillmode\":\"overlay\",\"size\":10,\"solidity\":0.2}},\"type\":\"barpolar\"}],\"carpet\":[{\"aaxis\":{\"endlinecolor\":\"#2a3f5f\",\"gridcolor\":\"white\",\"linecolor\":\"white\",\"minorgridcolor\":\"white\",\"startlinecolor\":\"#2a3f5f\"},\"baxis\":{\"endlinecolor\":\"#2a3f5f\",\"gridcolor\":\"white\",\"linecolor\":\"white\",\"minorgridcolor\":\"white\",\"startlinecolor\":\"#2a3f5f\"},\"type\":\"carpet\"}],\"choropleth\":[{\"colorbar\":{\"outlinewidth\":0,\"ticks\":\"\"},\"type\":\"choropleth\"}],\"contour\":[{\"colorbar\":{\"outlinewidth\":0,\"ticks\":\"\"},\"colorscale\":[[0.0,\"#0d0887\"],[0.1111111111111111,\"#46039f\"],[0.2222222222222222,\"#7201a8\"],[0.3333333333333333,\"#9c179e\"],[0.4444444444444444,\"#bd3786\"],[0.5555555555555556,\"#d8576b\"],[0.6666666666666666,\"#ed7953\"],[0.7777777777777778,\"#fb9f3a\"],[0.8888888888888888,\"#fdca26\"],[1.0,\"#f0f921\"]],\"type\":\"contour\"}],\"contourcarpet\":[{\"colorbar\":{\"outlinewidth\":0,\"ticks\":\"\"},\"type\":\"contourcarpet\"}],\"heatmap\":[{\"colorbar\":{\"outlinewidth\":0,\"ticks\":\"\"},\"colorscale\":[[0.0,\"#0d0887\"],[0.1111111111111111,\"#46039f\"],[0.2222222222222222,\"#7201a8\"],[0.3333333333333333,\"#9c179e\"],[0.4444444444444444,\"#bd3786\"],[0.5555555555555556,\"#d8576b\"],[0.6666666666666666,\"#ed7953\"],[0.7777777777777778,\"#fb9f3a\"],[0.8888888888888888,\"#fdca26\"],[1.0,\"#f0f921\"]],\"type\":\"heatmap\"}],\"heatmapgl\":[{\"colorbar\":{\"outlinewidth\":0,\"ticks\":\"\"},\"colorscale\":[[0.0,\"#0d0887\"],[0.1111111111111111,\"#46039f\"],[0.2222222222222222,\"#7201a8\"],[0.3333333333333333,\"#9c179e\"],[0.4444444444444444,\"#bd3786\"],[0.5555555555555556,\"#d8576b\"],[0.6666666666666666,\"#ed7953\"],[0.7777777777777778,\"#fb9f3a\"],[0.8888888888888888,\"#fdca26\"],[1.0,\"#f0f921\"]],\"type\":\"heatmapgl\"}],\"histogram\":[{\"marker\":{\"pattern\":{\"fillmode\":\"overlay\",\"size\":10,\"solidity\":0.2}},\"type\":\"histogram\"}],\"histogram2d\":[{\"colorbar\":{\"outlinewidth\":0,\"ticks\":\"\"},\"colorscale\":[[0.0,\"#0d0887\"],[0.1111111111111111,\"#46039f\"],[0.2222222222222222,\"#7201a8\"],[0.3333333333333333,\"#9c179e\"],[0.4444444444444444,\"#bd3786\"],[0.5555555555555556,\"#d8576b\"],[0.6666666666666666,\"#ed7953\"],[0.7777777777777778,\"#fb9f3a\"],[0.8888888888888888,\"#fdca26\"],[1.0,\"#f0f921\"]],\"type\":\"histogram2d\"}],\"histogram2dcontour\":[{\"colorbar\":{\"outlinewidth\":0,\"ticks\":\"\"},\"colorscale\":[[0.0,\"#0d0887\"],[0.1111111111111111,\"#46039f\"],[0.2222222222222222,\"#7201a8\"],[0.3333333333333333,\"#9c179e\"],[0.4444444444444444,\"#bd3786\"],[0.5555555555555556,\"#d8576b\"],[0.6666666666666666,\"#ed7953\"],[0.7777777777777778,\"#fb9f3a\"],[0.8888888888888888,\"#fdca26\"],[1.0,\"#f0f921\"]],\"type\":\"histogram2dcontour\"}],\"mesh3d\":[{\"colorbar\":{\"outlinewidth\":0,\"ticks\":\"\"},\"type\":\"mesh3d\"}],\"parcoords\":[{\"line\":{\"colorbar\":{\"outlinewidth\":0,\"ticks\":\"\"}},\"type\":\"parcoords\"}],\"pie\":[{\"automargin\":true,\"type\":\"pie\"}],\"scatter\":[{\"marker\":{\"colorbar\":{\"outlinewidth\":0,\"ticks\":\"\"}},\"type\":\"scatter\"}],\"scatter3d\":[{\"line\":{\"colorbar\":{\"outlinewidth\":0,\"ticks\":\"\"}},\"marker\":{\"colorbar\":{\"outlinewidth\":0,\"ticks\":\"\"}},\"type\":\"scatter3d\"}],\"scattercarpet\":[{\"marker\":{\"colorbar\":{\"outlinewidth\":0,\"ticks\":\"\"}},\"type\":\"scattercarpet\"}],\"scattergeo\":[{\"marker\":{\"colorbar\":{\"outlinewidth\":0,\"ticks\":\"\"}},\"type\":\"scattergeo\"}],\"scattergl\":[{\"marker\":{\"colorbar\":{\"outlinewidth\":0,\"ticks\":\"\"}},\"type\":\"scattergl\"}],\"scattermapbox\":[{\"marker\":{\"colorbar\":{\"outlinewidth\":0,\"ticks\":\"\"}},\"type\":\"scattermapbox\"}],\"scatterpolar\":[{\"marker\":{\"colorbar\":{\"outlinewidth\":0,\"ticks\":\"\"}},\"type\":\"scatterpolar\"}],\"scatterpolargl\":[{\"marker\":{\"colorbar\":{\"outlinewidth\":0,\"ticks\":\"\"}},\"type\":\"scatterpolargl\"}],\"scatterternary\":[{\"marker\":{\"colorbar\":{\"outlinewidth\":0,\"ticks\":\"\"}},\"type\":\"scatterternary\"}],\"surface\":[{\"colorbar\":{\"outlinewidth\":0,\"ticks\":\"\"},\"colorscale\":[[0.0,\"#0d0887\"],[0.1111111111111111,\"#46039f\"],[0.2222222222222222,\"#7201a8\"],[0.3333333333333333,\"#9c179e\"],[0.4444444444444444,\"#bd3786\"],[0.5555555555555556,\"#d8576b\"],[0.6666666666666666,\"#ed7953\"],[0.7777777777777778,\"#fb9f3a\"],[0.8888888888888888,\"#fdca26\"],[1.0,\"#f0f921\"]],\"type\":\"surface\"}],\"table\":[{\"cells\":{\"fill\":{\"color\":\"#EBF0F8\"},\"line\":{\"color\":\"white\"}},\"header\":{\"fill\":{\"color\":\"#C8D4E3\"},\"line\":{\"color\":\"white\"}},\"type\":\"table\"}]},\"layout\":{\"annotationdefaults\":{\"arrowcolor\":\"#2a3f5f\",\"arrowhead\":0,\"arrowwidth\":1},\"autotypenumbers\":\"strict\",\"coloraxis\":{\"colorbar\":{\"outlinewidth\":0,\"ticks\":\"\"}},\"colorscale\":{\"diverging\":[[0,\"#8e0152\"],[0.1,\"#c51b7d\"],[0.2,\"#de77ae\"],[0.3,\"#f1b6da\"],[0.4,\"#fde0ef\"],[0.5,\"#f7f7f7\"],[0.6,\"#e6f5d0\"],[0.7,\"#b8e186\"],[0.8,\"#7fbc41\"],[0.9,\"#4d9221\"],[1,\"#276419\"]],\"sequential\":[[0.0,\"#0d0887\"],[0.1111111111111111,\"#46039f\"],[0.2222222222222222,\"#7201a8\"],[0.3333333333333333,\"#9c179e\"],[0.4444444444444444,\"#bd3786\"],[0.5555555555555556,\"#d8576b\"],[0.6666666666666666,\"#ed7953\"],[0.7777777777777778,\"#fb9f3a\"],[0.8888888888888888,\"#fdca26\"],[1.0,\"#f0f921\"]],\"sequentialminus\":[[0.0,\"#0d0887\"],[0.1111111111111111,\"#46039f\"],[0.2222222222222222,\"#7201a8\"],[0.3333333333333333,\"#9c179e\"],[0.4444444444444444,\"#bd3786\"],[0.5555555555555556,\"#d8576b\"],[0.6666666666666666,\"#ed7953\"],[0.7777777777777778,\"#fb9f3a\"],[0.8888888888888888,\"#fdca26\"],[1.0,\"#f0f921\"]]},\"colorway\":[\"#636efa\",\"#EF553B\",\"#00cc96\",\"#ab63fa\",\"#FFA15A\",\"#19d3f3\",\"#FF6692\",\"#B6E880\",\"#FF97FF\",\"#FECB52\"],\"font\":{\"color\":\"#2a3f5f\"},\"geo\":{\"bgcolor\":\"white\",\"lakecolor\":\"white\",\"landcolor\":\"#E5ECF6\",\"showlakes\":true,\"showland\":true,\"subunitcolor\":\"white\"},\"hoverlabel\":{\"align\":\"left\"},\"hovermode\":\"closest\",\"mapbox\":{\"style\":\"light\"},\"paper_bgcolor\":\"white\",\"plot_bgcolor\":\"#E5ECF6\",\"polar\":{\"angularaxis\":{\"gridcolor\":\"white\",\"linecolor\":\"white\",\"ticks\":\"\"},\"bgcolor\":\"#E5ECF6\",\"radialaxis\":{\"gridcolor\":\"white\",\"linecolor\":\"white\",\"ticks\":\"\"}},\"scene\":{\"xaxis\":{\"backgroundcolor\":\"#E5ECF6\",\"gridcolor\":\"white\",\"gridwidth\":2,\"linecolor\":\"white\",\"showbackground\":true,\"ticks\":\"\",\"zerolinecolor\":\"white\"},\"yaxis\":{\"backgroundcolor\":\"#E5ECF6\",\"gridcolor\":\"white\",\"gridwidth\":2,\"linecolor\":\"white\",\"showbackground\":true,\"ticks\":\"\",\"zerolinecolor\":\"white\"},\"zaxis\":{\"backgroundcolor\":\"#E5ECF6\",\"gridcolor\":\"white\",\"gridwidth\":2,\"linecolor\":\"white\",\"showbackground\":true,\"ticks\":\"\",\"zerolinecolor\":\"white\"}},\"shapedefaults\":{\"line\":{\"color\":\"#2a3f5f\"}},\"ternary\":{\"aaxis\":{\"gridcolor\":\"white\",\"linecolor\":\"white\",\"ticks\":\"\"},\"baxis\":{\"gridcolor\":\"white\",\"linecolor\":\"white\",\"ticks\":\"\"},\"bgcolor\":\"#E5ECF6\",\"caxis\":{\"gridcolor\":\"white\",\"linecolor\":\"white\",\"ticks\":\"\"}},\"title\":{\"x\":0.05},\"xaxis\":{\"automargin\":true,\"gridcolor\":\"white\",\"linecolor\":\"white\",\"ticks\":\"\",\"title\":{\"standoff\":15},\"zerolinecolor\":\"white\",\"zerolinewidth\":2},\"yaxis\":{\"automargin\":true,\"gridcolor\":\"white\",\"linecolor\":\"white\",\"ticks\":\"\",\"title\":{\"standoff\":15},\"zerolinecolor\":\"white\",\"zerolinewidth\":2}}},\"legend\":{\"tracegroupgap\":0},\"title\":{\"text\":\"Weeks of steps\"}},                        {\"responsive\": true}                    ).then(function(){\n",
              "                            \n",
              "var gd = document.getElementById('5789490c-c836-4370-bd2c-bd1d7db4bcb2');\n",
              "var x = new MutationObserver(function (mutations, observer) {{\n",
              "        var display = window.getComputedStyle(gd).display;\n",
              "        if (!display || display === 'none') {{\n",
              "            console.log([gd, 'removed!']);\n",
              "            Plotly.purge(gd);\n",
              "            observer.disconnect();\n",
              "        }}\n",
              "}});\n",
              "\n",
              "// Listen for the removal of the full notebook cells\n",
              "var notebookContainer = gd.closest('#notebook-container');\n",
              "if (notebookContainer) {{\n",
              "    x.observe(notebookContainer, {childList: true});\n",
              "}}\n",
              "\n",
              "// Listen for the clearing of the current output cell\n",
              "var outputEl = gd.closest('.output');\n",
              "if (outputEl) {{\n",
              "    x.observe(outputEl, {childList: true});\n",
              "}}\n",
              "\n",
              "                        })                };                            </script>        </div>\n",
              "</body>\n",
              "</html>"
            ]
          },
          "metadata": {}
        }
      ]
    },
    {
      "cell_type": "markdown",
      "source": [
        "The pie chart that i use the plotly(.express) package to see how  each week steps seprate by percentage among the whole dataset.\n",
        "And observsed week37, week52, week17 with the smallest steps with about 1% for overall data."
      ],
      "metadata": {
        "id": "jFUi8gUmIRua"
      }
    },
    {
      "cell_type": "code",
      "source": [
        "# plt.pie(W7['Steps (count)'], labels =W7['week'])\n",
        "# plt.subplots_adjust(0.1,0,2,2)\n",
        "# plt.legend()\n",
        "# plt.show() "
      ],
      "metadata": {
        "id": "a5-T-KWNQ7mv"
      },
      "execution_count": 17,
      "outputs": []
    },
    {
      "cell_type": "code",
      "source": [
        "plt.plot(W7['Steps (count)'], color = 'blue', linewidth=3, linestyle='-.')\n",
        "plt.xlabel(\"Weeks\")\n",
        "plt.ylabel(\"Steps\")\n",
        "plt.show()"
      ],
      "metadata": {
        "id": "Z39mf8O_0C5M",
        "colab": {
          "base_uri": "https://localhost:8080/",
          "height": 279
        },
        "outputId": "da231f4e-7e3a-4671-fde0-62e6b3c7477b"
      },
      "execution_count": 18,
      "outputs": [
        {
          "output_type": "display_data",
          "data": {
            "text/plain": [
              "<Figure size 432x288 with 1 Axes>"
            ],
            "image/png": "[encoded data removed]"
          },
          "metadata": {
            "needs_background": "light"
          }
        }
      ]
    },
    {
      "cell_type": "code",
      "source": [
        "plt.bar(W7['week'],W7['Steps (count)'], color = 'blue', linewidth=3, linestyle='-.')\n",
        "plt.xlabel(\"Weeks\")\n",
        "plt.ylabel(\"Steps\")\n",
        "plt.show() "
      ],
      "metadata": {
        "id": "6DERPDJvhQAH",
        "colab": {
          "base_uri": "https://localhost:8080/",
          "height": 282
        },
        "outputId": "f6622ab7-d628-4cfe-c6d0-9019b4278f45"
      },
      "execution_count": 19,
      "outputs": [
        {
          "output_type": "display_data",
          "data": {
            "text/plain": [
              "<Figure size 432x288 with 1 Axes>"
            ],
            "image/png": "[encoded data removed]"
          },
          "metadata": {
            "needs_background": "light"
          }
        }
      ]
    },
    {
      "cell_type": "markdown",
      "source": [
        "The graph above is the barchart of Weeks and step count graph,There are 35weeks data as the data is collected in Step."
      ],
      "metadata": {
        "id": "Zq5GBvzNDiQI"
      }
    },
    {
      "cell_type": "code",
      "source": [
        "fig, ax = plt.subplots()\n",
        "ax.grid(True)\n",
        "plt.plot(W7.index, W7['Steps (count)'], c='blue')\n",
        "plt.xticks(rotation=45)"
      ],
      "metadata": {
        "id": "iKPnAUYwexVB",
        "colab": {
          "base_uri": "https://localhost:8080/",
          "height": 307
        },
        "outputId": "6e2c5c06-8415-4a95-8d69-1e6e83537e48"
      },
      "execution_count": 20,
      "outputs": [
        {
          "output_type": "execute_result",
          "data": {
            "text/plain": [
              "(array([-5.,  0.,  5., 10., 15., 20., 25., 30., 35., 40.]),\n",
              " <a list of 10 Text major ticklabel objects>)"
            ]
          },
          "metadata": {},
          "execution_count": 20
        },
        {
          "output_type": "display_data",
          "data": {
            "text/plain": [
              "<Figure size 432x288 with 1 Axes>"
            ],
            "image/png": "[encoded data removed]"
          },
          "metadata": {
            "needs_background": "light"
          }
        }
      ]
    },
    {
      "cell_type": "code",
      "source": [
        "mean = weeksum['Steps (count)'].mean()\n",
        "mean"
      ],
      "metadata": {
        "colab": {
          "base_uri": "https://localhost:8080/"
        },
        "id": "cO_loJinKDBF",
        "outputId": "8102865f-620f-4670-de19-6387888d7626"
      },
      "execution_count": 21,
      "outputs": [
        {
          "output_type": "execute_result",
          "data": {
            "text/plain": [
              "52200.045560908264"
            ]
          },
          "metadata": {},
          "execution_count": 21
        }
      ]
    },
    {
      "cell_type": "markdown",
      "source": [
        "The graph is the scatterplot for particapant07 dataset and we can see the trend stay is a certain level and the average steps is 52200 per weeks(from the boxplot draw above)"
      ],
      "metadata": {
        "id": "fVtlQjVXEAAW"
      }
    },
    {
      "cell_type": "markdown",
      "source": [
        "# Sub Question"
      ],
      "metadata": {
        "id": "PfmMqC3dDM2c"
      }
    },
    {
      "cell_type": "markdown",
      "source": [
        "How does week-to-week steps affect by the rainfall ?"
      ],
      "metadata": {
        "id": "vdVhv-FTUNkr"
      }
    },
    {
      "cell_type": "markdown",
      "source": [
        "*Below is the graph of Sydney yearly average rainfall*"
      ],
      "metadata": {
        "id": "bxApLMtNDXP3"
      }
    },
    {
      "cell_type": "markdown",
      "source": [
        "![截屏2022-10-21 22.34.35.png](data:image/png;base64,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)"
      ],
      "metadata": {
        "id": "BrGBrj6vUnKs"
      }
    },
    {
      "cell_type": "markdown",
      "source": [
        "As through the graph of average rainfall,I find that in Mar and jun there are more rainfall and compare with the steps graph from week 9 to week 12, week 24 to week 27 there are slight drap in steps count and in week 16 which have a significant down may caused by the rainfall. At last we can see the rainfall graph have similar pattern with the steps count graph, So we guees there exist a relationship between them."
      ],
      "metadata": {
        "id": "3UaYM9jsU1Xg"
      }
    },
    {
      "cell_type": "markdown",
      "source": [
        "# Subquestion form Ran sun"
      ],
      "metadata": {
        "id": "wwrkKsJ7UAAx"
      }
    },
    {
      "cell_type": "markdown",
      "source": [
        "Does temperature affect people's willingness to walk?"
      ],
      "metadata": {
        "id": "KQzPNaaF_HVe"
      }
    },
    {
      "cell_type": "code",
      "source": [
        "# Basic time series model: step count(t) = Level(t) + Trend(t) + Seasonality(t) + Noise(t), where t = any day\n",
        "m7 =W7\n",
        "m7['week']=m7.index\n",
        "import statsmodels.api as sm\n",
        "decomposition = sm.tsa.seasonal_decompose(m7.drop(columns=['week']), model = 'additive',period=4)\n",
        "fig = decomposition.plot()"
      ],
      "metadata": {
        "colab": {
          "base_uri": "https://localhost:8080/",
          "height": 297
        },
        "id": "TvoujzkUDKJB",
        "outputId": "7c1b3991-d431-4a85-ecca-e0a906c1f0b8"
      },
      "execution_count": 22,
      "outputs": [
        {
          "output_type": "display_data",
          "data": {
            "text/plain": [
              "<Figure size 432x288 with 4 Axes>"
            ],
            "image/png": "[encoded data removed]"
          },
          "metadata": {
            "needs_background": "light"
          }
        }
      ]
    },
    {
      "cell_type": "code",
      "source": [
        "# plot trend on matplotlib\n",
        "import matplotlib.pyplot as plt\n",
        "import matplotlib.dates as mdates\n",
        "fig, ax = plt.subplots()\n",
        "ax.grid(True)\n",
        "plt.plot(m7.index, m7['Steps (count)'], c='blue')\n",
        "plt.plot(decomposition.trend.index, decomposition.trend, c='red')\n",
        "plt.xticks(rotation=45)"
      ],
      "metadata": {
        "colab": {
          "base_uri": "https://localhost:8080/",
          "height": 307
        },
        "id": "oRvuONASAR2U",
        "outputId": "3d88fedd-33a6-4666-f045-a3feb5aea98e"
      },
      "execution_count": 23,
      "outputs": [
        {
          "output_type": "execute_result",
          "data": {
            "text/plain": [
              "(array([-5.,  0.,  5., 10., 15., 20., 25., 30., 35., 40.]),\n",
              " <a list of 10 Text major ticklabel objects>)"
            ]
          },
          "metadata": {},
          "execution_count": 23
        },
        {
          "output_type": "display_data",
          "data": {
            "text/plain": [
              "<Figure size 432x288 with 1 Axes>"
            ],
            "image/png": "[encoded data removed]"
          },
          "metadata": {
            "needs_background": "light"
          }
        }
      ]
    },
    {
      "cell_type": "markdown",
      "source": [
        "# Visualization conclusions\n",
        "**Trends**\n",
        "\n",
        "From trend graph above, we could see there is an slight decresing  trend from week to week until March and july respectively."
      ],
      "metadata": {
        "id": "TcAGJDqsAoMZ"
      }
    },
    {
      "cell_type": "markdown",
      "source": [
        "# Overall conclusion \n",
        "I get the conclusion different argument with ransun's ,I conclude that the trend of step count will start with an decresing tendency in date with lower temperature. According to the visualization, autumns in Australia which would be a better preference for people to walk. Hence, people would take more step counts in summer like January and less steps in autumn or winter."
      ],
      "metadata": {
        "id": "STjFVqqrB2pI"
      }
    },
    {
      "cell_type": "markdown",
      "source": [
        "# Sub question for Pengyu Liu"
      ],
      "metadata": {
        "id": "68WUzAm0C5o7"
      }
    },
    {
      "cell_type": "markdown",
      "source": [
        "Does the steps for each week affect by season?"
      ],
      "metadata": {
        "id": "rtvAmcwvC90-"
      }
    },
    {
      "cell_type": "markdown",
      "source": [
        "\n",
        "With data from different months I wanted to explore if the seasons affect the number of steps, so I copied the previous dataset"
      ],
      "metadata": {
        "id": "0qAheRlLdOMU"
      }
    },
    {
      "cell_type": "code",
      "source": [
        "gb_month = weeksum.groupby([weeksum['Finish'].dt.isocalendar().week, weeksum['Finish'].dt.month]).mean().rename_axis(['week', 'month']).reset_index()\n",
        "gb_month.head()"
      ],
      "metadata": {
        "colab": {
          "base_uri": "https://localhost:8080/",
          "height": 206
        },
        "id": "chf95NEwb-Pt",
        "outputId": "a545cca6-3af8-4b6d-da06-48805e57a2d0"
      },
      "execution_count": 24,
      "outputs": [
        {
          "output_type": "execute_result",
          "data": {
            "text/plain": [
              "   week  month  Steps (count)\n",
              "0     1      1        48061.0\n",
              "1     2      1        45772.0\n",
              "2     3      1        64605.0\n",
              "3     4      1        52111.0\n",
              "4     5      2        52746.0"
            ],
            "text/html": [
              "\n",
              "  <div id=\"df-aace32af-b4d2-4225-80de-11273c454e88\">\n",
              "    <div class=\"colab-df-container\">\n",
              "      <div>\n",
              "<style scoped>\n",
              "    .dataframe tbody tr th:only-of-type {\n",
              "        vertical-align: middle;\n",
              "    }\n",
              "\n",
              "    .dataframe tbody tr th {\n",
              "        vertical-align: top;\n",
              "    }\n",
              "\n",
              "    .dataframe thead th {\n",
              "        text-align: right;\n",
              "    }\n",
              "</style>\n",
              "<table border=\"1\" class=\"dataframe\">\n",
              "  <thead>\n",
              "    <tr style=\"text-align: right;\">\n",
              "      <th></th>\n",
              "      <th>week</th>\n",
              "      <th>month</th>\n",
              "      <th>Steps (count)</th>\n",
              "    </tr>\n",
              "  </thead>\n",
              "  <tbody>\n",
              "    <tr>\n",
              "      <th>0</th>\n",
              "      <td>1</td>\n",
              "      <td>1</td>\n",
              "      <td>48061.0</td>\n",
              "    </tr>\n",
              "    <tr>\n",
              "      <th>1</th>\n",
              "      <td>2</td>\n",
              "      <td>1</td>\n",
              "      <td>45772.0</td>\n",
              "    </tr>\n",
              "    <tr>\n",
              "      <th>2</th>\n",
              "      <td>3</td>\n",
              "      <td>1</td>\n",
              "      <td>64605.0</td>\n",
              "    </tr>\n",
              "    <tr>\n",
              "      <th>3</th>\n",
              "      <td>4</td>\n",
              "      <td>1</td>\n",
              "      <td>52111.0</td>\n",
              "    </tr>\n",
              "    <tr>\n",
              "      <th>4</th>\n",
              "      <td>5</td>\n",
              "      <td>2</td>\n",
              "      <td>52746.0</td>\n",
              "    </tr>\n",
              "  </tbody>\n",
              "</table>\n",
              "</div>\n",
              "      <button class=\"colab-df-convert\" onclick=\"convertToInteractive('df-aace32af-b4d2-4225-80de-11273c454e88')\"\n",
              "              title=\"Convert this dataframe to an interactive table.\"\n",
              "              style=\"display:none;\">\n",
              "        \n",
              "  <svg xmlns=\"http://www.w3.org/2000/svg\" height=\"24px\"viewBox=\"0 0 24 24\"\n",
              "       width=\"24px\">\n",
              "    <path d=\"M0 0h24v24H0V0z\" fill=\"none\"/>\n",
              "    <path d=\"M18.56 5.44l.94 2.06.94-2.06 2.06-.94-2.06-.94-.94-2.06-.94 2.06-2.06.94zm-11 1L8.5 8.5l.94-2.06 2.06-.94-2.06-.94L8.5 2.5l-.94 2.06-2.06.94zm10 10l.94 2.06.94-2.06 2.06-.94-2.06-.94-.94-2.06-.94 2.06-2.06.94z\"/><path d=\"M17.41 7.96l-1.37-1.37c-.4-.4-.92-.59-1.43-.59-.52 0-1.04.2-1.43.59L10.3 9.45l-7.72 7.72c-.78.78-.78 2.05 0 2.83L4 21.41c.39.39.9.59 1.41.59.51 0 1.02-.2 1.41-.59l7.78-7.78 2.81-2.81c.8-.78.8-2.07 0-2.86zM5.41 20L4 18.59l7.72-7.72 1.47 1.35L5.41 20z\"/>\n",
              "  </svg>\n",
              "      </button>\n",
              "      \n",
              "  <style>\n",
              "    .colab-df-container {\n",
              "      display:flex;\n",
              "      flex-wrap:wrap;\n",
              "      gap: 12px;\n",
              "    }\n",
              "\n",
              "    .colab-df-convert {\n",
              "      background-color: #E8F0FE;\n",
              "      border: none;\n",
              "      border-radius: 50%;\n",
              "      cursor: pointer;\n",
              "      display: none;\n",
              "      fill: #1967D2;\n",
              "      height: 32px;\n",
              "      padding: 0 0 0 0;\n",
              "      width: 32px;\n",
              "    }\n",
              "\n",
              "    .colab-df-convert:hover {\n",
              "      background-color: #E2EBFA;\n",
              "      box-shadow: 0px 1px 2px rgba(60, 64, 67, 0.3), 0px 1px 3px 1px rgba(60, 64, 67, 0.15);\n",
              "      fill: #174EA6;\n",
              "    }\n",
              "\n",
              "    [theme=dark] .colab-df-convert {\n",
              "      background-color: #3B4455;\n",
              "      fill: #D2E3FC;\n",
              "    }\n",
              "\n",
              "    [theme=dark] .colab-df-convert:hover {\n",
              "      background-color: #434B5C;\n",
              "      box-shadow: 0px 1px 3px 1px rgba(0, 0, 0, 0.15);\n",
              "      filter: drop-shadow(0px 1px 2px rgba(0, 0, 0, 0.3));\n",
              "      fill: #FFFFFF;\n",
              "    }\n",
              "  </style>\n",
              "\n",
              "      <script>\n",
              "        const buttonEl =\n",
              "          document.querySelector('#df-aace32af-b4d2-4225-80de-11273c454e88 button.colab-df-convert');\n",
              "        buttonEl.style.display =\n",
              "          google.colab.kernel.accessAllowed ? 'block' : 'none';\n",
              "\n",
              "        async function convertToInteractive(key) {\n",
              "          const element = document.querySelector('#df-aace32af-b4d2-4225-80de-11273c454e88');\n",
              "          const dataTable =\n",
              "            await google.colab.kernel.invokeFunction('convertToInteractive',\n",
              "                                                     [key], {});\n",
              "          if (!dataTable) return;\n",
              "\n",
              "          const docLinkHtml = 'Like what you see? Visit the ' +\n",
              "            '<a target=\"_blank\" href=https://colab.research.google.com/notebooks/data_table.ipynb>data table notebook</a>'\n",
              "            + ' to learn more about interactive tables.';\n",
              "          element.innerHTML = '';\n",
              "          dataTable['output_type'] = 'display_data';\n",
              "          await google.colab.output.renderOutput(dataTable, element);\n",
              "          const docLink = document.createElement('div');\n",
              "          docLink.innerHTML = docLinkHtml;\n",
              "          element.appendChild(docLink);\n",
              "        }\n",
              "      </script>\n",
              "    </div>\n",
              "  </div>\n",
              "  "
            ]
          },
          "metadata": {},
          "execution_count": 24
        }
      ]
    },
    {
      "cell_type": "code",
      "source": [
        "season = gb_month.copy()\n",
        "season['month'] = season['month'].replace([9,10,11], 'Spring')\n",
        "season['month'] = season['month'].replace([12,1,2], 'Summer')\n",
        "season['month'] = season['month'].replace([3,4,5], 'Fall')\n",
        "season['month'] = season['month'].replace([6,7,8], 'Winter')"
      ],
      "metadata": {
        "id": "koyrKZyVcmFH"
      },
      "execution_count": 25,
      "outputs": []
    },
    {
      "cell_type": "markdown",
      "source": [
        "Now we have successfully transformed every three months into a seasonal format\n",
        "\n",
        "Change the schema name"
      ],
      "metadata": {
        "id": "IfMcOUAXdI1V"
      }
    },
    {
      "cell_type": "code",
      "source": [
        "season.rename({\"Steps (count)\":\"sum of steps\"}, axis = 1, inplace = True)\n",
        "season.rename({\"month\":\"season\"}, axis = 1, inplace = True)"
      ],
      "metadata": {
        "id": "qA-ZG6ZvdF89"
      },
      "execution_count": 26,
      "outputs": []
    },
    {
      "cell_type": "code",
      "source": [
        "gb_season = season.groupby(['season','week']).mean() #We have grouped the averages of different seasons and weeks\n",
        "\n",
        "gb_season.head()"
      ],
      "metadata": {
        "colab": {
          "base_uri": "https://localhost:8080/",
          "height": 238
        },
        "id": "9VfQDwFkdV9Z",
        "outputId": "a35c2942-18d2-48de-a2d7-b30b72b9da89"
      },
      "execution_count": 27,
      "outputs": [
        {
          "output_type": "execute_result",
          "data": {
            "text/plain": [
              "             sum of steps\n",
              "season week              \n",
              "Fall   9          51290.0\n",
              "       10         53692.0\n",
              "       11         56876.0\n",
              "       12         67035.0\n",
              "       13         54875.0"
            ],
            "text/html": [
              "\n",
              "  <div id=\"df-a3e8cc3c-a770-4d9b-954c-db4e530a9e96\">\n",
              "    <div class=\"colab-df-container\">\n",
              "      <div>\n",
              "<style scoped>\n",
              "    .dataframe tbody tr th:only-of-type {\n",
              "        vertical-align: middle;\n",
              "    }\n",
              "\n",
              "    .dataframe tbody tr th {\n",
              "        vertical-align: top;\n",
              "    }\n",
              "\n",
              "    .dataframe thead th {\n",
              "        text-align: right;\n",
              "    }\n",
              "</style>\n",
              "<table border=\"1\" class=\"dataframe\">\n",
              "  <thead>\n",
              "    <tr style=\"text-align: right;\">\n",
              "      <th></th>\n",
              "      <th></th>\n",
              "      <th>sum of steps</th>\n",
              "    </tr>\n",
              "    <tr>\n",
              "      <th>season</th>\n",
              "      <th>week</th>\n",
              "      <th></th>\n",
              "    </tr>\n",
              "  </thead>\n",
              "  <tbody>\n",
              "    <tr>\n",
              "      <th rowspan=\"5\" valign=\"top\">Fall</th>\n",
              "      <th>9</th>\n",
              "      <td>51290.0</td>\n",
              "    </tr>\n",
              "    <tr>\n",
              "      <th>10</th>\n",
              "      <td>53692.0</td>\n",
              "    </tr>\n",
              "    <tr>\n",
              "      <th>11</th>\n",
              "      <td>56876.0</td>\n",
              "    </tr>\n",
              "    <tr>\n",
              "      <th>12</th>\n",
              "      <td>67035.0</td>\n",
              "    </tr>\n",
              "    <tr>\n",
              "      <th>13</th>\n",
              "      <td>54875.0</td>\n",
              "    </tr>\n",
              "  </tbody>\n",
              "</table>\n",
              "</div>\n",
              "      <button class=\"colab-df-convert\" onclick=\"convertToInteractive('df-a3e8cc3c-a770-4d9b-954c-db4e530a9e96')\"\n",
              "              title=\"Convert this dataframe to an interactive table.\"\n",
              "              style=\"display:none;\">\n",
              "        \n",
              "  <svg xmlns=\"http://www.w3.org/2000/svg\" height=\"24px\"viewBox=\"0 0 24 24\"\n",
              "       width=\"24px\">\n",
              "    <path d=\"M0 0h24v24H0V0z\" fill=\"none\"/>\n",
              "    <path d=\"M18.56 5.44l.94 2.06.94-2.06 2.06-.94-2.06-.94-.94-2.06-.94 2.06-2.06.94zm-11 1L8.5 8.5l.94-2.06 2.06-.94-2.06-.94L8.5 2.5l-.94 2.06-2.06.94zm10 10l.94 2.06.94-2.06 2.06-.94-2.06-.94-.94-2.06-.94 2.06-2.06.94z\"/><path d=\"M17.41 7.96l-1.37-1.37c-.4-.4-.92-.59-1.43-.59-.52 0-1.04.2-1.43.59L10.3 9.45l-7.72 7.72c-.78.78-.78 2.05 0 2.83L4 21.41c.39.39.9.59 1.41.59.51 0 1.02-.2 1.41-.59l7.78-7.78 2.81-2.81c.8-.78.8-2.07 0-2.86zM5.41 20L4 18.59l7.72-7.72 1.47 1.35L5.41 20z\"/>\n",
              "  </svg>\n",
              "      </button>\n",
              "      \n",
              "  <style>\n",
              "    .colab-df-container {\n",
              "      display:flex;\n",
              "      flex-wrap:wrap;\n",
              "      gap: 12px;\n",
              "    }\n",
              "\n",
              "    .colab-df-convert {\n",
              "      background-color: #E8F0FE;\n",
              "      border: none;\n",
              "      border-radius: 50%;\n",
              "      cursor: pointer;\n",
              "      display: none;\n",
              "      fill: #1967D2;\n",
              "      height: 32px;\n",
              "      padding: 0 0 0 0;\n",
              "      width: 32px;\n",
              "    }\n",
              "\n",
              "    .colab-df-convert:hover {\n",
              "      background-color: #E2EBFA;\n",
              "      box-shadow: 0px 1px 2px rgba(60, 64, 67, 0.3), 0px 1px 3px 1px rgba(60, 64, 67, 0.15);\n",
              "      fill: #174EA6;\n",
              "    }\n",
              "\n",
              "    [theme=dark] .colab-df-convert {\n",
              "      background-color: #3B4455;\n",
              "      fill: #D2E3FC;\n",
              "    }\n",
              "\n",
              "    [theme=dark] .colab-df-convert:hover {\n",
              "      background-color: #434B5C;\n",
              "      box-shadow: 0px 1px 3px 1px rgba(0, 0, 0, 0.15);\n",
              "      filter: drop-shadow(0px 1px 2px rgba(0, 0, 0, 0.3));\n",
              "      fill: #FFFFFF;\n",
              "    }\n",
              "  </style>\n",
              "\n",
              "      <script>\n",
              "        const buttonEl =\n",
              "          document.querySelector('#df-a3e8cc3c-a770-4d9b-954c-db4e530a9e96 button.colab-df-convert');\n",
              "        buttonEl.style.display =\n",
              "          google.colab.kernel.accessAllowed ? 'block' : 'none';\n",
              "\n",
              "        async function convertToInteractive(key) {\n",
              "          const element = document.querySelector('#df-a3e8cc3c-a770-4d9b-954c-db4e530a9e96');\n",
              "          const dataTable =\n",
              "            await google.colab.kernel.invokeFunction('convertToInteractive',\n",
              "                                                     [key], {});\n",
              "          if (!dataTable) return;\n",
              "\n",
              "          const docLinkHtml = 'Like what you see? Visit the ' +\n",
              "            '<a target=\"_blank\" href=https://colab.research.google.com/notebooks/data_table.ipynb>data table notebook</a>'\n",
              "            + ' to learn more about interactive tables.';\n",
              "          element.innerHTML = '';\n",
              "          dataTable['output_type'] = 'display_data';\n",
              "          await google.colab.output.renderOutput(dataTable, element);\n",
              "          const docLink = document.createElement('div');\n",
              "          docLink.innerHTML = docLinkHtml;\n",
              "          element.appendChild(docLink);\n",
              "        }\n",
              "      </script>\n",
              "    </div>\n",
              "  </div>\n",
              "  "
            ]
          },
          "metadata": {},
          "execution_count": 27
        }
      ]
    },
    {
      "cell_type": "code",
      "source": [
        "#Let the data of the corresponding season be stored in the corresponding variable name\n",
        "spring = gb_season.iloc[gb_season.index.get_level_values('season') == 'Spring'].reset_index() \n",
        "summer = gb_season.iloc[gb_season.index.get_level_values('season') == 'Summer'].reset_index()\n",
        "fall = gb_season.iloc[gb_season.index.get_level_values('season') == 'Fall'].reset_index()\n",
        "winter = gb_season.iloc[gb_season.index.get_level_values('season') == 'Winter'].reset_index()"
      ],
      "metadata": {
        "id": "Zgaj3-v9dgrO"
      },
      "execution_count": 28,
      "outputs": []
    },
    {
      "cell_type": "code",
      "source": [
        "fig, ax = plt.subplots(2, 2, figsize=(20, 15)) #set a 2x2 figure table to show the 4 different seasons\n",
        "\n",
        "plt.subplot(2,2,1) # to be the first 1 (top left)\n",
        "plt.hist(x = spring['week'], weights = spring['sum of steps'], bins = 25)\n",
        "ax = plt.gca()\n",
        "ax.set_ylim([0, 250000])\n",
        "plt.title('SPRING')\n",
        "\n",
        "plt.subplot(2,2,2) # to be the first 1 (top right)\n",
        "plt.hist(x = summer['week'], weights = summer['sum of steps'], bins = 25)\n",
        "ax = plt.gca()\n",
        "ax.set_ylim([0, 250000])\n",
        "plt.title('SUMMER')\n",
        "\n",
        "plt.subplot(2,2,3) # to be the first 1 (bottom left)\n",
        "plt.hist(x = fall['week'], weights = fall['sum of steps'], bins = 25)\n",
        "ax = plt.gca()\n",
        "ax.set_ylim([0, 250000])\n",
        "plt.title('FALL')\n",
        "\n",
        "plt.subplot(2,2,4) # to be the first 1 (bottom right)\n",
        "plt.hist(x = winter['week'], weights = winter['sum of steps'], bins = 25)\n",
        "ax = plt.gca()\n",
        "ax.set_ylim([0, 250000])\n",
        "plt.title('WINTER')\n",
        "\n",
        "plt.suptitle('Average Steps during the weeks in Seasons', fontsize=30)"
      ],
      "metadata": {
        "colab": {
          "base_uri": "https://localhost:8080/",
          "height": 959
        },
        "id": "IoWykxktdien",
        "outputId": "72d3ba89-ee13-4ee8-a566-44d4ea62f03f"
      },
      "execution_count": 29,
      "outputs": [
        {
          "output_type": "execute_result",
          "data": {
            "text/plain": [
              "Text(0.5, 0.98, 'Average Steps during the weeks in Seasons')"
            ]
          },
          "metadata": {},
          "execution_count": 29
        },
        {
          "output_type": "display_data",
          "data": {
            "text/plain": [
              "<Figure size 1440x1080 with 4 Axes>"
            ],
            "image/png": "[encoded data removed]"
          },
          "metadata": {
            "needs_background": "light"
          }
        }
      ]
    },
    {
      "cell_type": "markdown",
      "source": [
        "# Overall conclusion"
      ],
      "metadata": {
        "id": "gDIBWJ_Id6bx"
      }
    },
    {
      "cell_type": "markdown",
      "source": [
        "\n",
        "From the above figure, we can see that the distribution of steps in spring and summer is relatively uniform and similar, while in autumn and winter, there is a huge gap between the first few weeks of winter and other weeks, and only one week of data in autumn exists. I think This is related to the incompleteness of the data. The step count data after September is missing. We will continue to explore and solve this problem.\n",
        "\n",
        "Because the data is not complete in one year, the data in Spring and Summer is missing and it is impossible to observe the trend, so I decided to delete the images them to compare the trend of weekly steps in Fall and Winter."
      ],
      "metadata": {
        "id": "ltvTgpiCdrqt"
      }
    },
    {
      "cell_type": "markdown",
      "source": [
        "# Sub question for Lixin Mu"
      ],
      "metadata": {
        "id": "vS7fevgGd-vU"
      }
    },
    {
      "cell_type": "markdown",
      "source": [
        "Are students less active during the exam week?"
      ],
      "metadata": {
        "id": "qQa2X03Rejpi"
      }
    },
    {
      "cell_type": "code",
      "source": [
        "x = weeksum['Finish']\n",
        "y = weeksum['Steps (count)']# define the variable\n",
        "color1 = '#0085c3'\n",
        "color2 = '#7ab800'\n",
        "color3 = '#dc5034' # define the color\n",
        "fig = plt.figure(figsize=(10, 8))\n",
        "ax = fig.add_subplot(111) # set the size of the image\n",
        "ax.plot(x, y, marker='o', color=color1) # draw the plot\n",
        "y2 = y.rolling(7).mean() # calculate week trend\n",
        "ax.plot(x, y2, ls='--', color=color2, label='week average') # draw trend\n",
        "ax.hlines(y.mean(), x[0], x[-1:],\n",
        "          linestyles='-.', colors=color3) # draw average\n",
        "ax.text(x[-1:], y.mean()-2,\n",
        "        'average: ' + str(round(y.mean(),1)),\n",
        "        color=color3, fontsize=12) # indicate average\n",
        "import matplotlib as mpl\n",
        "xlocator = mpl.ticker.MultipleLocator(8)\n",
        "ax.xaxis.set_major_locator(xlocator)\n",
        "plt.xticks(rotation=45) # adjust x plot"
      ],
      "metadata": {
        "colab": {
          "base_uri": "https://localhost:8080/",
          "height": 628
        },
        "id": "-2vleejddoSU",
        "outputId": "b50edca5-235c-48ce-97d3-f4f1f7045865"
      },
      "execution_count": 30,
      "outputs": [
        {
          "output_type": "execute_result",
          "data": {
            "text/plain": [
              "(array([738144., 738152., 738160., 738168., 738176., 738184., 738192.,\n",
              "        738200., 738208., 738216., 738224., 738232., 738240., 738248.,\n",
              "        738256., 738264., 738272., 738280., 738288., 738296., 738304.,\n",
              "        738312., 738320., 738328., 738336., 738344., 738352., 738360.,\n",
              "        738368., 738376., 738384., 738392., 738400., 738408., 738416.,\n",
              "        738424., 738432.]), <a list of 37 Text major ticklabel objects>)"
            ]
          },
          "metadata": {},
          "execution_count": 30
        },
        {
          "output_type": "display_data",
          "data": {
            "text/plain": [
              "<Figure size 720x576 with 1 Axes>"
            ],
            "image/png": "[encoded data removed]"
          },
          "metadata": {
            "needs_background": "light"
          }
        }
      ]
    },
    {
      "cell_type": "markdown",
      "source": [
        "# Conclusion\n",
        "Participant 7 also shows no relationship to walk during exam week. Step counts for exam week are above average and indicates clear sign of active."
      ],
      "metadata": {
        "id": "qxTo5a8qqsjk"
      }
    },
    {
      "cell_type": "markdown",
      "source": [
        "# Sub question for Yuxiang Ji"
      ],
      "metadata": {
        "id": "tFJzqpcHruWS"
      }
    },
    {
      "cell_type": "markdown",
      "source": [],
      "metadata": {
        "id": "G_qSJTp-rzVW"
      }
    },
    {
      "cell_type": "code",
      "source": [
        "Week7_j = pd.read_csv(\"/content/drive/MyDrive/Colab Notebooks/Weeks_and_steps7.csv\")"
      ],
      "metadata": {
        "id": "vyoc4_ixDbfK"
      },
      "execution_count": 42,
      "outputs": []
    },
    {
      "cell_type": "code",
      "source": [
        "x = Week7_j.drop(columns='Sedentary')\n",
        "y = Week7_j['Sedentary']"
      ],
      "metadata": {
        "id": "ZtdND35rDy8i"
      },
      "execution_count": 43,
      "outputs": []
    },
    {
      "cell_type": "code",
      "source": [
        "x_train,x_test,y_train,y_test = train_test_split(x, y, test_size = 0.5) # I selected 50% of data for testing. Temporarily set random sampling.\n"
      ],
      "metadata": {
        "id": "MGTrzYBuEBv6"
      },
      "execution_count": 44,
      "outputs": []
    },
    {
      "cell_type": "code",
      "source": [
        "model = LogisticRegression()\n",
        "# model = model.fit(x_train, y_train)\n",
        "# model"
      ],
      "metadata": {
        "id": "DTllQ5nSEeyt"
      },
      "execution_count": 46,
      "outputs": []
    },
    {
      "cell_type": "markdown",
      "source": [
        "# Overall conclusion "
      ],
      "metadata": {
        "id": "yDiLVp6AKxXq"
      }
    },
    {
      "cell_type": "markdown",
      "source": [
        "Through the data analyse, I find that my dataset cannot be predicted by his sub question.As he set the level of steps to determined health and my data all below the level of health,so I cannot do the sub question."
      ],
      "metadata": {
        "id": "at3Am2vMKQr2"
      }
    }
  ]
}